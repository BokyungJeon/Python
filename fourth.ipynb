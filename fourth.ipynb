{
 "cells": [
  {
   "cell_type": "code",
   "execution_count": 1,
   "metadata": {},
   "outputs": [],
   "source": [
    "name = [\"권순규\", \"김경완\", \"김유정\", \"김민창\", \"김병준\", \"박진희\",\n",
    "        \"김재용\", \"문종후\", \"양대민\", \"옥수미\"]\n",
    "\n",
    "numList = [1, 2, 3, 4, 5, 6, 7, 8, 9, 12]\n",
    "\n",
    "# 위 코드는 이름과 추첨 번호 리스트 데이터"
   ]
  },
  {
   "cell_type": "code",
   "execution_count": 2,
   "metadata": {},
   "outputs": [
    {
     "name": "stdout",
     "output_type": "stream",
     "text": [
      "['권순규', '김경완', '김유정', '김민창', '김병준', '박진희', '김재용', '문종후', '양대민', '옥수미']\n",
      "[1, 2, 3, 4, 5, 6, 7, 8, 9, 12]\n"
     ]
    }
   ],
   "source": [
    "print(name)\n",
    "print(numList)"
   ]
  },
  {
   "cell_type": "code",
   "execution_count": 3,
   "metadata": {},
   "outputs": [
    {
     "name": "stdout",
     "output_type": "stream",
     "text": [
      "1\n"
     ]
    }
   ],
   "source": [
    "# 랜덤 숫자 테스트\n",
    "import random as rand\n",
    "\n",
    "# 0 ~ 9사이의 랜덤한 숫자 출력\n",
    "num = rand.randrange(10)\n",
    "print(num)"
   ]
  },
  {
   "cell_type": "code",
   "execution_count": 4,
   "metadata": {},
   "outputs": [
    {
     "name": "stdout",
     "output_type": "stream",
     "text": [
      "{'김민창': 3}\n"
     ]
    }
   ],
   "source": [
    "# 딕셔너리 만드어서 출력해보기\n",
    "testDict = {}\n",
    "testDict[name[3]] = 3\n",
    "print(testDict)"
   ]
  },
  {
   "cell_type": "code",
   "execution_count": 9,
   "metadata": {},
   "outputs": [],
   "source": [
    "from goto import with_goto\n",
    "\n",
    "# 이름에 랜덤한 추첨번호 부여하기\n",
    "@with_goto\n",
    "def make_random_num_name():\n",
    "    allocNum = 0\n",
    "    realDict = {}\n",
    "    \n",
    "    while True:\n",
    "        label .restart\n",
    "        # randNum = rand.randrange(name)\n",
    "        # 사람 이름의 숫자를 범위로 랜덤값을 만든다.\n",
    "        randNum = rand.randrange(len(nam))\n",
    "        print(\"randNum =\", randNum)\n",
    "        print(\"numList[randNum] = \", numList[randNum])\n",
    "\n",
    "        # 딕셔너리에 있는 키, 밸류중 밸류값을 추출하여 numbers 로 넣는다.\n",
    "        for numbers in realDict.values():\n",
    "            # 만약 밸류값중 추첨 번호와 매칭되는 것이 있다면\n",
    "            # restart로 돌아가서 다시 추첨 번호를 받는다.\n",
    "            if numbers == numList[randNum]:\n",
    "                print(\"same number!\")\n",
    "                goto .restart\n",
    "\n",
    "        # 위의 조건들을 잘 통과했다면\n",
    "        # 중복이 없으므로 키값 이름에 밸류값(추첨번호)를 할당한다.\n",
    "        realDict[name[allocNum]] = numList[randNum]\n",
    "        print(realDict)\n",
    "        # 추첨번호를 할당했으므로 1을 올린다.\n",
    "        allocNum += 1\n",
    "\n",
    "        # if(allocNum == 10):\n",
    "        # 실제 사람숫자만큼 모든 추첨번호를 할당했을 경우\n",
    "        if(allocNum == len(name)):\n",
    "            break;\n",
    "            \n",
    "#make_random_num_name()"
   ]
  },
  {
   "cell_type": "code",
   "execution_count": 10,
   "metadata": {},
   "outputs": [],
   "source": [
    "name = [\"이민호\", \"이성희\", \"이진호\", \"이우영\", \"장민철\",\n",
    "        \"정희건\", \"전보경\", \"조동준\", \"최민근\", \"전지연\"]\n",
    "\n",
    "numList = [1, 2, 3, 4, 5, 8, 9, 10, 11, 12]"
   ]
  },
  {
   "cell_type": "code",
   "execution_count": 7,
   "metadata": {},
   "outputs": [],
   "source": [
    "# 1팀\n",
    "# 권순규, 김경완, 김유정, 김민창, 김병준, 박진희\n",
    "\n",
    "# 2팀\n",
    "# 김재용, 문종후, 백주미, 양대민, 유영돈, 옥수미\n",
    "\n",
    "# 3팀\n",
    "# 이강산, 이민호, 이성희, 이승준, 이진호, 이우영\n",
    "\n",
    "# 4팀\n",
    "# 장민철, 정희건, 전보경, 조동준, 최민근, 전지연\n",
    "\n",
    "# 1반(i1)\n",
    "# 1팀, 2팀\n",
    "\n",
    "# 2반(i2)\n",
    "# 3팀, 4팀\n",
    "\n",
    "# 배치\n",
    "# i1\n",
    "\n",
    "# 1 \n",
    "#         2           3\n",
    "#         4           5\n",
    "# 6            7           8\n",
    "#         9\n",
    "# 10          11          12\n",
    "# ---------- 교탁 ----------\n",
    "\n",
    "# 10: 유영돈, 11: 백주미, 9:  권순규\n",
    "# 8:  김경완, 6:  김유정, 2:  김민창\n",
    "# 4:  김병준, 1:  박진희, 3:  김재용\n",
    "# 12:  문종후, 5:  양대민, 7:  옥수미\n",
    "\n",
    "# i2\n",
    "\n",
    "# 1        2        3\n",
    "#     4         5\n",
    "# 6        7        8\n",
    "#               9\n",
    "# 10       11       12\n",
    "\n",
    "# 이강산, 이민호, 이성희, 이승준, 이진호, 이우영\n",
    "# 장민철, 정희건, 전보경, 조동준, 최민근, 전지연\n",
    "\n",
    "# 6: 이강산, 7: 이승준"
   ]
  },
  {
   "cell_type": "code",
   "execution_count": 11,
   "metadata": {},
   "outputs": [
    {
     "name": "stdout",
     "output_type": "stream",
     "text": [
      "randNum = 2\n",
      "numList[randNum] =  3\n",
      "{'이민호': 3}\n",
      "randNum = 1\n",
      "numList[randNum] =  2\n",
      "{'이민호': 3, '이성희': 2}\n",
      "randNum = 6\n",
      "numList[randNum] =  9\n",
      "{'이민호': 3, '이성희': 2, '이진호': 9}\n",
      "randNum = 4\n",
      "numList[randNum] =  5\n",
      "{'이민호': 3, '이성희': 2, '이진호': 9, '이우영': 5}\n",
      "randNum = 2\n",
      "numList[randNum] =  3\n",
      "same number!\n",
      "randNum = 5\n",
      "numList[randNum] =  8\n",
      "{'이민호': 3, '이성희': 2, '이진호': 9, '이우영': 5, '장민철': 8}\n",
      "randNum = 9\n",
      "numList[randNum] =  12\n",
      "{'이민호': 3, '이성희': 2, '이진호': 9, '이우영': 5, '장민철': 8, '정희건': 12}\n",
      "randNum = 9\n",
      "numList[randNum] =  12\n",
      "same number!\n",
      "randNum = 3\n",
      "numList[randNum] =  4\n",
      "{'이민호': 3, '이성희': 2, '이진호': 9, '이우영': 5, '장민철': 8, '정희건': 12, '전보경': 4}\n",
      "randNum = 4\n",
      "numList[randNum] =  5\n",
      "same number!\n",
      "randNum = 6\n",
      "numList[randNum] =  9\n",
      "same number!\n",
      "randNum = 6\n",
      "numList[randNum] =  9\n",
      "same number!\n",
      "randNum = 0\n",
      "numList[randNum] =  1\n",
      "{'이민호': 3, '이성희': 2, '이진호': 9, '이우영': 5, '장민철': 8, '정희건': 12, '전보경': 4, '조동준': 1}\n",
      "randNum = 5\n",
      "numList[randNum] =  8\n",
      "same number!\n",
      "randNum = 2\n",
      "numList[randNum] =  3\n",
      "same number!\n",
      "randNum = 9\n",
      "numList[randNum] =  12\n",
      "same number!\n",
      "randNum = 8\n",
      "numList[randNum] =  11\n",
      "{'이민호': 3, '이성희': 2, '이진호': 9, '이우영': 5, '장민철': 8, '정희건': 12, '전보경': 4, '조동준': 1, '최민근': 11}\n",
      "randNum = 0\n",
      "numList[randNum] =  1\n",
      "same number!\n",
      "randNum = 8\n",
      "numList[randNum] =  11\n",
      "same number!\n",
      "randNum = 7\n",
      "numList[randNum] =  10\n",
      "{'이민호': 3, '이성희': 2, '이진호': 9, '이우영': 5, '장민철': 8, '정희건': 12, '전보경': 4, '조동준': 1, '최민근': 11, '전지연': 10}\n"
     ]
    }
   ],
   "source": [
    "make_random_num_name()"
   ]
  },
  {
   "cell_type": "code",
   "execution_count": null,
   "metadata": {},
   "outputs": [],
   "source": []
  }
 ],
 "metadata": {
  "kernelspec": {
   "display_name": "Python 3",
   "language": "python",
   "name": "python3"
  },
  "language_info": {
   "codemirror_mode": {
    "name": "ipython",
    "version": 3
   },
   "file_extension": ".py",
   "mimetype": "text/x-python",
   "name": "python",
   "nbconvert_exporter": "python",
   "pygments_lexer": "ipython3",
   "version": "3.7.6"
  }
 },
 "nbformat": 4,
 "nbformat_minor": 4
}
