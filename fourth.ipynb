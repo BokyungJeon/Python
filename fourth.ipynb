{
 "cells": [
  {
   "cell_type": "code",
   "execution_count": 2,
   "metadata": {},
   "outputs": [],
   "source": [
    "name = [\"권순규\", \"김경완\", \"김유정\", \"김민창\", \"김병준\", \"박진희\",\n",
    "        \"김재용\", \"문종후\", \"양대민\", \"옥수미\"]\n",
    "\n",
    "numList = [1, 2, 3, 4, 5, 6, 7, 8, 9, 12]"
   ]
  },
  {
   "cell_type": "code",
   "execution_count": 3,
   "metadata": {},
   "outputs": [
    {
     "name": "stdout",
     "output_type": "stream",
     "text": [
      "['권순규', '김경완', '김유정', '김민창', '김병준', '박진희', '김재용', '문종후', '양대민', '옥수미']\n",
      "[1, 2, 3, 4, 5, 6, 7, 8, 9, 12]\n"
     ]
    }
   ],
   "source": [
    "print(name)\n",
    "print(numList)"
   ]
  },
  {
   "cell_type": "code",
   "execution_count": 8,
   "metadata": {},
   "outputs": [
    {
     "name": "stdout",
     "output_type": "stream",
     "text": [
      "3\n"
     ]
    }
   ],
   "source": [
    "import random as rand\n",
    "\n",
    "num = rand.randrange(10)\n",
    "print(num)"
   ]
  },
  {
   "cell_type": "code",
   "execution_count": 19,
   "metadata": {},
   "outputs": [
    {
     "name": "stdout",
     "output_type": "stream",
     "text": [
      "{'김민창': 3}\n"
     ]
    }
   ],
   "source": [
    "testDict = {}\n",
    "testDict[name[3]] = 3\n",
    "print(testDict)"
   ]
  },
  {
   "cell_type": "code",
   "execution_count": 25,
   "metadata": {},
   "outputs": [
    {
     "name": "stdout",
     "output_type": "stream",
     "text": [
      "randNum = 8\n",
      "{'권순규': 8}\n",
      "randNum = 7\n",
      "{'권순규': 8, '김경완': 7}\n",
      "randNum = 5\n",
      "{'권순규': 8, '김경완': 7, '김유정': 5}\n",
      "randNum = 8\n",
      "same number!\n",
      "randNum = 1\n",
      "{'권순규': 8, '김경완': 7, '김유정': 5, '김민창': 1}\n",
      "randNum = 8\n",
      "same number!\n",
      "randNum = 3\n",
      "{'권순규': 8, '김경완': 7, '김유정': 5, '김민창': 1, '김병준': 3}\n",
      "randNum = 1\n",
      "same number!\n",
      "randNum = 0\n",
      "{'권순규': 8, '김경완': 7, '김유정': 5, '김민창': 1, '김병준': 3, '박진희': 0}\n",
      "randNum = 5\n",
      "same number!\n",
      "randNum = 2\n",
      "{'권순규': 8, '김경완': 7, '김유정': 5, '김민창': 1, '김병준': 3, '박진희': 0, '김재용': 2}\n",
      "randNum = 1\n",
      "same number!\n",
      "randNum = 1\n",
      "same number!\n",
      "randNum = 5\n",
      "same number!\n",
      "randNum = 9\n",
      "{'권순규': 8, '김경완': 7, '김유정': 5, '김민창': 1, '김병준': 3, '박진희': 0, '김재용': 2, '문종후': 9}\n",
      "randNum = 4\n",
      "{'권순규': 8, '김경완': 7, '김유정': 5, '김민창': 1, '김병준': 3, '박진희': 0, '김재용': 2, '문종후': 9, '양대민': 4}\n",
      "randNum = 6\n",
      "{'권순규': 8, '김경완': 7, '김유정': 5, '김민창': 1, '김병준': 3, '박진희': 0, '김재용': 2, '문종후': 9, '양대민': 4, '옥수미': 6}\n"
     ]
    }
   ],
   "source": [
    "from goto import with_goto\n",
    "\n",
    "@with_goto\n",
    "def make_random_num_name():\n",
    "    allocNum = 0\n",
    "    realDict = {}\n",
    "    \n",
    "    while True:\n",
    "        label .restart\n",
    "        randNum = rand.randrange(10)\n",
    "        print(\"randNum =\", randNum)\n",
    "\n",
    "        for numbers in realDict.values():\n",
    "            if numbers == randNum:\n",
    "                print(\"same number!\")\n",
    "                goto .restart\n",
    "\n",
    "        realDict[name[allocNum]] = randNum\n",
    "        print(realDict)\n",
    "        allocNum += 1\n",
    "\n",
    "        if(allocNum == 10):\n",
    "            break;\n",
    "            \n",
    "make_random_num_name()"
   ]
  },
  {
   "cell_type": "code",
   "execution_count": null,
   "metadata": {},
   "outputs": [],
   "source": []
  }
 ],
 "metadata": {
  "kernelspec": {
   "display_name": "Python 3",
   "language": "python",
   "name": "python3"
  },
  "language_info": {
   "codemirror_mode": {
    "name": "ipython",
    "version": 3
   },
   "file_extension": ".py",
   "mimetype": "text/x-python",
   "name": "python",
   "nbconvert_exporter": "python",
   "pygments_lexer": "ipython3",
   "version": "3.7.6"
  }
 },
 "nbformat": 4,
 "nbformat_minor": 4
}
