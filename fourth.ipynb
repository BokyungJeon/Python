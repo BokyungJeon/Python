{
 "cells": [
  {
   "cell_type": "code",
   "execution_count": 2,
   "metadata": {},
   "outputs": [],
   "source": [
    "name = [\"권순규\", \"김경완\", \"김유정\", \"김민창\", \"김병준\", \"박진희\",\n",
    "        \"김재용\", \"문종후\", \"양대민\", \"옥수미\"]\n",
    "\n",
    "numList = [1, 2, 3, 4, 5, 6, 7, 8, 9, 12]"
   ]
  },
  {
   "cell_type": "code",
   "execution_count": 3,
   "metadata": {},
   "outputs": [
    {
     "name": "stdout",
     "output_type": "stream",
     "text": [
      "['권순규', '김경완', '김유정', '김민창', '김병준', '박진희', '김재용', '문종후', '양대민', '옥수미']\n",
      "[1, 2, 3, 4, 5, 6, 7, 8, 9, 12]\n"
     ]
    }
   ],
   "source": [
    "print(name)\n",
    "print(numList)"
   ]
  },
  {
   "cell_type": "code",
   "execution_count": 8,
   "metadata": {},
   "outputs": [
    {
     "name": "stdout",
     "output_type": "stream",
     "text": [
      "3\n"
     ]
    }
   ],
   "source": [
    "import random as rand\n",
    "\n",
    "num = rand.randrange(10)\n",
    "print(num)"
   ]
  },
  {
   "cell_type": "code",
   "execution_count": 1,
   "metadata": {},
   "outputs": [
    {
     "ename": "NameError",
     "evalue": "name 'name' is not defined",
     "output_type": "error",
     "traceback": [
      "\u001b[1;31m---------------------------------------------------------------------------\u001b[0m",
      "\u001b[1;31mNameError\u001b[0m                                 Traceback (most recent call last)",
      "\u001b[1;32m<ipython-input-1-c5ced6d7edc0>\u001b[0m in \u001b[0;36m<module>\u001b[1;34m\u001b[0m\n\u001b[0;32m      1\u001b[0m \u001b[0mtestDict\u001b[0m \u001b[1;33m=\u001b[0m \u001b[1;33m{\u001b[0m\u001b[1;33m}\u001b[0m\u001b[1;33m\u001b[0m\u001b[1;33m\u001b[0m\u001b[0m\n\u001b[1;32m----> 2\u001b[1;33m \u001b[0mtestDict\u001b[0m\u001b[1;33m[\u001b[0m\u001b[0mname\u001b[0m\u001b[1;33m[\u001b[0m\u001b[1;36m3\u001b[0m\u001b[1;33m]\u001b[0m\u001b[1;33m]\u001b[0m \u001b[1;33m=\u001b[0m \u001b[1;36m3\u001b[0m\u001b[1;33m\u001b[0m\u001b[1;33m\u001b[0m\u001b[0m\n\u001b[0m\u001b[0;32m      3\u001b[0m \u001b[0mprint\u001b[0m\u001b[1;33m(\u001b[0m\u001b[0mtestDict\u001b[0m\u001b[1;33m)\u001b[0m\u001b[1;33m\u001b[0m\u001b[1;33m\u001b[0m\u001b[0m\n",
      "\u001b[1;31mNameError\u001b[0m: name 'name' is not defined"
     ]
    }
   ],
   "source": [
    "testDict = {}\n",
    "testDict[name[3]] = 3\n",
    "print(testDict)"
   ]
  },
  {
   "cell_type": "code",
   "execution_count": 2,
   "metadata": {},
   "outputs": [
    {
     "ename": "ModuleNotFoundError",
     "evalue": "No module named 'goto'",
     "output_type": "error",
     "traceback": [
      "\u001b[1;31m---------------------------------------------------------------------------\u001b[0m",
      "\u001b[1;31mModuleNotFoundError\u001b[0m                       Traceback (most recent call last)",
      "\u001b[1;32m<ipython-input-2-dda1116d1747>\u001b[0m in \u001b[0;36m<module>\u001b[1;34m\u001b[0m\n\u001b[1;32m----> 1\u001b[1;33m \u001b[1;32mfrom\u001b[0m \u001b[0mgoto\u001b[0m \u001b[1;32mimport\u001b[0m \u001b[0mwith_goto\u001b[0m\u001b[1;33m\u001b[0m\u001b[1;33m\u001b[0m\u001b[0m\n\u001b[0m\u001b[0;32m      2\u001b[0m \u001b[1;33m\u001b[0m\u001b[0m\n\u001b[0;32m      3\u001b[0m \u001b[1;33m@\u001b[0m\u001b[0mwith_goto\u001b[0m\u001b[1;33m\u001b[0m\u001b[1;33m\u001b[0m\u001b[0m\n\u001b[0;32m      4\u001b[0m \u001b[1;32mdef\u001b[0m \u001b[0mmake_random_num_name\u001b[0m\u001b[1;33m(\u001b[0m\u001b[1;33m)\u001b[0m\u001b[1;33m:\u001b[0m\u001b[1;33m\u001b[0m\u001b[1;33m\u001b[0m\u001b[0m\n\u001b[0;32m      5\u001b[0m     \u001b[0mallocNum\u001b[0m \u001b[1;33m=\u001b[0m \u001b[1;36m0\u001b[0m\u001b[1;33m\u001b[0m\u001b[1;33m\u001b[0m\u001b[0m\n",
      "\u001b[1;31mModuleNotFoundError\u001b[0m: No module named 'goto'"
     ]
    }
   ],
   "source": [
    "from goto import with_goto\n",
    "\n",
    "@with_goto\n",
    "def make_random_num_name():\n",
    "    allocNum = 0\n",
    "    realDict = {}\n",
    "    \n",
    "    while True:\n",
    "        label .restart\n",
    "        randNum = rand.randrange(10)\n",
    "        print(\"randNum =\", randNum)\n",
    "\n",
    "        for numbers in realDict.values():\n",
    "            if numbers == randNum:\n",
    "                print(\"same number!\")\n",
    "                goto .restart\n",
    "\n",
    "        realDict[name[allocNum]] = randNum\n",
    "        print(realDict)\n",
    "        allocNum += 1\n",
    "\n",
    "        if(allocNum == 10):\n",
    "            break;\n",
    "            \n",
    "#make_random_num_name()"
   ]
  },
  {
   "cell_type": "code",
   "execution_count": 26,
   "metadata": {},
   "outputs": [],
   "source": [
    "name = [\"이민호\", \"이성희\", \"이진호\", \"이우영\", \"장민철\",\n",
    "        \"정희건\", \"전보경\", \"조동준\", \"최민근\", \"전지연\"]\n",
    "\n",
    "numList = [1, 2, 3, 4, 5, 8, 9, 10, 11, 12]"
   ]
  },
  {
   "cell_type": "code",
   "execution_count": 27,
   "metadata": {},
   "outputs": [],
   "source": [
    "# 1팀\n",
    "# 권순규, 김경완, 김유정, 김민창, 김병준, 박진희\n",
    "\n",
    "# 2팀\n",
    "# 김재용, 문종후, 백주미, 양대민, 유영돈, 옥수미\n",
    "\n",
    "# 3팀\n",
    "# 이강산, 이민호, 이성희, 이승준, 이진호, 이우영\n",
    "\n",
    "# 4팀\n",
    "# 장민철, 정희건, 전보경, 조동준, 최민근, 전지연\n",
    "\n",
    "# 1반(i1)\n",
    "# 1팀, 2팀\n",
    "\n",
    "# 2반(i2)\n",
    "# 3팀, 4팀\n",
    "\n",
    "# 배치\n",
    "# i1\n",
    "\n",
    "# 1 \n",
    "#         2           3\n",
    "#         4           5\n",
    "# 6            7           8\n",
    "#         9\n",
    "# 10          11          12\n",
    "# ---------- 교탁 ----------\n",
    "\n",
    "# 10: 유영돈, 11: 백주미, 9:  권순규\n",
    "# 8:  김경완, 6:  김유정, 2:  김민창\n",
    "# 4:  김병준, 1:  박진희, 3:  김재용\n",
    "# 12:  문종후, 5:  양대민, 7:  옥수미\n",
    "\n",
    "# i2\n",
    "\n",
    "# 1        2        3\n",
    "#     4         5\n",
    "# 6        7        8\n",
    "#               9\n",
    "# 10       11       12\n",
    "\n",
    "# 이강산, 이민호, 이성희, 이승준, 이진호, 이우영\n",
    "# 장민철, 정희건, 전보경, 조동준, 최민근, 전지연\n",
    "\n",
    "# 6: 이강산, 7: 이승준"
   ]
  },
  {
   "cell_type": "code",
   "execution_count": null,
   "metadata": {},
   "outputs": [],
   "source": [
    "make_random_num_name()"
   ]
  },
  {
   "cell_type": "code",
   "execution_count": null,
   "metadata": {},
   "outputs": [],
   "source": []
  }
 ],
 "metadata": {
  "kernelspec": {
   "display_name": "Python 3",
   "language": "python",
   "name": "python3"
  },
  "language_info": {
   "codemirror_mode": {
    "name": "ipython",
    "version": 3
   },
   "file_extension": ".py",
   "mimetype": "text/x-python",
   "name": "python",
   "nbconvert_exporter": "python",
   "pygments_lexer": "ipython3",
   "version": "3.7.6"
  }
 },
 "nbformat": 4,
 "nbformat_minor": 4
}
