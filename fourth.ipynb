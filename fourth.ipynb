{
 "cells": [
  {
   "cell_type": "code",
   "execution_count": 1,
   "metadata": {},
   "outputs": [],
   "source": [
    "name = [\"권순규\", \"김경완\", \"김유정\", \"김민창\", \"김병준\", \"박진희\",\n",
    "        \"김재용\", \"문종후\", \"양대민\", \"옥수미\"]\n",
    "\n",
    "numList = [1, 2, 3, 4, 5, 6, 7, 8, 9, 12]\n",
    "\n",
    "# 위 코드는 이름과 추첨 번호 리스트 데이터"
   ]
  },
  {
   "cell_type": "code",
   "execution_count": 2,
   "metadata": {},
   "outputs": [
    {
     "name": "stdout",
     "output_type": "stream",
     "text": [
      "['권순규', '김경완', '김유정', '김민창', '김병준', '박진희', '김재용', '문종후', '양대민', '옥수미']\n",
      "[1, 2, 3, 4, 5, 6, 7, 8, 9, 12]\n"
     ]
    }
   ],
   "source": [
    "print(name)\n",
    "print(numList)"
   ]
  },
  {
   "cell_type": "code",
   "execution_count": 3,
   "metadata": {},
   "outputs": [
    {
     "name": "stdout",
     "output_type": "stream",
     "text": [
      "1\n"
     ]
    }
   ],
   "source": [
    "# 랜덤 숫자 테스트\n",
    "import random as rand\n",
    "\n",
    "# 0 ~ 9사이의 랜덤한 숫자 출력\n",
    "num = rand.randrange(10)\n",
    "print(num)"
   ]
  },
  {
   "cell_type": "code",
   "execution_count": 4,
   "metadata": {},
   "outputs": [
    {
     "name": "stdout",
     "output_type": "stream",
     "text": [
      "{'김민창': 3}\n"
     ]
    }
   ],
   "source": [
    "# 딕셔너리 만드어서 출력해보기\n",
    "testDict = {}\n",
    "testDict[name[3]] = 3\n",
    "print(testDict)"
   ]
  },
  {
   "cell_type": "code",
   "execution_count": 9,
   "metadata": {},
   "outputs": [],
   "source": [
    "from goto import with_goto\n",
    "\n",
    "# 이름에 랜덤한 추첨번호 부여하기\n",
    "@with_goto\n",
    "def make_random_num_name():\n",
    "    allocNum = 0\n",
    "    realDict = {}\n",
    "    \n",
    "    while True:\n",
    "        label .restart\n",
    "        # randNum = rand.randrange(name)\n",
    "        # 사람 이름의 숫자를 범위로 랜덤값을 만든다.\n",
    "        randNum = rand.randrange(len(nam))\n",
    "        print(\"randNum =\", randNum)\n",
    "        print(\"numList[randNum] = \", numList[randNum])\n",
    "\n",
    "        # 딕셔너리에 있는 키, 밸류중 밸류값을 추출하여 numbers 로 넣는다.\n",
    "        for numbers in realDict.values():\n",
    "            # 만약 밸류값중 추첨 번호와 매칭되는 것이 있다면\n",
    "            # restart로 돌아가서 다시 추첨 번호를 받는다.\n",
    "            if numbers == numList[randNum]:\n",
    "                print(\"same number!\")\n",
    "                goto .restart\n",
    "\n",
    "        # 위의 조건들을 잘 통과했다면\n",
    "        # 중복이 없으므로 키값 이름에 밸류값(추첨번호)를 할당한다.\n",
    "        realDict[name[allocNum]] = numList[randNum]\n",
    "        print(realDict)\n",
    "        # 추첨번호를 할당했으므로 1을 올린다.\n",
    "        allocNum += 1\n",
    "\n",
    "        # if(allocNum == 10):\n",
    "        # 실제 사람숫자만큼 모든 추첨번호를 할당했을 경우\n",
    "        if(allocNum == len(name)):\n",
    "            break;\n",
    "            \n",
    "#make_random_num_name()"
   ]
  },
  {
   "cell_type": "code",
   "execution_count": 10,
   "metadata": {},
   "outputs": [],
   "source": [
    "name = [\"이민호\", \"이성희\", \"이진호\", \"이우영\", \"장민철\",\n",
    "        \"정희건\", \"전보경\", \"조동준\", \"최민근\", \"전지연\"]\n",
    "\n",
    "numList = [1, 2, 3, 4, 5, 8, 9, 10, 11, 12]"
   ]
  },
  {
   "cell_type": "code",
   "execution_count": 7,
   "metadata": {},
   "outputs": [],
   "source": [
    "# 1팀\n",
    "# 권순규, 김경완, 김유정, 김민창, 김병준, 박진희\n",
    "\n",
    "# 2팀\n",
    "# 김재용, 문종후, 백주미, 양대민, 유영돈, 옥수미\n",
    "\n",
    "# 3팀\n",
    "# 이강산, 이민호, 이성희, 이승준, 이진호, 이우영\n",
    "\n",
    "# 4팀\n",
    "# 장민철, 정희건, 전보경, 조동준, 최민근, 전지연\n",
    "\n",
    "# 1반(i1)\n",
    "# 1팀, 2팀\n",
    "\n",
    "# 2반(i2)\n",
    "# 3팀, 4팀\n",
    "\n",
    "# 배치\n",
    "# i1\n",
    "\n",
    "# 1 \n",
    "#         2           3\n",
    "#         4           5\n",
    "# 6            7           8\n",
    "#         9\n",
    "# 10          11          12\n",
    "# ---------- 교탁 ----------\n",
    "\n",
    "# 10: 유영돈, 11: 백주미, 9:  권순규\n",
    "# 8:  김경완, 6:  김유정, 2:  김민창\n",
    "# 4:  김병준, 1:  박진희, 3:  김재용\n",
    "# 12:  문종후, 5:  양대민, 7:  옥수미\n",
    "\n",
    "# i2\n",
    "\n",
    "# 1        2        3\n",
    "#     4         5\n",
    "# 6        7        8\n",
    "#               9\n",
    "# 10       11       12\n",
    "\n",
    "# 이강산, 이민호, 이성희, 이승준, 이진호, 이우영\n",
    "# 장민철, 정희건, 전보경, 조동준, 최민근, 전지연\n",
    "\n",
    "# 6: 이강산, 7: 이승준"
   ]
  },
  {
   "cell_type": "code",
   "execution_count": 11,
   "metadata": {},
   "outputs": [
    {
     "name": "stdout",
     "output_type": "stream",
     "text": [
      "randNum = 2\n",
      "numList[randNum] =  3\n",
      "{'이민호': 3}\n",
      "randNum = 1\n",
      "numList[randNum] =  2\n",
      "{'이민호': 3, '이성희': 2}\n",
      "randNum = 6\n",
      "numList[randNum] =  9\n",
      "{'이민호': 3, '이성희': 2, '이진호': 9}\n",
      "randNum = 4\n",
      "numList[randNum] =  5\n",
      "{'이민호': 3, '이성희': 2, '이진호': 9, '이우영': 5}\n",
      "randNum = 2\n",
      "numList[randNum] =  3\n",
      "same number!\n",
      "randNum = 5\n",
      "numList[randNum] =  8\n",
      "{'이민호': 3, '이성희': 2, '이진호': 9, '이우영': 5, '장민철': 8}\n",
      "randNum = 9\n",
      "numList[randNum] =  12\n",
      "{'이민호': 3, '이성희': 2, '이진호': 9, '이우영': 5, '장민철': 8, '정희건': 12}\n",
      "randNum = 9\n",
      "numList[randNum] =  12\n",
      "same number!\n",
      "randNum = 3\n",
      "numList[randNum] =  4\n",
      "{'이민호': 3, '이성희': 2, '이진호': 9, '이우영': 5, '장민철': 8, '정희건': 12, '전보경': 4}\n",
      "randNum = 4\n",
      "numList[randNum] =  5\n",
      "same number!\n",
      "randNum = 6\n",
      "numList[randNum] =  9\n",
      "same number!\n",
      "randNum = 6\n",
      "numList[randNum] =  9\n",
      "same number!\n",
      "randNum = 0\n",
      "numList[randNum] =  1\n",
      "{'이민호': 3, '이성희': 2, '이진호': 9, '이우영': 5, '장민철': 8, '정희건': 12, '전보경': 4, '조동준': 1}\n",
      "randNum = 5\n",
      "numList[randNum] =  8\n",
      "same number!\n",
      "randNum = 2\n",
      "numList[randNum] =  3\n",
      "same number!\n",
      "randNum = 9\n",
      "numList[randNum] =  12\n",
      "same number!\n",
      "randNum = 8\n",
      "numList[randNum] =  11\n",
      "{'이민호': 3, '이성희': 2, '이진호': 9, '이우영': 5, '장민철': 8, '정희건': 12, '전보경': 4, '조동준': 1, '최민근': 11}\n",
      "randNum = 0\n",
      "numList[randNum] =  1\n",
      "same number!\n",
      "randNum = 8\n",
      "numList[randNum] =  11\n",
      "same number!\n",
      "randNum = 7\n",
      "numList[randNum] =  10\n",
      "{'이민호': 3, '이성희': 2, '이진호': 9, '이우영': 5, '장민철': 8, '정희건': 12, '전보경': 4, '조동준': 1, '최민근': 11, '전지연': 10}\n"
     ]
    }
   ],
   "source": [
    "make_random_num_name()"
   ]
  },
  {
   "cell_type": "code",
   "execution_count": null,
   "metadata": {},
   "outputs": [],
   "source": []
  },
  {
   "cell_type": "code",
   "execution_count": 14,
   "metadata": {},
   "outputs": [
    {
     "name": "stdout",
     "output_type": "stream",
     "text": [
      "28.274333882308138\n",
      "18.84955592153876\n"
     ]
    }
   ],
   "source": [
    "from math import pi\n",
    "\n",
    "class Circle(object):\n",
    "    def __init__(self, r):\n",
    "        self.r = r\n",
    "        \n",
    "    def setter(self, r):\n",
    "        self.r = r\n",
    "        \n",
    "    # 아래에 보면 print(c.area)가 보일 것이다.\n",
    "    # 변수처럼 매서드를 처리하도록 서포트한다.\n",
    "    # 보통은 getter의 목적으로 많이 사용함\n",
    "    @property\n",
    "    def area(self):\n",
    "        return pi * self.r ** 2\n",
    "    \n",
    "    @property\n",
    "    def circumference(self):\n",
    "        return 2 * pi * self.r\n",
    "    \n",
    "c = Circle(3.0)\n",
    "\n",
    "print(c.area)\n",
    "print(c.circumference)"
   ]
  },
  {
   "cell_type": "code",
   "execution_count": 15,
   "metadata": {},
   "outputs": [
    {
     "name": "stdout",
     "output_type": "stream",
     "text": [
      "3\n",
      "Python3\n"
     ]
    },
    {
     "ename": "AttributeError",
     "evalue": "'AccessControlTest' object has no attribute '__var3'",
     "output_type": "error",
     "traceback": [
      "\u001b[1;31m----------------------------------------------------------------------\u001b[0m",
      "\u001b[1;31mAttributeError\u001b[0m                       Traceback (most recent call last)",
      "\u001b[1;32m<ipython-input-15-97034d194b1c>\u001b[0m in \u001b[0;36m<module>\u001b[1;34m\u001b[0m\n\u001b[0;32m      9\u001b[0m \u001b[0mprint\u001b[0m\u001b[1;33m(\u001b[0m\u001b[0mact\u001b[0m\u001b[1;33m.\u001b[0m\u001b[0mvar1\u001b[0m\u001b[1;33m)\u001b[0m\u001b[1;33m\u001b[0m\u001b[1;33m\u001b[0m\u001b[0m\n\u001b[0;32m     10\u001b[0m \u001b[0mprint\u001b[0m\u001b[1;33m(\u001b[0m\u001b[0mact\u001b[0m\u001b[1;33m.\u001b[0m\u001b[0m_var2\u001b[0m\u001b[1;33m)\u001b[0m\u001b[1;33m\u001b[0m\u001b[1;33m\u001b[0m\u001b[0m\n\u001b[1;32m---> 11\u001b[1;33m \u001b[0mprint\u001b[0m\u001b[1;33m(\u001b[0m\u001b[0mact\u001b[0m\u001b[1;33m.\u001b[0m\u001b[0m__var3\u001b[0m\u001b[1;33m)\u001b[0m\u001b[1;33m\u001b[0m\u001b[1;33m\u001b[0m\u001b[0m\n\u001b[0m",
      "\u001b[1;31mAttributeError\u001b[0m: 'AccessControlTest' object has no attribute '__var3'"
     ]
    }
   ],
   "source": [
    "class AccessControlTest:\n",
    "    def __init__(self):\n",
    "        self.var1 = 3\n",
    "        self._var2 = 'Python3'\n",
    "        self.__var3 = 'Class'\n",
    "        \n",
    "act = AccessControlTest()\n",
    "\n",
    "# 노 언더바는 public이다.\n",
    "print(act.var1)\n",
    "# _는 protected\n",
    "# protected란 가문 대대로 내려오는 가보라고 생각하면 된다.\n",
    "# 조상이 같으면 해당 내용을 다 사용할 수 있다.\n",
    "print(act._var2)\n",
    "# __는 private 변수로 외부 접근이 허용되지 않는다.\n",
    "print(act.__var3)"
   ]
  },
  {
   "cell_type": "code",
   "execution_count": 16,
   "metadata": {},
   "outputs": [
    {
     "name": "stdout",
     "output_type": "stream",
     "text": [
      "Class\n"
     ]
    }
   ],
   "source": [
    "# protected를 활용하여 내부에 잠입시킬 수 있다.\n",
    "print(act._AccessControlTest__var3)"
   ]
  },
  {
   "cell_type": "code",
   "execution_count": 18,
   "metadata": {},
   "outputs": [
    {
     "name": "stdout",
     "output_type": "stream",
     "text": [
      "Name:  Timber Wolf\n",
      "Height:  160\n",
      "Weight:  85\n",
      "Food:  Meat\n",
      "Sound:  Howling\n",
      "Timber Wolf: Howling\n"
     ]
    }
   ],
   "source": [
    "class Animal:\n",
    "    # 생성자(이름, 높이, 무게)\n",
    "    def __init__(self, name, height, weight):\n",
    "        self.Name = name\n",
    "        self.Height = height\n",
    "        self.Weight = weight\n",
    "        \n",
    "    def info(self):\n",
    "        print(\"Name: \", str(self.Name))\n",
    "        print(\"Height: \", str(self.Height))\n",
    "        print(\"Weight: \", str(self.Weight))\n",
    "    \n",
    "# Animal 클래스를 상속 <<<\n",
    "class Carnivore(Animal):\n",
    "    # 생성자\n",
    "    def __init__(self, name, height, weight, feed, sound):\n",
    "        # 상속해준 클래스의 생성자 호출을 요청\n",
    "        Animal.__init__(self, name, height, weight)\n",
    "        self.Feed = feed\n",
    "        self.Sound = sound\n",
    "        \n",
    "    def sounds(self):\n",
    "        print(str(self.Name) + \": \" + str(self.Sound))\n",
    "        \n",
    "    def info(self):\n",
    "        Animal.info(self)\n",
    "        print(\"Food: \", str(self.Feed))\n",
    "        print(\"Sound: \", str(self.Sound))\n",
    "        \n",
    "# Carnivore 생성자를 호출!\n",
    "# 생성자를 통해 wolf 객체 생성\n",
    "wolf = Carnivore(\"Timber Wolf\", 160, 85, \"Meat\", \"Howling\")\n",
    "\n",
    "wolf.info()\n",
    "wolf.sounds()"
   ]
  },
  {
   "cell_type": "code",
   "execution_count": 19,
   "metadata": {},
   "outputs": [],
   "source": [
    "# Person과 Student 클래스를 만들어보자!\n",
    "# 상속을 활용하여 작성해보시오."
   ]
  },
  {
   "cell_type": "code",
   "execution_count": null,
   "metadata": {},
   "outputs": [],
   "source": []
  }
 ],
 "metadata": {
  "kernelspec": {
   "display_name": "Python 3",
   "language": "python",
   "name": "python3"
  },
  "language_info": {
   "codemirror_mode": {
    "name": "ipython",
    "version": 3
   },
   "file_extension": ".py",
   "mimetype": "text/x-python",
   "name": "python",
   "nbconvert_exporter": "python",
   "pygments_lexer": "ipython3",
   "version": "3.7.6"
  }
 },
 "nbformat": 4,
 "nbformat_minor": 4
}
