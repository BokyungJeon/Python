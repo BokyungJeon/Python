{
 "cells": [
  {
   "cell_type": "code",
   "execution_count": 4,
   "metadata": {},
   "outputs": [
    {
     "name": "stdout",
     "output_type": "stream",
     "text": [
      "28.274333882308138\n",
      "18.84955592153876\n"
     ]
    }
   ],
   "source": [
    "from math import pi\n",
    "\n",
    "class Circle(object):\n",
    "    def __init__(self, r):\n",
    "        self.r = r\n",
    "        \n",
    "    def setter(self, r):\n",
    "        self.r = r\n",
    "    \n",
    "    # 아래에 보면 print(c.area)가 보일 것이다.\n",
    "    # 변수처럼 매서드를 처리하도록 서포트한다.\n",
    "    # 보통은 getter의 목적으로 많이 사용함\n",
    "    @property\n",
    "    def area(self):\n",
    "        return pi *  self.r**2\n",
    "    \n",
    "    @property\n",
    "    def circumference(self):\n",
    "        return 2 * pi * self.r\n",
    "    \n",
    "c = Circle(3.0)\n",
    "\n",
    "print(c.area)\n",
    "print(c.circumference)"
   ]
  },
  {
   "cell_type": "code",
   "execution_count": 10,
   "metadata": {},
   "outputs": [
    {
     "name": "stdout",
     "output_type": "stream",
     "text": [
      "3\n",
      "Python3\n"
     ]
    },
    {
     "ename": "AttributeError",
     "evalue": "'AccessControlTest' object has no attribute '___var3'",
     "output_type": "error",
     "traceback": [
      "\u001b[1;31m---------------------------------------------------------------------------\u001b[0m",
      "\u001b[1;31mAttributeError\u001b[0m                            Traceback (most recent call last)",
      "\u001b[1;32m<ipython-input-10-b0d4cb7b398c>\u001b[0m in \u001b[0;36m<module>\u001b[1;34m\u001b[0m\n\u001b[0;32m     10\u001b[0m \u001b[0mprint\u001b[0m\u001b[1;33m(\u001b[0m\u001b[0mact\u001b[0m\u001b[1;33m.\u001b[0m\u001b[0m_var2\u001b[0m\u001b[1;33m)\u001b[0m\u001b[1;33m\u001b[0m\u001b[1;33m\u001b[0m\u001b[0m\n\u001b[0;32m     11\u001b[0m \u001b[1;31m# __는 private 변수로 외부에 접근이 허용되지 않는다.\u001b[0m\u001b[1;33m\u001b[0m\u001b[1;33m\u001b[0m\u001b[1;33m\u001b[0m\u001b[0m\n\u001b[1;32m---> 12\u001b[1;33m \u001b[0mprint\u001b[0m\u001b[1;33m(\u001b[0m\u001b[0mact\u001b[0m\u001b[1;33m.\u001b[0m\u001b[0m___var3\u001b[0m\u001b[1;33m)\u001b[0m\u001b[1;33m\u001b[0m\u001b[1;33m\u001b[0m\u001b[0m\n\u001b[0m",
      "\u001b[1;31mAttributeError\u001b[0m: 'AccessControlTest' object has no attribute '___var3'"
     ]
    }
   ],
   "source": [
    "class AccessControlTest:\n",
    "    def __init__(self):\n",
    "        self.var1 = 3\n",
    "        self._var2 = 'Python3'\n",
    "        self.__var3 = 'Class'\n",
    "    \n",
    "act = AccessControlTest()\n",
    "\n",
    "# No 언더바는 public이다.\n",
    "print(act.var1)\n",
    "# _는 protected\n",
    "# protected란 가문 대대로 내려오는 가보라고 생각하면 된다.\n",
    "# 조상이 같으면 해당 내용을 다 사용할 수 있다.\n",
    "print(act._var2)\n",
    "# __는 private 변수로 외부에 접근이 허용되지 않는다.\n",
    "print(act.___var3)"
   ]
  },
  {
   "cell_type": "code",
   "execution_count": 12,
   "metadata": {},
   "outputs": [
    {
     "name": "stdout",
     "output_type": "stream",
     "text": [
      "Class\n"
     ]
    }
   ],
   "source": [
    "# protected를 활용하여 내부에 잠입시킬 수 있다. \n",
    "# 파이썬만의 독특한 기능.\n",
    "print(act._AccessControlTest__var3)"
   ]
  },
  {
   "cell_type": "code",
   "execution_count": 25,
   "metadata": {},
   "outputs": [
    {
     "name": "stdout",
     "output_type": "stream",
     "text": [
      "Name:  Timber Wolf\n",
      "Height:  160\n",
      "Weight:  85\n",
      "Food:  Meat\n",
      "Sound:  Howling\n",
      "Timber Wolf: Howling\n"
     ]
    }
   ],
   "source": [
    "class Animal:\n",
    "    # 생성자(이름, 높이, 무게)\n",
    "    def __init__(self, name, height, weight):\n",
    "        self.Name = name\n",
    "        self.Height = height\n",
    "        self.Weight = weight\n",
    "        \n",
    "    def info(self):\n",
    "        print(\"Name: \", str(self.Name))\n",
    "        print(\"Height: \", str(self.Height))\n",
    "        print(\"Weight: \", str(self.Weight))\n",
    "\n",
    "# Animal 클래스를 상속 <<<\n",
    "class Carnivore(Animal):\n",
    "    # 생성자\n",
    "    def __init__(self, name, height, weight, feed, sounds):\n",
    "        # 상속해준 생성자의 클라스를 호출\n",
    "        Animal.__init__(self, name, height, weight)\n",
    "        self.Feed = feed\n",
    "        self.Sound = sounds\n",
    "    \n",
    "    def sounds(self):\n",
    "        print(str(self.Name) + \": \" + str(self.Sound))\n",
    "        \n",
    "    def info(self):\n",
    "            Animal.info(self)\n",
    "            print(\"Food: \", str(self.Feed))\n",
    "            print(\"Sound: \", str(self.Sound))\n",
    "            \n",
    "wolf = Carnivore(\"Timber Wolf\", 160, 85, \"Meat\", \"Howling\")\n",
    "\n",
    "wolf.info()\n",
    "wolf.sounds()"
   ]
  },
  {
   "cell_type": "code",
   "execution_count": 6,
   "metadata": {},
   "outputs": [
    {
     "name": "stdout",
     "output_type": "stream",
     "text": [
      "name = test\n",
      "age = 20\n"
     ]
    }
   ],
   "source": [
    "# Person과 Student 클래스를 만들어보자!\n",
    "# 상속을 활용하여 작성해보시오.\n",
    "\n",
    "class Person:\n",
    "    def __init__(self, name, age):\n",
    "        self.Name = name\n",
    "        self.Age = age\n",
    "        \n",
    "    def info(self):\n",
    "        print(\"name =\", self.Name)\n",
    "        print(\"age =\", self.Age)\n",
    "\n",
    "class Student(Person):\n",
    "    def __init__(self, name, age, major):\n",
    "        Person.__init__(self, name, age)\n",
    "        self.Major = major\n",
    "        \n",
    "        def info(self):\n",
    "            Person.info(self)\n",
    "            print(\"major =\", self.Major)\n",
    "            \n",
    "            \n",
    "stu1 = Student(\"test\", 20, \"컴퓨터공학\")\n",
    "stu1.info()\n"
   ]
  },
  {
   "cell_type": "code",
   "execution_count": 10,
   "metadata": {},
   "outputs": [
    {
     "name": "stdout",
     "output_type": "stream",
     "text": [
      "I'm a Child Class: [3]\n",
      "I'm a Super Class\n"
     ]
    }
   ],
   "source": [
    "class Parent(object):\n",
    "    def __init__(self, number):\n",
    "        self.Number = number\n",
    "        \n",
    "    def printMsg(self):\n",
    "        print(\"I'm a Super Class\")\n",
    "        \n",
    "class Child(Parent):\n",
    "    def __init__(self, number):\n",
    "        # super란 자신의 상위클래스를 의미힌다.\n",
    "        # Java에서도 상속 구조일 때\n",
    "        # 부모 클래스의 생성자를 호출하는 용도로 super를 사용한다.\n",
    "        super(Child, self).__init__(number)\n",
    "        \n",
    "    def printMsg(self):\n",
    "        print(\"I'm a Child Class: [%s]\" % str(self.Number))\n",
    "        super(Child, self).printMsg()\n",
    "        \n",
    "c = Child(3)\n",
    "c.printMsg()"
   ]
  },
  {
   "cell_type": "code",
   "execution_count": 12,
   "metadata": {},
   "outputs": [
    {
     "name": "stdout",
     "output_type": "stream",
     "text": [
      "(6+6j)\n"
     ]
    }
   ],
   "source": [
    "z1 = 3 + 4j\n",
    "z2 = 3 + 2j\n",
    "\n",
    "z3 = z1 +z2\n",
    "print(z3)"
   ]
  },
  {
   "cell_type": "code",
   "execution_count": 43,
   "metadata": {},
   "outputs": [
    {
     "name": "stdout",
     "output_type": "stream",
     "text": [
      "__add__ is called\n",
      "__repr__ is called\n",
      "27\n",
      "__sub__ is called\n",
      "__repr__ is called\n",
      "-7\n"
     ]
    }
   ],
   "source": [
    "class OpOverload(object):\n",
    "    def __init__(self, number):\n",
    "        self.Number = number\n",
    "        \n",
    "    # 역할이 Java의 toString과 같다.\n",
    "    # repr에게 보고싶은 객체를 던졌을 때 보고 싶은 결과값을 여기에 작성하면 된다.\n",
    "    def __repr__(self):\n",
    "        print(\"__repr__ is called\")\n",
    "        return str(self.Number)\n",
    "    \n",
    "    # obj + obj2\n",
    "    # obj1.__add__(abj2)\n",
    "    # __add(obj1, abj2)\n",
    "    def __add__(self, other):\n",
    "        print(\"__add__ is called\")\n",
    "        return OpOverload(self.Number + other.getNumber())\n",
    "    \n",
    "    def __sub__(self, other):\n",
    "        print(\"__sub__ is called\")\n",
    "        return OpOverload(self.Number - other.getNumber())\n",
    "    \n",
    "    def getNumber(self):\n",
    "        return self.Number\n",
    "\n",
    "# self.Number에 10을 넣는다.\n",
    "obj1 = OpOverload(10)\n",
    "# self.Number에 17을 넣는다.\n",
    "obj2 = OpOverload(17)\n",
    "\n",
    "# 두 개의 객체를 더하면 __add__로 향하게 된다.\n",
    "# print에 객체를 던지면 __repr로 향한다.\n",
    "print(obj1 + obj2)\n",
    "print(obj1 - obj2)"
   ]
  },
  {
   "cell_type": "code",
   "execution_count": 53,
   "metadata": {},
   "outputs": [
    {
     "ename": "SyntaxError",
     "evalue": "invalid syntax (<ipython-input-53-d669b6f5bcc9>, line 78)",
     "output_type": "error",
     "traceback": [
      "\u001b[1;36m  File \u001b[1;32m\"<ipython-input-53-d669b6f5bcc9>\"\u001b[1;36m, line \u001b[1;32m78\u001b[0m\n\u001b[1;33m    v[2] * w[0] - v[0] * w[2]\u001b[0m\n\u001b[1;37m    ^\u001b[0m\n\u001b[1;31mSyntaxError\u001b[0m\u001b[1;31m:\u001b[0m invalid syntax\n"
     ]
    }
   ],
   "source": [
    "# 2차원 벡터 두 개를 더하는 프로그램을 작성해보자!\n",
    "# v1 = 2i + 4j, v2 = 3i + 5j\n",
    "#      (2, 4)        (3, 5)\n",
    "\n",
    "class Vector(object):\n",
    "    # 생성자\n",
    "    def __init__(self, elemList):\n",
    "        self.elem = elemList\n",
    "     \n",
    "    # 자바 toString\n",
    "    def __repr__(self):\n",
    "        print(\"__repr__is called\")\n",
    "        return str(self.elem)\n",
    "    \n",
    "    # 연산자 오버로딩(덧셈을 대체)\n",
    "    # v1 + v2 == v1.__add__(v2)\n",
    "    def __add__(self, other):\n",
    "        print(\"__add__is called\")\n",
    "        # print(len(other))\n",
    "        # v1과 v2의 벡터 차원이 같은지를 검사한다.\n",
    "        # 두 개가 같다면 덧셈을 수행할 수 있으므로\n",
    "        # 아래 return을 통해서 새로운 벡터 개체를 작성한다.\n",
    "        if len(self) == len(other):\n",
    "            # return Vector()는 결국 벡터 객체를 만드는 작업\n",
    "            return Vector(\n",
    "                # 대괄호가 감싸고 있으므로 리스트를 만든다.\n",
    "                [\n",
    "                    # getVector(): 객체 내부에 있는 리스트를 가져온다.\n",
    "                    # other.getVector() == self.elem\n",
    "                    # other.elem[i] + self.elem[i]\n",
    "                    # 같은 인덱스에 있는요소끼리 더했음\n",
    "                    # 그리고 아래있는 for문을 통해서 반복한다.\n",
    "                    other.getVector()[i] + self.getVector()[i]\n",
    "                     for i in range(len(other))\n",
    "                ]\n",
    "            )\n",
    "            # print(self.getVector()[0])\n",
    "            # print(other.getVector()[0])\n",
    "            #print(self.getVector()[1])\n",
    "            #print(other.getVector()[1])\n",
    "            \n",
    "    # len 함수를 연산오버로딩함\n",
    "    # 내부에 있는 elem요소의 개수를 구한다.\n",
    "    def __len__(self):\n",
    "        return len(self.elem)\n",
    "    \n",
    "    def getVector(self):\n",
    "        return self.elem\n",
    "    \n",
    "    # 각 축의 성분들끼리 곱하고\n",
    "    # 곱한 데이터들을 합산\n",
    "    def dotProduct(self, other):\n",
    "        tmp = 0\n",
    "        \n",
    "        for i in range(len(self)):\n",
    "            tmp += self.getVector()[i] * other.getVector()[i]\n",
    "            \n",
    "        return tmp\n",
    "    \n",
    "    def crossProduct(self, other):\n",
    "            v = self.getVector()\n",
    "            w = other.getVector()\n",
    "            \n",
    "            # (w2 * w3 - v3 * w2) i +\n",
    "            # (v3 * w1 - v1 * w3) j +\n",
    "            # (v1 * w2 - v2 * w1) k\n",
    "            # for문을 사용하는게 별로 좋지 않은 이유\n",
    "            # goto를 왜 사용했는가?\n",
    "            # branch계열의 명령을 만나면 CPU파이프라인이 깨짐\n",
    "            # 한 번 파이프라인이 깨지면 파이프라인을 채울때까지\n",
    "            # CPU는 구동하지 못한 채 정지해 있어야 한다.\n",
    "            # 그렇기 때문에 연산량이 많지 않은 경우\n",
    "            # 하드코딩하는 것이 파이프라인을 보호하는데 더 효과적이다.\n",
    "            # (결론적으로 이 방식이 속도가 더 빠르다.)\n",
    "            return Vector( \n",
    "               [\n",
    "                   v[1] * w[2] - v[2] * w[1]\n",
    "                   v[2] * w[0] - v[0] * w[2]\n",
    "                   v[0] * w[1] - v[1] * w[0]\n",
    "               ]\n",
    "            )\n",
    "    \n",
    "v1 = Vector([2, 4, 6])\n",
    "v2 = Vector([3, 5, 1])\n",
    "\n",
    "print(v1)\n",
    "print(v2)\n",
    "\n",
    "print(v1 + v2)\n",
    "print(v1.dotProduct(v2))\n",
    "print(v1.crossProduct(v2))"
   ]
  },
  {
   "cell_type": "code",
   "execution_count": 54,
   "metadata": {},
   "outputs": [],
   "source": [
    "# 벡터의 내적과 외적\n",
    "# dot product vs cross product\n",
    "# v = (v1, v2, v3)\n",
    "# w = (w1, w2, w3)\n",
    "# v dot w =(v1 * w1 + v2 * w2 + v3 * w3)\n",
    "# 내적의 결과가 0이 되면 두 벡터는 수직이다. \n",
    "# v * w * cos(theta)\n",
    "\n",
    "# v x w === 외적의 결과는 벡터로 나온다.\n",
    "# i hat: x축, j hat: y축, k hat: z축\n",
    "\n",
    "# i      j      k\n",
    "# v1    v2     v3 \n",
    "# w1    w2     w3\n",
    "\n",
    "# 외적의 연산은 벡터가 된다.\n",
    "# 케일리-헤밀턴 정리 ---> ad - bc != 0\n",
    "# (w2 * w3 - v3 * w2) i +\n",
    "# (v3 * w1 - v1 * w3) j +\n",
    "# (v1 * w2 - v2 * w1) k\n",
    "\n",
    "# 내적 구현\n",
    "# v, w = (v1 * w1 + v2 * w2 + v3 * w3)\n",
    "# 외적 구현\n",
    "# (w2 * w3 - v3 * w2) i +\n",
    "# (v3 * w1 - v1 * w3) j +\n",
    "# (v1 * w2 - v2 * w1) k"
   ]
  },
  {
   "cell_type": "code",
   "execution_count": 59,
   "metadata": {},
   "outputs": [
    {
     "name": "stdout",
     "output_type": "stream",
     "text": [
      "2020-06-29\n",
      "1988-03-06\n",
      "11803 days, 0:00:00\n"
     ]
    }
   ],
   "source": [
    "from datetime import date\n",
    "    \n",
    "if __name__ == \"__main__\":\n",
    "    d1 = date.today()\n",
    "    d2 = date(1988, 3, 6)\n",
    "    \n",
    "    print(d1)\n",
    "    print(d2)\n",
    "    print(d1 - d2)"
   ]
  },
  {
   "cell_type": "code",
   "execution_count": null,
   "metadata": {},
   "outputs": [],
   "source": []
  }
 ],
 "metadata": {
  "kernelspec": {
   "display_name": "Python 3",
   "language": "python",
   "name": "python3"
  },
  "language_info": {
   "codemirror_mode": {
    "name": "ipython",
    "version": 3
   },
   "file_extension": ".py",
   "mimetype": "text/x-python",
   "name": "python",
   "nbconvert_exporter": "python",
   "pygments_lexer": "ipython3",
   "version": "3.7.6"
  }
 },
 "nbformat": 4,
 "nbformat_minor": 4
}
