{
 "cells": [
  {
   "cell_type": "code",
   "execution_count": 2,
   "metadata": {},
   "outputs": [
    {
     "name": "stdout",
     "output_type": "stream",
     "text": [
      "pointer index\n",
      "p\n",
      "n\n",
      "oin\n",
      "po\n",
      "inter index\n",
      "ex\n",
      "pointer index\n",
      "pitridx\n"
     ]
    }
   ],
   "source": [
    "# Jave나 C는 메모리섹션(데이터)에 내용을 배치하므로 사용자가 쉽게 접근하기 어렵다.\n",
    "# 반면 파이썬은 언어차원에서 접근을 제공한다.\n",
    "\n",
    "# 컴퓨터(기계)가 해석할 수 있는 언어는 0과 1뿐\n",
    "# 비트 bit: 0과 1을 표현할 수 있는 최소 단위\n",
    "# 바이트 byte: 비트가 8개 모이면 1바이트\n",
    "\n",
    "# 우리가 실제로 사용하는 문자열은 1바이트 타입의 배열(00001111)로 저장되어 있다.\n",
    "\n",
    "str = \"pointer index\"\n",
    "print(str)\n",
    "\n",
    "# 인덱스 index는 0부터 시작한다.\n",
    "\n",
    "# / p / o / i / n / i / n / r /   / i / n / d / e / x /\n",
    "# [0] [1] [2] [3] [4] [5] [6] [7] [8] [9] [10][11][12]\n",
    "print(str[0])\n",
    "print(str[3])\n",
    "\n",
    "# 1부터 4전까지 == for(i = 1; i < 4; i++) --> true\n",
    "print(str[1:4])\n",
    "# 생략되었을 경우 0부터 시작 == for(i = 0; i < 2; i++) --> ture\n",
    "print(str[:2])\n",
    "# 2부터 끝까지\n",
    "print(str[2:])\n",
    "# -2는 뒤에서 2개. -2부터 0까지\n",
    "print(str[-2:])\n",
    "# [:] 전체복사하여 새로운 객체 생성\n",
    "print(str[:])\n",
    "# [::2] 2칸씩 건너뛰어 전체복사\n",
    "print(str[::2])"
   ]
  },
  {
   "cell_type": "code",
   "execution_count": 1,
   "metadata": {
    "scrolled": true
   },
   "outputs": [
    {
     "name": "stdout",
     "output_type": "stream",
     "text": [
      "3.14\n",
      "77\n",
      "33.0\n",
      "<class 'str'>\n",
      "<class 'int'>\n",
      "<class 'float'>\n"
     ]
    }
   ],
   "source": [
    "# TypeError: 'str' object is not callable -->str이 위에서 사용되고 있어서. \n",
    "# 런버튼 옆 정지버튼 옆 재시작눌러 restart(커널리셋)하면 된다.\n",
    "makeStr = str(3.14)\n",
    "intStr = int(\"77\")\n",
    "floatStr = float(\"33\")\n",
    "\n",
    "print(makeStr)\n",
    "print(intStr)\n",
    "print(floatStr)\n",
    "\n",
    "print(type(makeStr))\n",
    "print(type(intStr))\n",
    "print(type(floatStr))"
   ]
  },
  {
   "cell_type": "code",
   "execution_count": 12,
   "metadata": {},
   "outputs": [
    {
     "name": "stdout",
     "output_type": "stream",
     "text": [
      "['red', 'green', 'blue']\n",
      "<class 'list'>\n",
      "['red', 'green', 'blue', 'gold']\n"
     ]
    }
   ],
   "source": [
    "colors = ['red', 'green', 'blue']\n",
    "\n",
    "print(colors)\n",
    "print(type(colors))\n",
    "\n",
    "# 리스트: 자료 구조 중 가장 간단하다.\n",
    "# 스택(stack): 쌓다. 선입선출. LIFO(Last In First Out)\n",
    "# 큐(Queue): 줄짓다. 후입선출. FCFS(First Come First Serve)\n",
    "# 리스트는 큐방식을 사용하므로 .append하면 리스트의 마지막에 값이 들어간다.\n",
    "colors.append('gold')\n",
    "print(colors)"
   ]
  },
  {
   "cell_type": "code",
   "execution_count": 13,
   "metadata": {},
   "outputs": [
    {
     "name": "stdout",
     "output_type": "stream",
     "text": [
      "['red', 'black', 'green', 'blue', 'gold']\n",
      "['red', 'black', 'green', 'blue', 'gold', 'blue', 'white']\n",
      "['red', 'black', 'green', 'blue', 'gold', 'blue', 'white', 'purple', 'red']\n"
     ]
    }
   ],
   "source": [
    "# 리스트 중간에 요소 추가 \n",
    "\n",
    "# .insert(인덱스번호, 데이터)\n",
    "# [1]인덱스에 'black'을 배치해라\n",
    "colors.insert(1, 'black')\n",
    "print(colors)\n",
    "\n",
    "# .extend(데이터, 데이터)\n",
    "# 현재원소의 맨 뒤쪽에 리스트를(여러개) 추가\n",
    "colors.extend(['blue', 'white'])\n",
    "print(colors)\n",
    "\n",
    "# +=[데이터] 리스트를 추가하는 또 다른 방법\n",
    "colors +=['purple']\n",
    "colors +=['red']\n",
    "print(colors)"
   ]
  },
  {
   "cell_type": "code",
   "execution_count": 14,
   "metadata": {},
   "outputs": [
    {
     "name": "stdout",
     "output_type": "stream",
     "text": [
      "7\n",
      "7\n"
     ]
    }
   ],
   "source": [
    "# .index는 특정 원소의 위치가 어디인지 알려준다.\n",
    "print(colors.index('purple'))\n",
    "\n",
    "# 뒤에 숫자를 넣으면 인덱스 시작 위치를 변경할 수 있다.\n",
    "# 0이 아니라 1부터 시작(찾을 때 0은 무시)\n",
    "print(colors.index('purple', 1))"
   ]
  },
  {
   "cell_type": "code",
   "execution_count": 16,
   "metadata": {},
   "outputs": [
    {
     "name": "stdout",
     "output_type": "stream",
     "text": [
      "5\n",
      "3\n"
     ]
    }
   ],
   "source": [
    "# 4 ~ 8까지 중 'blue' 인덱스 알려주세요\n",
    "print(colors.index('blue', 4, 8))\n",
    "\n",
    "# 3 ~ 8까지 중 'blue' 인덱스 알려주세요 -> 첫번째 인덱스 알려줌\n",
    "print(colors.index('blue', 3, 8))"
   ]
  },
  {
   "cell_type": "code",
   "execution_count": 19,
   "metadata": {},
   "outputs": [
    {
     "name": "stdout",
     "output_type": "stream",
     "text": [
      "2\n"
     ]
    }
   ],
   "source": [
    "# .count(데이터) 데이터 개수 세어줌\n",
    "print(colors.count('blue'))"
   ]
  },
  {
   "cell_type": "code",
   "execution_count": 20,
   "metadata": {},
   "outputs": [
    {
     "name": "stdout",
     "output_type": "stream",
     "text": [
      "['red', 'black', 'green', 'blue', 'gold', 'blue', 'white', 'purple', 'red']\n",
      "red\n",
      "purple\n",
      "white\n",
      "['red', 'black', 'green', 'blue', 'gold', 'blue']\n"
     ]
    }
   ],
   "source": [
    "print(colors)\n",
    "# .pop은 후입선출구조(stack)로 마지막 원소들이 출력된 후 원래 리스트에서는 제거된다.\n",
    "print(colors.pop())\n",
    "print(colors.pop())\n",
    "print(colors.pop())\n",
    "print(colors)"
   ]
  },
  {
   "cell_type": "code",
   "execution_count": 21,
   "metadata": {},
   "outputs": [
    {
     "name": "stdout",
     "output_type": "stream",
     "text": [
      "['red', 'black', 'blue', 'gold', 'blue']\n"
     ]
    }
   ],
   "source": [
    "# .remove(데이터) 원하는 원소 제거\n",
    "colors.remove('green')\n",
    "print(colors)"
   ]
  },
  {
   "cell_type": "code",
   "execution_count": 31,
   "metadata": {},
   "outputs": [
    {
     "name": "stdout",
     "output_type": "stream",
     "text": [
      "origin sort:  ['black', 'blue', 'gold', 'gray', 'green', 'purple', 'red', 'red', 'white']\n"
     ]
    }
   ],
   "source": [
    "# 정렬하기\n",
    "\n",
    "colors = ['red', 'black', 'green', 'blue', 'gold', 'white', 'gray', 'purple', 'red']\n",
    "# .sort 오름차순정렬\n",
    "colors.sort()\n",
    "print('origin sort: ', colors)"
   ]
  },
  {
   "cell_type": "code",
   "execution_count": 32,
   "metadata": {},
   "outputs": [
    {
     "name": "stdout",
     "output_type": "stream",
     "text": [
      "reverse:  ['white', 'red', 'red', 'purple', 'green', 'gray', 'gold', 'blue', 'black']\n"
     ]
    }
   ],
   "source": [
    "# .reverse는 역순배열\n",
    "# .sort오름차순 후 .reverse역순 정렬하면 내림차순 정렬이 된다.\n",
    "colors.reverse()\n",
    "print('reverse: ', colors)"
   ]
  },
  {
   "cell_type": "code",
   "execution_count": 33,
   "metadata": {},
   "outputs": [
    {
     "name": "stdout",
     "output_type": "stream",
     "text": [
      "['red', 'red', 'gold', 'white', 'purple', 'blue', 'black', 'green', 'gray']\n"
     ]
    }
   ],
   "source": [
    "# 맨 뒷글차 기준으로 오름차순 정렬하기\n",
    "def mysort(x):\n",
    "    return x[-1]\n",
    "\n",
    "colors.sort(key = mysort)\n",
    "print(colors)"
   ]
  },
  {
   "cell_type": "code",
   "execution_count": 34,
   "metadata": {},
   "outputs": [
    {
     "name": "stdout",
     "output_type": "stream",
     "text": [
      "['gold', 'red', 'red', 'blue', 'purple', 'white', 'black', 'green', 'gray']\n"
     ]
    }
   ],
   "source": [
    "# 첫글자 기준 오름차순 정렬 먼저 하고 맨 뒤글자 기준 오름차순 정렬하기\n",
    "def mysort(x):\n",
    "    return x[-1]\n",
    "\n",
    "colors.sort()\n",
    "colors.sort(key = mysort)\n",
    "print(colors)"
   ]
  },
  {
   "cell_type": "code",
   "execution_count": 35,
   "metadata": {},
   "outputs": [
    {
     "name": "stdout",
     "output_type": "stream",
     "text": [
      "['red', 'red', 'gold', 'purple', 'white', 'blue', 'black', 'green', 'gray']\n"
     ]
    }
   ],
   "source": [
    "# 자바는 두개의 동시다발적인 리턴이 불가능\n",
    "# 그러나 파이썬은 여러개의 정보를 동시다발적 리턴이 가능\n",
    "# 뒤에서 첫번째 두번째 순으로 정렬하기\n",
    "def mysort(x):\n",
    "    return x[-1], x[-2]\n",
    "\n",
    "colors.sort(key = mysort)\n",
    "print(colors)"
   ]
  },
  {
   "cell_type": "code",
   "execution_count": 36,
   "metadata": {},
   "outputs": [
    {
     "name": "stdout",
     "output_type": "stream",
     "text": [
      "['white', 'red', 'red', 'purple', 'green', 'gray', 'gold', 'blue', 'black']\n"
     ]
    }
   ],
   "source": [
    "#내림차순 정렬 한번에 하기\n",
    "colors.sort(reverse=True)\n",
    "print(colors)"
   ]
  },
  {
   "cell_type": "code",
   "execution_count": 37,
   "metadata": {},
   "outputs": [
    {
     "name": "stdout",
     "output_type": "stream",
     "text": [
      "{1, 2, 3}\n",
      "{3, 4, 5}\n",
      "<class 'set'>\n"
     ]
    }
   ],
   "source": [
    "# 데이터의 집합set\n",
    "# 중괄호로 감싸면 집합   cf.대괄호로 감쌀 경우엔 리스트\n",
    "a = {1, 2, 3}\n",
    "b = {3, 4, 5}\n",
    "\n",
    "print(a)\n",
    "print(b)\n",
    "\n",
    "print(type(a))"
   ]
  },
  {
   "cell_type": "code",
   "execution_count": 38,
   "metadata": {},
   "outputs": [
    {
     "name": "stdout",
     "output_type": "stream",
     "text": [
      "{1, 2, 3, 4, 5}\n",
      "{3}\n"
     ]
    }
   ],
   "source": [
    "# a.union(b) 합집합\n",
    "print(a.union(b))\n",
    "# a.intersection(b) 교집합\n",
    "print(a.intersection(b))"
   ]
  },
  {
   "cell_type": "code",
   "execution_count": 39,
   "metadata": {},
   "outputs": [
    {
     "name": "stdout",
     "output_type": "stream",
     "text": [
      "{1, 2}\n",
      "{4, 5}\n",
      "{1, 2, 3, 4, 5}\n",
      "{3}\n",
      "{1, 2, 4, 5}\n"
     ]
    }
   ],
   "source": [
    "# 차집합의 경우 빼는 순서가 중요하다.\n",
    "print(a - b)\n",
    "print(b - a)\n",
    "# | 합집합 (OR 연산)  cf.자바의 ||(논리연산자. if문 같은 곳에 사용가능)\n",
    "print(a | b)\n",
    "# & 교집합 (AND연산)  cf.자바의 &&\n",
    "print(a & b)\n",
    "# XOR 연산(교집합만 제외하고 합친다)\n",
    "print(a ^ b)"
   ]
  },
  {
   "cell_type": "code",
   "execution_count": 40,
   "metadata": {},
   "outputs": [
    {
     "name": "stdout",
     "output_type": "stream",
     "text": [
      "(1, 2, 3)\n",
      "<class 'tuple'>\n"
     ]
    }
   ],
   "source": [
    "# 튜플은 소괄호로 묶으면 된다. \n",
    "t = (1, 2, 3)\n",
    "print(t)\n",
    "print(type(t))"
   ]
  },
  {
   "cell_type": "code",
   "execution_count": 41,
   "metadata": {},
   "outputs": [
    {
     "name": "stdout",
     "output_type": "stream",
     "text": [
      "1 2\n",
      "3 7\n"
     ]
    }
   ],
   "source": [
    "# 튜플은 여러개를 받기 위해 존재\n",
    "a, b = 1, 2\n",
    "print(a, b)\n",
    "\n",
    "(a, b) = (3, 7)\n",
    "print(a, b)"
   ]
  },
  {
   "cell_type": "code",
   "execution_count": 42,
   "metadata": {},
   "outputs": [
    {
     "name": "stdout",
     "output_type": "stream",
     "text": [
      "7 3\n"
     ]
    }
   ],
   "source": [
    "# 튜플은 바로 교환이 가능하다.\n",
    "a, b = b, a\n",
    "print(a, b)\n",
    "\n",
    "# 위의 코드를 자바로 구현한다면?\n",
    "# int a = 3; \n",
    "# int b = 7;\n",
    "# int tmp = a;\n",
    "# a = b\n",
    "# b = tmp"
   ]
  },
  {
   "cell_type": "code",
   "execution_count": 43,
   "metadata": {},
   "outputs": [
    {
     "name": "stdout",
     "output_type": "stream",
     "text": [
      "{1, 2, 3}\n",
      "<class 'set'>\n"
     ]
    }
   ],
   "source": [
    "# 큐플()을 집합{}set으로 변환\n",
    "a = set((1, 2, 3,))\n",
    "print(a)\n",
    "print(type(a))"
   ]
  },
  {
   "cell_type": "code",
   "execution_count": 44,
   "metadata": {},
   "outputs": [
    {
     "name": "stdout",
     "output_type": "stream",
     "text": [
      "[1, 2, 3]\n",
      "<class 'list'>\n"
     ]
    }
   ],
   "source": [
    "# 집합{}을 리스트[]로 변환\n",
    "b = list(a)\n",
    "print(b)\n",
    "print(type(b))"
   ]
  },
  {
   "cell_type": "code",
   "execution_count": 45,
   "metadata": {},
   "outputs": [
    {
     "name": "stdout",
     "output_type": "stream",
     "text": [
      "(1, 2, 3)\n",
      "<class 'tuple'>\n"
     ]
    }
   ],
   "source": [
    "# 리스트를 튜플로 변환\n",
    "c = tuple(b)\n",
    "print(c)\n",
    "print(type(c))"
   ]
  },
  {
   "cell_type": "code",
   "execution_count": 46,
   "metadata": {},
   "outputs": [
    {
     "name": "stdout",
     "output_type": "stream",
     "text": [
      "True\n",
      "True\n",
      "False\n"
     ]
    }
   ],
   "source": [
    "print( 1 in a)\n",
    "print( 3 in a)\n",
    "print( 7 in a)"
   ]
  },
  {
   "cell_type": "code",
   "execution_count": 48,
   "metadata": {},
   "outputs": [
    {
     "name": "stdout",
     "output_type": "stream",
     "text": [
      "{'a': 1, 'b': 3, 'c': 5}\n",
      "<class 'dict'>\n"
     ]
    }
   ],
   "source": [
    "# 딕셔너리는 키값과 밸류값이 공존하는 데이터타입\n",
    "# 키값 a가 있고 그 키값에 해당하는 벨류값이 1이다.\n",
    "# 이런 구조를 Hash(해쉬)라고 한다. 키값이 있고 키에 대응하는 값이 있는 형태.\n",
    "d = dict(a = 1, b = 3, c = 5)\n",
    "print(d)\n",
    "print(type(d))"
   ]
  },
  {
   "cell_type": "code",
   "execution_count": 49,
   "metadata": {},
   "outputs": [
    {
     "name": "stdout",
     "output_type": "stream",
     "text": [
      "{'apple': 'red', 'lemon': 'yellow'}\n",
      "<class 'dict'>\n"
     ]
    }
   ],
   "source": [
    "# 키값이 있고 밸류값에 다시 해쉬(키와벨류값)가 올 수도 있다.\n",
    "color = {\"apple\": \"red\", \"lemon\": \"yellow\"}\n",
    "print(color)\n",
    "print(type(color))"
   ]
  },
  {
   "cell_type": "code",
   "execution_count": 51,
   "metadata": {},
   "outputs": [
    {
     "name": "stdout",
     "output_type": "stream",
     "text": [
      "red\n"
     ]
    }
   ],
   "source": [
    "# 키값 apple의 벨류값 확인하기\n",
    "print(color['apple'])"
   ]
  },
  {
   "cell_type": "code",
   "execution_count": 52,
   "metadata": {},
   "outputs": [
    {
     "name": "stdout",
     "output_type": "stream",
     "text": [
      "{'apple': 'green', 'lemon': 'yellow'}\n"
     ]
    }
   ],
   "source": [
    "# color에 있는 키값 apple에 밸류값 green을 설정하세요. ->바뀜(덮어씀)\n",
    "color['apple'] = 'green'\n",
    "print(color)"
   ]
  },
  {
   "cell_type": "code",
   "execution_count": 53,
   "metadata": {},
   "outputs": [
    {
     "name": "stdout",
     "output_type": "stream",
     "text": [
      "('apple', 'green')\n",
      "('lemon', 'yellow')\n"
     ]
    }
   ],
   "source": [
    "# clolor에 있는 요소를 가져와서 c에 저장\n",
    "for c in color.items():\n",
    "    print(c)"
   ]
  },
  {
   "cell_type": "code",
   "execution_count": 54,
   "metadata": {},
   "outputs": [
    {
     "name": "stdout",
     "output_type": "stream",
     "text": [
      "apple :  green\n",
      "lemon :  yellow\n"
     ]
    }
   ],
   "source": [
    "# 마찬가지로 color에 있는 요소들을 하나씩 가져오는데\n",
    "# key값은 key에 value값은 value에 넣는다.\n",
    "for key, value in color.items():\n",
    "    print(key, \": \", value)"
   ]
  },
  {
   "cell_type": "code",
   "execution_count": 58,
   "metadata": {},
   "outputs": [
    {
     "name": "stdout",
     "output_type": "stream",
     "text": [
      "apple\n",
      "lemon\n"
     ]
    }
   ],
   "source": [
    "# color라는 딕셔너리에 있는 key값들만 따로 추출이 가능하다.\n",
    "for key in color.keys():\n",
    "    print(key)"
   ]
  },
  {
   "cell_type": "code",
   "execution_count": 59,
   "metadata": {},
   "outputs": [
    {
     "name": "stdout",
     "output_type": "stream",
     "text": [
      "green\n",
      "yellow\n"
     ]
    }
   ],
   "source": [
    "# 밸류값에 해당하는 정보만 별도로 추출이 가능하다.\n",
    "for value in color.values():\n",
    "    print(value)"
   ]
  },
  {
   "cell_type": "code",
   "execution_count": 60,
   "metadata": {},
   "outputs": [
    {
     "name": "stdout",
     "output_type": "stream",
     "text": [
      "<class 'dict_keys'>\n",
      "['apple', 'lemon']\n"
     ]
    }
   ],
   "source": [
    "print(type(color.keys()))\n",
    "# 향후 레이블 매칭이라는 작업 시 키값만 따로 뽑아서 매칭을 시켜야하는데 \n",
    "# 이 경우에 아래와 같이 리스트로 만들어서 처리한다.\n",
    "print(list(color.keys()))"
   ]
  },
  {
   "cell_type": "code",
   "execution_count": 61,
   "metadata": {},
   "outputs": [
    {
     "name": "stdout",
     "output_type": "stream",
     "text": [
      "{'lemon': 'yellow'}\n"
     ]
    }
   ],
   "source": [
    "# 필요 없는 key값은 del로 소거 가능하다.\n",
    "del color['apple']\n",
    "print(color)"
   ]
  },
  {
   "cell_type": "code",
   "execution_count": 62,
   "metadata": {},
   "outputs": [
    {
     "name": "stdout",
     "output_type": "stream",
     "text": [
      "{'age': 40.5, 'job': [1, 2, 3], 'name': {'Kim': 2, 'Cho': 1}}\n",
      "<class 'dict'>\n"
     ]
    }
   ],
   "source": [
    "# 딕셔너리는 어떠한 형태든지 수용 가능하다.\n",
    "test1 = {'age': 40.5, 'job': [1, 2, 3], 'name': {'Kim': 2, \"Cho\": 1}}\n",
    "print(test1)\n",
    "print(type(test1))"
   ]
  },
  {
   "cell_type": "code",
   "execution_count": 63,
   "metadata": {},
   "outputs": [
    {
     "name": "stdout",
     "output_type": "stream",
     "text": [
      "[1, 2, 3, 'green', {'apple': 1}]\n",
      "<class 'list'>\n"
     ]
    }
   ],
   "source": [
    "# 최종을 무엇으로 감싸고 있냐에 따라서 데이터 타입이 결정된다.\n",
    "test2 = [1, 2, 3, ('green'), {'apple': 1}]\n",
    "print(test2)\n",
    "print(type(test2))"
   ]
  },
  {
   "cell_type": "code",
   "execution_count": 65,
   "metadata": {},
   "outputs": [
    {
     "name": "stdout",
     "output_type": "stream",
     "text": [
      "False\n",
      "<class 'bool'>\n"
     ]
    }
   ],
   "source": [
    "# isTrue는 자바의 Boolean과 같은 형식\n",
    "# 참(True)과 거짓(False)\n",
    "# if(idx % 2 ==0)\n",
    "# if(1(idx % 2))\n",
    "\n",
    "isTrue = False\n",
    "print(isTrue)\n",
    "print(type(isTrue))"
   ]
  },
  {
   "cell_type": "code",
   "execution_count": 66,
   "metadata": {},
   "outputs": [
    {
     "name": "stdout",
     "output_type": "stream",
     "text": [
      "True\n",
      "True\n",
      "False\n"
     ]
    }
   ],
   "source": [
    "print(1 < 2)\n",
    "print(1 != 2)\n",
    "print(1 == 2)"
   ]
  },
  {
   "cell_type": "code",
   "execution_count": 69,
   "metadata": {},
   "outputs": [
    {
     "name": "stdout",
     "output_type": "stream",
     "text": [
      "False\n",
      "True\n",
      "True\n",
      "False\n",
      "True\n",
      "True\n"
     ]
    }
   ],
   "source": [
    "# AND연산의 경우 양쪽이 모두 참일 경우에만 결론이 참이 된다.\n",
    "# and와 &는 같다. 자바는 &&\n",
    "print(True and False)\n",
    "print(True & True) \n",
    "\n",
    "# OR연산의 경우 둘 중 하나만 참이어도 참. \n",
    "#여러개여도 하나만참이면 True.\n",
    "# or와 |는 같다. 자바는 ||\n",
    "print(True or False)\n",
    "print(False | False)\n",
    "print(False | False | True)\n",
    "\n",
    "# not과 !는 같다.\n",
    "print(not False)"
   ]
  },
  {
   "cell_type": "code",
   "execution_count": 70,
   "metadata": {},
   "outputs": [
    {
     "name": "stdout",
     "output_type": "stream",
     "text": [
      "False\n",
      "True\n",
      "True\n",
      "False\n",
      "False\n"
     ]
    }
   ],
   "source": [
    "# 컴퓨터에서 0은 무조건 거짓\n",
    "print(bool(0))\n",
    "# 0 이외의 값들은 전부 참\n",
    "print(bool(-1))\n",
    "print(bool('test'))\n",
    "\n",
    "# None은 아무것도 없음을 의미하므로 거짓\n",
    "print(bool(None))\n",
    "\n",
    "# 홑따옴표 두개는 빈 문자열로 마찬가지로 거짓\n",
    "print(bool(''))"
   ]
  },
  {
   "cell_type": "code",
   "execution_count": 71,
   "metadata": {},
   "outputs": [
    {
     "name": "stdout",
     "output_type": "stream",
     "text": [
      "val is bigger than 5\n"
     ]
    }
   ],
   "source": [
    "# 스코핑: 범위를 지정하는 것\n",
    "# if(test == 0) ( bla bla ~~~)\n",
    "# 파이썬은 스코핑을 콜론 : 과 들여쓰기로 구분한다. \n",
    "# 범위라는 것은 if문의 범위, for문의 범위, while문의 범위, 클래스의 범위, 매서드의 범위 등등 다양하다.\n",
    "val = 10\n",
    "if val > 5:\n",
    "    print(\"val is bigger than 5\")\n",
    "    \n",
    "# int val = 10;\n",
    "# if (val >5) {\n",
    "#    printf(\"val is bigger than 5\")\n",
    "# }"
   ]
  },
  {
   "cell_type": "code",
   "execution_count": 72,
   "metadata": {},
   "outputs": [
    {
     "name": "stdout",
     "output_type": "stream",
     "text": [
      "banana\n"
     ]
    }
   ],
   "source": [
    "money = 10\n",
    "\n",
    "if money > 100:\n",
    "    item = \"apple\"\n",
    "else:\n",
    "    item = 'banana'\n",
    "print(item)\n",
    "\n",
    "# if (test == 0) {\n",
    "#    sout\n",
    "# } else {\n",
    "#    sout\n",
    "# }"
   ]
  },
  {
   "cell_type": "code",
   "execution_count": 73,
   "metadata": {},
   "outputs": [
    {
     "name": "stdout",
     "output_type": "stream",
     "text": [
      "input score: 100\n",
      "Grade is A\n"
     ]
    }
   ],
   "source": [
    "# 파이썬은 elif , 자바는 elseif\n",
    "score = int(input(('input score: ')))\n",
    "if 90 <= score <= 100:\n",
    "    grade = 'A'\n",
    "elif 80 <= score < 90: \n",
    "    grade = 'B'\n",
    "else:\n",
    "    grade = 'c'\n",
    "    \n",
    "print(\"Grade is \" + grade)\n",
    "\n",
    "# 자바의 경우 if문의 위치를 잘못 선정할 경우 의도치 않은 오류가 발생할 수 있는데\n",
    "# 파이썬의 경우 부등식을 통해 명확한 범위를 지정해줄 수 있어 오류를 최소화 할 수 있다.\n",
    "# Sacnner scan = new Scanner(System.in);\n",
    "# int num = scan.nextInt();\n",
    "# if (num >= 90 ) {\n",
    "#    sout(A)\n",
    "# } else if(num >= 80) {\n",
    "#    sout(B)\n",
    "# }"
   ]
  },
  {
   "cell_type": "code",
   "execution_count": null,
   "metadata": {},
   "outputs": [],
   "source": [
    "# 검색 창에 anaconda prompt\n",
    "\n",
    "# dir명령어는 현재 위치에 있는 폴더와 파일을 보여준다.\n",
    "# cd는 Change Directory 약자로 폴더 이동을 수행한다.\n",
    "# dir에서 나오는 .은 현재 위치를 의미한다.\n",
    "# dir에서 나오는 ..은 상위 디렉토리를 의미한다.\n",
    "# cd (리눅스의 pwd와 동일) 현재 위치가 어디인지 알려준다.\n",
    "\n",
    "# 초기 설정 시\n",
    "# cd c:\\- c드라이브로 이동\n",
    "# mkdir proj  - proj 디렉토리 만듦\n",
    "# cd proj  - proj 디렉토리로 이동\n",
    "# git clone https://github.com/silenc3502/PythonWorkshop.git  - 복사한 Git URL 붙여넣기\n",
    "\n",
    "# 이 후에 변경 사항 및 추가된 업데이트를 적용할 때\n",
    "# cd c:\\proj\\PythonWorkshop 입력\n",
    "# git pull origin master 입력\n",
    "\n",
    "# 만약 자신의 컴퓨터에서 직접 jupyter를 띄워서 보려면\n",
    "# jupyter notebook 입력\n",
    "# 위와 같이 하면 first.ipynb, second.ipynb 등을 모두 직접 볼 수 있다.\n"
   ]
  }
 ],
 "metadata": {
  "kernelspec": {
   "display_name": "Python 3",
   "language": "python",
   "name": "python3"
  },
  "language_info": {
   "codemirror_mode": {
    "name": "ipython",
    "version": 3
   },
   "file_extension": ".py",
   "mimetype": "text/x-python",
   "name": "python",
   "nbconvert_exporter": "python",
   "pygments_lexer": "ipython3",
   "version": "3.7.6"
  }
 },
 "nbformat": 4,
 "nbformat_minor": 4
}
