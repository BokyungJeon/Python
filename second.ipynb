{
 "cells": [
  {
   "cell_type": "code",
   "execution_count": 1,
   "metadata": {},
   "outputs": [
    {
     "name": "stdout",
     "output_type": "stream",
     "text": [
      "Second\n"
     ]
    }
   ],
   "source": [
    "print('Second')"
   ]
  },
  {
   "cell_type": "code",
   "execution_count": 2,
   "metadata": {},
   "outputs": [
    {
     "name": "stdout",
     "output_type": "stream",
     "text": [
      "test python\n"
     ]
    }
   ],
   "source": [
    "# 홑 따옴표도 문자열\n",
    "testStr = 'test' + ' python'\n",
    "print(testStr)"
   ]
  },
  {
   "cell_type": "code",
   "execution_count": 3,
   "metadata": {},
   "outputs": [
    {
     "name": "stdout",
     "output_type": "stream",
     "text": [
      "test python\n"
     ]
    }
   ],
   "source": [
    "# 쌍 따옴표도 문자열\n",
    "test = \"test \" + 'python'\n",
    "print(test)"
   ]
  },
  {
   "cell_type": "code",
   "execution_count": 4,
   "metadata": {},
   "outputs": [
    {
     "name": "stdout",
     "output_type": "stream",
     "text": [
      "pointer index\n",
      "p\n",
      "n\n"
     ]
    }
   ],
   "source": [
    "# 원래 자바나 C는 메모리 섹션(데이터)에 아래 내용을 배치했다.\n",
    "# 그래서 사용자가 쉽게 접근하기가 어려웠지만\n",
    "# 파이썬은 그냥 언어차원에서 접근을 제공한다.\n",
    "\n",
    "# 바이트 - 비트가 8개 모이면 1 바이트가 된다.\n",
    "# 비트 - 0과 1을 표현할 수 있는 최소 단위\n",
    "# 컴퓨터(기계)가 해석할 수 있는 언어가 0과 1 뿐이기 때문\n",
    "str = \"pointer index\"\n",
    "print(str)\n",
    "# 아래와 같이 실제로 우리가 사용하는 문자열은\n",
    "# 1바이트 타입의 배열이 되어 저장되어 있다.\n",
    "# | p | o | i | n | t | e | r |   | i | \n",
    "# [0] [1] [2] [3] [4] [5] [6] [7] [8]\n",
    "print(str[0])\n",
    "print(str[3])"
   ]
  },
  {
   "cell_type": "code",
   "execution_count": 5,
   "metadata": {},
   "outputs": [
    {
     "name": "stdout",
     "output_type": "stream",
     "text": [
      "p\n",
      "oin\n",
      "po\n",
      "ex\n",
      "pointer index\n",
      "pitridx\n"
     ]
    }
   ],
   "source": [
    "# 0부터 1전까지 == for(i = 0; i < 1; i++) --> true\n",
    "print(str[0:1])\n",
    "# 1부터 4전까지 == for(i = 1; i < 4; i++) --> true\n",
    "print(str[1:4])\n",
    "# 생략되었을 경우에는 0부터 시작\n",
    "# 0부터 2전까지 == for(i = 0; i < 2; i++) --> true\n",
    "print(str[:2])\n",
    "# -2라는 것은 뒤에서 2개를 의미한다.\n",
    "# 즉 -2부터 0까지가 된다 == for(i = -2; i < 0; i++) --> true\n",
    "print(str[-2:])\n",
    "# [:]은 전부다 복사한다.\n",
    "# 새로운 객체를 만듭니다.\n",
    "print(str[:])\n",
    "# 전부 복사하는데 2칸씩 건너뛴다.\n",
    "print(str[::2])"
   ]
  },
  {
   "cell_type": "code",
   "execution_count": 1,
   "metadata": {},
   "outputs": [
    {
     "name": "stdout",
     "output_type": "stream",
     "text": [
      "3.14\n",
      "77\n",
      "33.0\n",
      "<class 'str'>\n",
      "<class 'int'>\n",
      "<class 'float'>\n"
     ]
    }
   ],
   "source": [
    "# TypeError: 'str' object is not callable\n",
    "makeStr = str(3.14)\n",
    "intStr = int(\"77\")\n",
    "floatStr = float(\"33\")\n",
    "\n",
    "print(makeStr)\n",
    "print(intStr)\n",
    "print(floatStr)\n",
    "\n",
    "print(type(makeStr))\n",
    "print(type(intStr))\n",
    "print(type(floatStr))"
   ]
  },
  {
   "cell_type": "code",
   "execution_count": 2,
   "metadata": {},
   "outputs": [
    {
     "name": "stdout",
     "output_type": "stream",
     "text": [
      "['red', 'green', 'blue']\n",
      "<class 'list'>\n"
     ]
    }
   ],
   "source": [
    "colors = ['red', 'green', 'blue']\n",
    "\n",
    "print(colors)\n",
    "print(type(colors))"
   ]
  },
  {
   "cell_type": "code",
   "execution_count": 3,
   "metadata": {},
   "outputs": [
    {
     "name": "stdout",
     "output_type": "stream",
     "text": [
      "['red', 'green', 'blue', 'gold']\n"
     ]
    }
   ],
   "source": [
    "# 리스트: 자료구조중 가장 간단한 녀석에 속한다.\n",
    "# 대표적으로 스택과 큐가 있다.\n",
    "\n",
    "# append를 리스트의 마지막에 값을 집어넣게 된다.\n",
    "# 한마디로 파이썬의 리스트는 기본적으로 큐 방식을 사용한다.\n",
    "# 큐는 선입선출, 스택은 후입선출\n",
    "colors.append('gold')\n",
    "print(colors)"
   ]
  },
  {
   "cell_type": "code",
   "execution_count": 4,
   "metadata": {},
   "outputs": [
    {
     "name": "stdout",
     "output_type": "stream",
     "text": [
      "['red', 'black', 'green', 'blue', 'gold']\n"
     ]
    }
   ],
   "source": [
    "# 번호, 다음에 가리킬 번호, 데이터\n",
    "# 위의 주석은 관리 차원\n",
    "# (1000000000개중 데이터 1개를 앞에 추가할 때)\n",
    "\n",
    "# [1] 인덱스에 'black'을 배치해라.\n",
    "colors.insert(1, 'black')\n",
    "print(colors)"
   ]
  },
  {
   "cell_type": "code",
   "execution_count": 5,
   "metadata": {},
   "outputs": [
    {
     "name": "stdout",
     "output_type": "stream",
     "text": [
      "['red', 'black', 'green', 'blue', 'gold', 'white', 'gray']\n"
     ]
    }
   ],
   "source": [
    "# extend는 현재 원소의 맨 뒤쪽에 리스트를 추가한다.\n",
    "colors.extend(['white', 'gray'])\n",
    "print(colors)"
   ]
  },
  {
   "cell_type": "code",
   "execution_count": 6,
   "metadata": {},
   "outputs": [
    {
     "name": "stdout",
     "output_type": "stream",
     "text": [
      "['red', 'black', 'green', 'blue', 'gold', 'white', 'gray', 'purple', 'red']\n"
     ]
    }
   ],
   "source": [
    "colors += ['purple']\n",
    "colors += ['red']\n",
    "print(colors)"
   ]
  },
  {
   "cell_type": "code",
   "execution_count": 7,
   "metadata": {},
   "outputs": [
    {
     "name": "stdout",
     "output_type": "stream",
     "text": [
      "7\n"
     ]
    }
   ],
   "source": [
    "# index는 특정 원소의 위치가 어디인지 알려준다.\n",
    "print(colors.index('purple'))"
   ]
  },
  {
   "cell_type": "code",
   "execution_count": 9,
   "metadata": {},
   "outputs": [
    {
     "name": "stdout",
     "output_type": "stream",
     "text": [
      "8\n",
      "0\n"
     ]
    }
   ],
   "source": [
    "# 위와 마찬가지지만 시작을 1부터 하게 된다.\n",
    "# 그러므로 맨 앞에 있는 0번을 무시하게 된다.\n",
    "print(colors.index('red', 1))\n",
    "print(colors.index('red'))"
   ]
  },
  {
   "cell_type": "code",
   "execution_count": 10,
   "metadata": {},
   "outputs": [
    {
     "ename": "ValueError",
     "evalue": "'blue' is not in list",
     "output_type": "error",
     "traceback": [
      "\u001b[1;31m---------------------------------------------------------------------------\u001b[0m",
      "\u001b[1;31mValueError\u001b[0m                                Traceback (most recent call last)",
      "\u001b[1;32m<ipython-input-10-eb3affb8c4bf>\u001b[0m in \u001b[0;36m<module>\u001b[1;34m\u001b[0m\n\u001b[1;32m----> 1\u001b[1;33m \u001b[0mprint\u001b[0m\u001b[1;33m(\u001b[0m\u001b[0mcolors\u001b[0m\u001b[1;33m.\u001b[0m\u001b[0mindex\u001b[0m\u001b[1;33m(\u001b[0m\u001b[1;34m'blue'\u001b[0m\u001b[1;33m,\u001b[0m \u001b[1;36m4\u001b[0m\u001b[1;33m,\u001b[0m \u001b[1;36m8\u001b[0m\u001b[1;33m)\u001b[0m\u001b[1;33m)\u001b[0m\u001b[1;33m\u001b[0m\u001b[1;33m\u001b[0m\u001b[0m\n\u001b[0m",
      "\u001b[1;31mValueError\u001b[0m: 'blue' is not in list"
     ]
    }
   ],
   "source": [
    "# 4 ~ 8까지 검사해주세요 ~\n",
    "print(colors.index('blue', 4, 8))"
   ]
  },
  {
   "cell_type": "code",
   "execution_count": 11,
   "metadata": {},
   "outputs": [
    {
     "name": "stdout",
     "output_type": "stream",
     "text": [
      "3\n"
     ]
    }
   ],
   "source": [
    "# 3 ~ 8까지 검사해주세요 ~\n",
    "print(colors.index('blue', 3, 8))"
   ]
  },
  {
   "cell_type": "code",
   "execution_count": 12,
   "metadata": {},
   "outputs": [
    {
     "name": "stdout",
     "output_type": "stream",
     "text": [
      "2\n"
     ]
    }
   ],
   "source": [
    "print(colors.count('red'))"
   ]
  },
  {
   "cell_type": "code",
   "execution_count": 13,
   "metadata": {},
   "outputs": [
    {
     "name": "stdout",
     "output_type": "stream",
     "text": [
      "['red', 'black', 'green', 'blue', 'gold', 'white', 'gray', 'purple', 'red']\n",
      "red\n",
      "purple\n",
      "gray\n",
      "['red', 'black', 'green', 'blue', 'gold', 'white']\n"
     ]
    }
   ],
   "source": [
    "print(colors)\n",
    "# pop이란 것은 보통 Stack에서 사용한다.\n",
    "# 왜냐하면 pop은 전형적인 후입선출 구조를 가지기 때문\n",
    "# 그래서 마지막 원소들이 출력되는 것을 볼 수 있다.\n",
    "print(colors.pop())\n",
    "print(colors.pop())\n",
    "print(colors.pop())\n",
    "print(colors)"
   ]
  },
  {
   "cell_type": "code",
   "execution_count": 14,
   "metadata": {},
   "outputs": [
    {
     "name": "stdout",
     "output_type": "stream",
     "text": [
      "['red', 'black', 'blue', 'gold', 'white', 'gray', 'purple', 'red']\n"
     ]
    }
   ],
   "source": [
    "colors = ['red', 'black', 'green', 'blue', \n",
    "          'gold', 'white', 'gray', 'purple', 'red']\n",
    "\n",
    "# 원하는 원소 제거\n",
    "colors.remove('green')\n",
    "print(colors)"
   ]
  },
  {
   "cell_type": "code",
   "execution_count": 15,
   "metadata": {},
   "outputs": [
    {
     "name": "stdout",
     "output_type": "stream",
     "text": [
      "origin sort:  ['black', 'blue', 'gold', 'gray', 'purple', 'red', 'red', 'white']\n"
     ]
    }
   ],
   "source": [
    "# 파이썬의 정렬은 sort 한 방으로 충분하다.\n",
    "colors.sort()\n",
    "print('origin sort: ', colors)"
   ]
  },
  {
   "cell_type": "code",
   "execution_count": 16,
   "metadata": {},
   "outputs": [
    {
     "name": "stdout",
     "output_type": "stream",
     "text": [
      "reverse:  ['white', 'red', 'red', 'purple', 'gray', 'gold', 'blue', 'black']\n"
     ]
    }
   ],
   "source": [
    "# 내림차순 정렬\n",
    "colors.reverse()\n",
    "print('reverse: ', colors)"
   ]
  },
  {
   "cell_type": "code",
   "execution_count": 19,
   "metadata": {},
   "outputs": [
    {
     "name": "stdout",
     "output_type": "stream",
     "text": [
      "reverse:  ['red', 'purple', 'gray', 'gold', 'blue', 'green', 'black', 'red']\n"
     ]
    }
   ],
   "source": [
    "colors = ['red', 'black', 'green', 'blue', \n",
    "          'gold', 'gray', 'purple', 'red']\n",
    "\n",
    "# 단순히 reverse는 내용을 뒤집는다.\n",
    "colors.reverse()\n",
    "print('reverse: ', colors)"
   ]
  },
  {
   "cell_type": "code",
   "execution_count": 17,
   "metadata": {},
   "outputs": [
    {
     "name": "stdout",
     "output_type": "stream",
     "text": [
      "['red', 'red', 'gold', 'white', 'purple', 'blue', 'black', 'gray']\n"
     ]
    }
   ],
   "source": [
    "def mysort(x):\n",
    "    return x[-1]\n",
    "\n",
    "colors.sort(key = mysort)\n",
    "print(colors)"
   ]
  },
  {
   "cell_type": "code",
   "execution_count": 18,
   "metadata": {},
   "outputs": [
    {
     "name": "stdout",
     "output_type": "stream",
     "text": [
      "['red', 'gold', 'red', 'blue', 'white', 'purple', 'black', 'green', 'gray']\n"
     ]
    }
   ],
   "source": [
    "colors = ['red', 'black', 'green', 'blue', \n",
    "          'gold', 'white', 'gray', 'purple', 'red']\n",
    "\n",
    "def mysort(x):\n",
    "    return x[-1]\n",
    "\n",
    "colors.sort(key = mysort)\n",
    "print(colors)"
   ]
  },
  {
   "cell_type": "code",
   "execution_count": null,
   "metadata": {},
   "outputs": [],
   "source": []
  }
 ],
 "metadata": {
  "kernelspec": {
   "display_name": "Python 3",
   "language": "python",
   "name": "python3"
  },
  "language_info": {
   "codemirror_mode": {
    "name": "ipython",
    "version": 3
   },
   "file_extension": ".py",
   "mimetype": "text/x-python",
   "name": "python",
   "nbconvert_exporter": "python",
   "pygments_lexer": "ipython3",
   "version": "3.7.6"
  }
 },
 "nbformat": 4,
 "nbformat_minor": 4
}
