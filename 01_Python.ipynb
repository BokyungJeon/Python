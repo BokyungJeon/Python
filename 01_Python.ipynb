{
 "cells": [
  {
   "cell_type": "code",
   "execution_count": 1,
   "metadata": {},
   "outputs": [
    {
     "name": "stdout",
     "output_type": "stream",
     "text": [
      "Hello Python Programming~~\n"
     ]
    }
   ],
   "source": [
    "print(\"Hello Python Programming~~\")"
   ]
  },
  {
   "cell_type": "code",
   "execution_count": 2,
   "metadata": {},
   "outputs": [
    {
     "name": "stdout",
     "output_type": "stream",
     "text": [
      "1\n",
      "10\n"
     ]
    }
   ],
   "source": [
    "# 소문자와 대문자 다르게 인식\n",
    "num = 1\n",
    "Num = 10\n",
    "print(num)\n",
    "print(Num)"
   ]
  },
  {
   "cell_type": "code",
   "execution_count": 5,
   "metadata": {},
   "outputs": [
    {
     "name": "stdout",
     "output_type": "stream",
     "text": [
      "(3-4j)\n",
      "<class 'complex'>\n",
      "-4.0\n",
      "3.0\n",
      "(3+4j)\n"
     ]
    }
   ],
   "source": [
    "# 과학자들이 파이썬을 많이 씀. 근데 전류 기호가 i(ex. V=iR). \n",
    "# 과학자들이 헷갈려하므로 복소수i대신 j로 사용.\n",
    "z = 3 -4j\n",
    "\n",
    "print(z)\n",
    "print(type(z))\n",
    "\n",
    "# .img(imaginary): 허수\n",
    "print(z.imag)\n",
    "\n",
    "# .real: 실수\n",
    "print(z.real)\n",
    "\n",
    "print(z.conjugate())"
   ]
  },
  {
   "cell_type": "code",
   "execution_count": 6,
   "metadata": {},
   "outputs": [
    {
     "name": "stdout",
     "output_type": "stream",
     "text": [
      "27\n"
     ]
    }
   ],
   "source": [
    "# x ** n :x의 n제곱. \n",
    "# Java에서는 Math.pow(x, 3)\n",
    "res = 3 ** 3\n",
    "print(res)"
   ]
  },
  {
   "cell_type": "code",
   "execution_count": 7,
   "metadata": {},
   "outputs": [
    {
     "name": "stdout",
     "output_type": "stream",
     "text": [
      "2\n",
      "333\n",
      "2.3333333333333335\n"
     ]
    }
   ],
   "source": [
    "# 파이썬은의 데이터 타입 자동 맞춤을 지원\n",
    "# 나눗셈의 몫만 필요한 경우 //를 사용\n",
    "num1 = 7 // 3\n",
    "num2 = 3333 // 10\n",
    "num3 = 7 / 3\n",
    "\n",
    "print(num1)\n",
    "print(num2)\n",
    "print(num3)"
   ]
  },
  {
   "cell_type": "code",
   "execution_count": 16,
   "metadata": {},
   "outputs": [
    {
     "name": "stdout",
     "output_type": "stream",
     "text": [
      "string type\n",
      "string type too\n",
      "<class 'str'>\n",
      "<class 'str'>\n"
     ]
    }
   ],
   "source": [
    "# 쌍따옴표, 홑따옴표 모두 문자\n",
    "str1 = \"string type\"\n",
    "str2 = 'string type too'\n",
    "\n",
    "print(str1)\n",
    "print(str2)\n",
    "\n",
    "print(type(str1))\n",
    "print(type(str2))"
   ]
  },
  {
   "cell_type": "code",
   "execution_count": 11,
   "metadata": {},
   "outputs": [
    {
     "name": "stdout",
     "output_type": "stream",
     "text": [
      "\n",
      "    오늘\n",
      "        내일\n",
      "            모레\n",
      "\n",
      "\n"
     ]
    }
   ],
   "source": [
    "# fixStr = \"\"\"내용\"\"\" :내용을 형태 그대로 고정\n",
    "fixStr = \"\"\"\n",
    "    오늘\n",
    "        내일\n",
    "            모레\n",
    "\n",
    "\"\"\"\n",
    "\n",
    "print(fixStr)"
   ]
  },
  {
   "cell_type": "code",
   "execution_count": 17,
   "metadata": {},
   "outputs": [
    {
     "name": "stdout",
     "output_type": "stream",
     "text": [
      "\tTab\n",
      "\n",
      "NextLine\n",
      "Won = \\\n",
      "쌍따옴표 = '\n",
      "홑따옴표 = '\n"
     ]
    }
   ],
   "source": [
    "# \\t 탭, \\n 다음줄, 원화표시 \\\\, 쌍따옴표 \\\", 홑따옴표 \\'\n",
    "print(\"\\tTab\")\n",
    "print(\"\\nNextLine\")\n",
    "print(\"Won = \" + \"\\\\\")\n",
    "print(\"쌍따옴표 = \" + \"\\'\")\n",
    "print(\"홑따옴표 = \" + \"\\'\")"
   ]
  },
  {
   "cell_type": "code",
   "execution_count": null,
   "metadata": {},
   "outputs": [],
   "source": []
  }
 ],
 "metadata": {
  "kernelspec": {
   "display_name": "Python 3",
   "language": "python",
   "name": "python3"
  },
  "language_info": {
   "codemirror_mode": {
    "name": "ipython",
    "version": 3
   },
   "file_extension": ".py",
   "mimetype": "text/x-python",
   "name": "python",
   "nbconvert_exporter": "python",
   "pygments_lexer": "ipython3",
   "version": "3.7.6"
  }
 },
 "nbformat": 4,
 "nbformat_minor": 4
}
