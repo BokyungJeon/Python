{
 "cells": [
  {
   "cell_type": "code",
   "execution_count": 1,
   "metadata": {},
   "outputs": [
    {
     "name": "stdout",
     "output_type": "stream",
     "text": [
      "[1, 4, 9, 16, 25]\n"
     ]
    }
   ],
   "source": [
    "# 1 ~ 5까지 각 숫자의 제곱을 리스트로 만듦\n",
    "print([res ** 2 for res in range(1, 6)])"
   ]
  },
  {
   "cell_type": "code",
   "execution_count": 2,
   "metadata": {},
   "outputs": [
    {
     "name": "stdout",
     "output_type": "stream",
     "text": [
      "[1, 4, 9, 16, 25]\n"
     ]
    }
   ],
   "source": [
    "numList = [res ** 2 for res in range(1, 6)]\n",
    "print(numList)"
   ]
  },
  {
   "cell_type": "code",
   "execution_count": 3,
   "metadata": {},
   "outputs": [
    {
     "name": "stdout",
     "output_type": "stream",
     "text": [
      "[10, 15, 20, 25, 30]\n"
     ]
    }
   ],
   "source": [
    "# range(a, b, c) a부터 b까지 c씩 띄어서\n",
    "numList = [res for res in range( 10, 31, 5)]\n",
    "print(numList)"
   ]
  },
  {
   "cell_type": "code",
   "execution_count": 9,
   "metadata": {},
   "outputs": [
    {
     "name": "stdout",
     "output_type": "stream",
     "text": [
      "Item: 20\n",
      "Item: 25\n",
      "Item: 30\n",
      "Item: 35\n",
      "Item: 40\n"
     ]
    }
   ],
   "source": [
    "# 파이썬 함수(자바 관점에서는 매서드)\n",
    "def Add10(i):\n",
    "    return i + 10\n",
    "\n",
    "# map은 함수와 이터러블을 매개변수로 받아 함수에 이터러블 내 멤버 각각을 차례대로 적용한 새로운 이터러블을 반환하는 기능을 수행 \n",
    "# 이터러블(iterable: 파이썬에서 리스트, 튜플 등과 같이 내부 멤버를 하나씩 돌아가면서 반환해 줄 수 있는 컨테이너 객체)\n",
    "# map(매서드, 이터러블(리스트,튜플 등))\n",
    "\n",
    "for i in map(Add10, numList):\n",
    "    print(\"Item: {0}\".format(i))\n",
    "# numList의 요소들을 Add10으로 보내서 각각 10씩 더해준다."
   ]
  },
  {
   "cell_type": "code",
   "execution_count": 7,
   "metadata": {},
   "outputs": [
    {
     "name": "stdout",
     "output_type": "stream",
     "text": [
      "item: 25\n",
      "item: 30\n",
      "<filter object at 0x7f12cc182dd0>\n",
      "[]\n",
      "[25, 30]\n"
     ]
    }
   ],
   "source": [
    "# filter(매서드, 이터러블)\n",
    "# filter는 조건에 부합하지 않는 요소들을 이터러블에서 제거해주는 함수. 함수 자체는 불린값을 반환함\n",
    "\n",
    "def GetBiggerThan20(i):\n",
    "    return i > 20\n",
    "\n",
    "iterList = filter(GetBiggerThan20, numList)\n",
    "for i in iterList:\n",
    "    print(\"item: {0}\".format(i))\n",
    "\n",
    "print(iterList)\n",
    "# filter를 통해서 만든 결과는 다시 리스트(이터러블)화 할 수 없다.\n",
    "print(list(iterList))\n",
    "\n",
    "# 그러나 애초에 filter를 list로 감싸서 만들면 리스트(이터러블)로 만들 수 있다.\n",
    "newList = list(filter(GetBiggerThan20, numList))\n",
    "print(newList)"
   ]
  },
  {
   "cell_type": "code",
   "execution_count": 10,
   "metadata": {},
   "outputs": [
    {
     "name": "stdout",
     "output_type": "stream",
     "text": [
      "[25, 30]\n",
      "[20, 25, 30, 35, 40]\n"
     ]
    }
   ],
   "source": [
    "# lambda 런타임에서 생성해서 사용할 수 있는 익명의 함수. 사용즉시 버리는 일시적인 함수. 변수에 할당 가능.\n",
    "# lambda 인자리스트 : 표현식\n",
    "# 간단한 함수를 다른 함수의 매개변수로 전달해야 하는 경우 많이 사용\n",
    "# 고성능을 얻기 위해 사용한다. 병렬로 돌려 효율적임. 쓰래드를 쓸 때.\n",
    "\n",
    "resList = list(filter(lambda i: i > 20, numList))\n",
    "# numList에 있는 내용을 i로 전달해서 20보다 큰 것을 리스트로 만든다.\n",
    "print(resList)\n",
    "\n",
    "retList = list(map((lambda i : i + 10), numList))\n",
    "print(retList)"
   ]
  },
  {
   "cell_type": "code",
   "execution_count": null,
   "metadata": {},
   "outputs": [],
   "source": [
    "# 설명 아래에"
   ]
  },
  {
   "cell_type": "code",
   "execution_count": 11,
   "metadata": {},
   "outputs": [],
   "source": [
    "# 정상적인 코드인데 결과가 안나올때 껐다 키면 됨(윈도우 버그)\n",
    "# jupyter notebook third.ipynb --NotebookApp.iopub_data_rate_limit=2147483647"
   ]
  },
  {
   "cell_type": "code",
   "execution_count": 14,
   "metadata": {},
   "outputs": [
    {
     "name": "stdout",
     "output_type": "stream",
     "text": [
      "0\n",
      "1\n",
      "2\n",
      "3\n",
      "4\n",
      "5\n",
      "6\n",
      "7\n",
      "8\n",
      "9\n",
      "Take 0.0 seconds\n"
     ]
    }
   ],
   "source": [
    "import time\n",
    "\n",
    "l = range(10)\n",
    "\n",
    "t = time.mktime(time.localtime())\n",
    "\n",
    "for i in l:\n",
    "    print(i, )\n",
    "    \n",
    "t1 = time.mktime(time.localtime()) - t\n",
    "print(\"Take {0} seconds\".format(t1))"
   ]
  },
  {
   "cell_type": "code",
   "execution_count": 15,
   "metadata": {},
   "outputs": [
    {
     "name": "stdout",
     "output_type": "stream",
     "text": [
      "0, 1, 2, 3, 4, 5, 6, 7, 8, 9, 10, 11, 12, 13, 14, 15, 16, 17, 18, 19, 20, 21, 22, 23, 24, 25, 26, 27, 28, 29, 30, 31, 32, 33, 34, 35, 36, 37, 38, 39, 40, 41, 42, 43, 44, 45, 46, 47, 48, 49, 50, 51, 52, 53, 54, 55, 56, 57, 58, 59, 60, 61, 62, 63, 64, 65, 66, 67, 68, 69, 70, 71, 72, 73, 74, 75, 76, 77, 78, 79, 80, 81, 82, 83, 84, 85, 86, 87, 88, 89, 90, 91, 92, 93, 94, 95, 96, 97, 98, 99\n",
      "Take 0.0 seconds\n"
     ]
    }
   ],
   "source": [
    "import time\n",
    "\n",
    "l = range(100)\n",
    "\n",
    "t = time.mktime(time.localtime())\n",
    "print((\", \").join(str(i) for i in l ))\n",
    "t1 = time.mktime(time.localtime()) - t\n",
    "print(\"Take {0} seconds\".format(t1))"
   ]
  },
  {
   "cell_type": "code",
   "execution_count": null,
   "metadata": {},
   "outputs": [],
   "source": [
    "# Memory Hierarchy(메모리 계층 구조) -속도순 -역순은 용량순 \n",
    "# 1.레지스터 -----------CPU 내부에 존재\n",
    "# 2.캐시 메모리(SRAM)능--CPU 내부 : CPU가 아주 빠르게 접근가능\n",
    "# 3.메모리(DRAM)--------CPU 외부에 존재 : 레지스터와 캐시보다 느림\n",
    "# 4.I/O(디스크, 모니터, 마우스, 네트워크 등등) -(느리고 힘좋음. 많이 주고 한번 왔다갔다) -> .join\n",
    "# 하드디스크는 CPU가 직접 접근 불가. \n",
    "# CPU가 하드디스크에 접근하려면 하드디스크의 데이터를 메모리로 이동시키고 메모리에서 접근해야함. 아주 느린 접근.\n",
    "\n",
    "# CPU - 2.0 GHz ~ 3.0 GHz -오버쿨럭 5.0 GHz\n",
    "# GHz == 10^9 Hz(Hz: 1초에 몇 번 진동하나)\n",
    "# 컴퓨터 한 번 동작할 때 진동 1번. CPU 쿨럭이 1번 올라갔다 내려감\n",
    "# 일반적인 CPU는 1초에 20 0000 0000(20억)개의 명령을 실행할 수 있다\n",
    "\n",
    "# 내용이 빈번하게 자주 바뀌는 것들은 레지스터로 빠르게 처리\n",
    "# 대규모 I/O를 발생시키면서 바뀌는 경우 용량이 큰 I/O로 데이터를 한 번에 모아서 보냄\n",
    "# 블록 단위 연산: 데이터를 한 번에 모아서 전송하는 연산\n",
    "# 블록block: 블록 한 단위로 취급할 수 있는 문자character, 단어word, 레코드record의 집합\n",
    "# 주기억 장치(CPU)와 입출력 장치(I/O) 사이의 전송은 이 블록 단위로 행해짐.\n",
    "\n",
    "# cf. 블록킹blocking 연산은 특정 작업이 끝날 때까지 대기하는 연산"
   ]
  },
  {
   "cell_type": "code",
   "execution_count": 16,
   "metadata": {},
   "outputs": [
    {
     "name": "stdout",
     "output_type": "stream",
     "text": [
      "3000.0\n",
      "0 ~ 3까지 적분결과는 =8.995500499998984\n"
     ]
    }
   ],
   "source": [
    "# y = x^2에 대해 0 ~ 3까지의 적분을 구현해보자!\n",
    "\n",
    "# 1. dx = 0.001 (고정 - 무한소로 가정)\n",
    "# 2. x값의 이동을 기록하도록 한다.\n",
    "# 3. y는 현재의 x값에 따라서 변한다.\n",
    "# 4. dx * y로 사각형 넓이의 값을 구한다.\n",
    "# 5. 구한 모든 사각형 넓이의 합을 구한다.\n",
    "\n",
    "dx = 0.001\n",
    "start = 0.0\n",
    "end = 3.0\n",
    "\n",
    "loopLen = (end - start) / dx\n",
    "print(loopLen)\n",
    "\n",
    "x = 0\n",
    "y = 0\n",
    "area = 0\n",
    "\n",
    "for i in range(int(loopLen)):\n",
    "    # print(i)\n",
    "    # x의 위치에 따른 y의 높이값을 계산\n",
    "    y = x ** 2\n",
    "    # dx는 고정값인데 실제로 x는 위치를 이동하면서 y값을 갱신해줘야함\n",
    "    # 사각형을 만들기 위해서 밑변인 dx만큼 이동을 시킨다.\n",
    "    x += dx\n",
    "    # 사각형 넓이의 합을 구한다.\n",
    "    area += dx * y\n",
    "\n",
    "print(\"0 ~ 3까지 적분결과는 =\" + str(area))\n",
    "\n",
    "# y = x^2을 적분하면 1/3x^3 + c\n",
    "# 0 ~ 3까지의 정적분은 9에 근접한 값이 나온다.\n",
    "# dx가 작으면 작을수록 정밀도가 높아진다. 대신 계산량이 많아진다."
   ]
  },
  {
   "cell_type": "code",
   "execution_count": 18,
   "metadata": {},
   "outputs": [
    {
     "name": "stdout",
     "output_type": "stream",
     "text": [
      "<function times at 0x7f12cc0fdb00>\n",
      "100\n"
     ]
    }
   ],
   "source": [
    "# 파이썬에서 함수를 작성하는 방법\n",
    "# 보통 함수라는 표현은 C에서 많이 사용. 클래스 없이 매서드만 혼자 떨어져 있는 것.\n",
    "# 1.def를 적는다.\n",
    "# 2.함수 이름을 적는다.\n",
    "# 3.받을 인자를 적는다.\n",
    "# 자바는 데이터 타입을 지정해줘야 했지만 파이썬은 데이터 타입을 지정할 필요가 없다\n",
    "def times(a, b):\n",
    "    return a * b\n",
    "\n",
    "# 함수도 객체이므로 특정한 주소에 저장되어 있다.(메모리 저장) 그 주소를 보여줌.\n",
    "print(times) \n",
    "# 아래와 같이 함수를 호출하여 실행할 수 있다.\n",
    "print(times(10, 10))"
   ]
  },
  {
   "cell_type": "code",
   "execution_count": 19,
   "metadata": {},
   "outputs": [
    {
     "name": "stdout",
     "output_type": "stream",
     "text": [
      "{'__name__': '__main__', '__doc__': 'Automatically created module for IPython interactive environment', '__package__': None, '__loader__': None, '__spec__': None, '__builtin__': <module 'builtins' (built-in)>, '__builtins__': <module 'builtins' (built-in)>, '_ih': ['', '# 1 ~ 5까지 각 숫자의 제곱을 리스트로 만듦\\nprint([res ** 2 for res in range(1, 6)])', 'numList = [res ** 2 for res in range(1, 6)]\\nprint(numList)', '# range(a, b, c) a부터 b까지 c씩 띄어서\\nnumList = [res for res in range( 10, 31, 5)]\\nprint(numList)', '# 파이썬 함수(자바 관점에서는 매서드)\\ndef GetBiggerThan20(i):\\n    return i > 20\\n\\n# filter는 함수 객체와 리스트를 인자로 계산한 것\\n# filter(매서드, 리스트)\\niterList = filter(GetBiggerThan20, numList)\\nfor i in iterList:\\n    print(\"item: {0}\".format(i))\\n\\nprint(iterList)\\n# filter를 통해서 만든 결과는 다시 리스트화 할 수 없다.\\nprint(list(iterList))\\n\\n# 그러나 애초에 filter를 list로 감싸서 만들면 리스트로 만들 수 있다.\\nnewList = list(filter(GetBiggerThan20, numList))\\nprint(newList)', '# lambda 익명의 함수. 사용즉시 버리는 일시적인 함수.변수에 할당 가능.\\n# 간단한 함수를 다른 함수의 매개변수로 전달해야 하는 경우 많이 사용\\n# numList에 있는 내용을 i로 전달해서 20보다 큰 것을 리스트로 만든다.\\nresList = list(filter(lambda i: i > 20, numList))\\nprint(resList)', '# 파이썬 함수(자바 관점에서는 매서드)\\ndef Add10(i)\\n    return i + 10\\n\\n# map은 함수와 이터러블을 매개변수로 받아 함수에 이터러블 내 멤버 각각을 차례대로 적용한 새로운 이터러블을 반환하는 기능을 수행 \\n# 이터러블(iterable: 파이썬에서 리스트, 튜플 등과 같이 내부 멤버를 하나씩 돌아가면서 반환해 줄 수 있는 컨테이너 객체)\\n# map(매서드, 이터러블(리스트,튜플 등))\\n\\nfor i in map(Add10, numList):\\n    print(\"Item: {0}\".format(i))\\n# numList의 요소들을 Add10으로 보내서 각각 10씩 더해준다.', '# filter(매서드, 이터러블)\\n# filter는 조건에 부합하지 않는 요소들을 이터러블에서 제거해주는 함수. 함수 자체는 불린값을 반환함\\n\\ndef GetBiggerThan20(i):\\n    return i > 20\\n\\niterList = filter(GetBiggerThan20, numList)\\nfor i in iterList:\\n    print(\"item: {0}\".format(i))\\n\\nprint(iterList)\\n# filter를 통해서 만든 결과는 다시 리스트(이터러블)화 할 수 없다.\\nprint(list(iterList))\\n\\n# 그러나 애초에 filter를 list로 감싸서 만들면 리스트(이터러블)로 만들 수 있다.\\nnewList = list(filter(GetBiggerThan20, numList))\\nprint(newList)', '# lambda 런타임에서 생성해서 사용할 수 있는 익명의 함수. 사용즉시 버리는 일시적인 함수. 변수에 할당 가능.\\n# lambda 인자리스트 : 표현식\\n# 간단한 함수를 다른 함수의 매개변수로 전달해야 하는 경우 많이 사용\\n# 고성능을 얻기 위해 사용한다. 병렬로 돌려 효율적임. 쓰래드를 쓸 때.\\n\\nresList = list(filter(lambda i: i > 20, numList))\\n# numList에 있는 내용을 i로 전달해서 20보다 큰 것을 리스트로 만든다.\\nprint(resList)', '# 파이썬 함수(자바 관점에서는 매서드)\\ndef Add10(i):\\n    return i + 10\\n\\n# map은 함수와 이터러블을 매개변수로 받아 함수에 이터러블 내 멤버 각각을 차례대로 적용한 새로운 이터러블을 반환하는 기능을 수행 \\n# 이터러블(iterable: 파이썬에서 리스트, 튜플 등과 같이 내부 멤버를 하나씩 돌아가면서 반환해 줄 수 있는 컨테이너 객체)\\n# map(매서드, 이터러블(리스트,튜플 등))\\n\\nfor i in map(Add10, numList):\\n    print(\"Item: {0}\".format(i))\\n# numList의 요소들을 Add10으로 보내서 각각 10씩 더해준다.', '# lambda 런타임에서 생성해서 사용할 수 있는 익명의 함수. 사용즉시 버리는 일시적인 함수. 변수에 할당 가능.\\n# lambda 인자리스트 : 표현식\\n# 간단한 함수를 다른 함수의 매개변수로 전달해야 하는 경우 많이 사용\\n# 고성능을 얻기 위해 사용한다. 병렬로 돌려 효율적임. 쓰래드를 쓸 때.\\n\\nresList = list(filter(lambda i: i > 20, numList))\\n# numList에 있는 내용을 i로 전달해서 20보다 큰 것을 리스트로 만든다.\\nprint(resList)\\n\\nretList = list(map((lambda i : i + 10), numList))\\nprint(retList)', '# 정상적인 코드인데 결과가 안나올때 껐다 키면 됨(윈도우 버그)\\n# jupyter notebook third.ipynb --NotebookApp.iopub_data_rate_limit=2147483647', 'import time\\nl = range(500000)\\nt = time.mktime(time.localtime())\\n\\nfor i in l:\\n    print(i, )\\n    \\nt1 = time.mktime(time.localtime()) - t\\n\\nt = time.mktime(time.localtime())\\nprint((\", \").join(str(i) for i in l ))\\nt2 = time.mktime(time.localtime()) - t\\n\\nprint(\"Take {0} seconds\".format(t1))\\nprint(\"Take {0} seconds\".format(t2))', 'import time\\nl = range(500000)\\nt = time.mktime(time.localtime())\\n\\nfor i in l:\\n    print(i, )\\n    \\nt1 = time.mktime(time.localtime()) - t\\n\\nt = time.mktime(time.localtime())\\nprint((\", \").join(str(i) for i in l ))\\nt2 = time.mktime(time.localtime()) - t\\n\\nprint(\"Take {0} seconds\".format(t1))\\nprint(\"Take {0} seconds\".format(t2))', 'import time\\n\\nl = range(10)\\n\\nt = time.mktime(time.localtime())\\n\\nfor i in l:\\n    print(i, )\\n    \\nt1 = time.mktime(time.localtime()) - t\\nprint(\"Take {0} seconds\".format(t1))', 'import time\\n\\nl = range(100)\\n\\nt = time.mktime(time.localtime())\\nprint((\", \").join(str(i) for i in l ))\\nt1 = time.mktime(time.localtime()) - t\\nprint(\"Take {0} seconds\".format(t1))', '# y = x^2에 대해 0 ~ 3까지의 적분을 구현해보자!\\n\\n# 1. dx = 0.001 (고정 - 무한소로 가정)\\n# 2. x값의 이동을 기록하도록 한다.\\n# 3. y는 현재의 x값에 따라서 변한다.\\n# 4. dx * y로 사각형 넓이의 값을 구한다.\\n# 5. 구한 모든 사각형 넓이의 합을 구한다.\\n\\ndx = 0.001\\nstart = 0.0\\nend = 3.0\\n\\nloopLen = (end - start) / dx\\nprint(loopLen)\\n\\nx = 0\\ny = 0\\narea = 0\\n\\nfor i in range(int(loopLen)):\\n    # print(i)\\n    # x의 위치에 따른 y의 높이값을 계산\\n    y = x ** 2\\n    # dx는 고정값인데 실제로 x는 위치를 이동하면서 y값을 갱신해줘야함\\n    # 사각형을 만들기 위해서 밑변인 dx만큼 이동을 시킨다.\\n    x += dx\\n    # 사각형 넓이의 합을 구한다.\\n    area += dx * y\\n\\nprint(\"0 ~ 3까지 적분결과는 =\" + str(area))\\n\\n# y = x^2을 적분하면 1/3x^3 + c\\n# 0 ~ 3까지의 정적분은 9에 근접한 값이 나온다.\\n# dx가 작으면 작을수록 정밀도가 높아진다. 대신 계산량이 많아진다.', '# 함수를 받아서 사용가능\\npointerOfFunction = times\\nres = pointerOfFunction(10, 10)\\nprint(res)', '# 파이썬에서 함수를 작성하는 방법\\n# 보통 함수라는 표현은 C에서 많이 사용. 클래스 없이 매서드만 혼자 떨어져 있는 것.\\n# 1.def를 적는다.\\n# 2.함수 이름을 적는다.\\n# 3.받을 인자를 적는다.\\n# 자바는 데이터 타입을 지정해줘야 했지만 파이썬은 데이터 타입을 지정할 필요가 없다\\ndef times(a, b):\\n    return a * b\\n\\n# 함수도 객체이므로 특정한 주소에 저장되어 있다.(메모리 저장) 그 주소를 보여줌.\\nprint(times) \\n# 아래와 같이 함수를 호출하여 실행할 수 있다.\\nprint(times(10, 10))', '# 현재 파이썬에서 사용하고 있는 함수들을 보여준다.\\n# 팀프로젝트를 활용하다 함수가 활용이 안될 경우 나랑 겹치는 함수가 있는지 확인할 때 사용가능\\nprint(globals()) '], '_oh': {}, '_dh': ['/home/bitai/proj/testRepoBK'], 'In': ['', '# 1 ~ 5까지 각 숫자의 제곱을 리스트로 만듦\\nprint([res ** 2 for res in range(1, 6)])', 'numList = [res ** 2 for res in range(1, 6)]\\nprint(numList)', '# range(a, b, c) a부터 b까지 c씩 띄어서\\nnumList = [res for res in range( 10, 31, 5)]\\nprint(numList)', '# 파이썬 함수(자바 관점에서는 매서드)\\ndef GetBiggerThan20(i):\\n    return i > 20\\n\\n# filter는 함수 객체와 리스트를 인자로 계산한 것\\n# filter(매서드, 리스트)\\niterList = filter(GetBiggerThan20, numList)\\nfor i in iterList:\\n    print(\"item: {0}\".format(i))\\n\\nprint(iterList)\\n# filter를 통해서 만든 결과는 다시 리스트화 할 수 없다.\\nprint(list(iterList))\\n\\n# 그러나 애초에 filter를 list로 감싸서 만들면 리스트로 만들 수 있다.\\nnewList = list(filter(GetBiggerThan20, numList))\\nprint(newList)', '# lambda 익명의 함수. 사용즉시 버리는 일시적인 함수.변수에 할당 가능.\\n# 간단한 함수를 다른 함수의 매개변수로 전달해야 하는 경우 많이 사용\\n# numList에 있는 내용을 i로 전달해서 20보다 큰 것을 리스트로 만든다.\\nresList = list(filter(lambda i: i > 20, numList))\\nprint(resList)', '# 파이썬 함수(자바 관점에서는 매서드)\\ndef Add10(i)\\n    return i + 10\\n\\n# map은 함수와 이터러블을 매개변수로 받아 함수에 이터러블 내 멤버 각각을 차례대로 적용한 새로운 이터러블을 반환하는 기능을 수행 \\n# 이터러블(iterable: 파이썬에서 리스트, 튜플 등과 같이 내부 멤버를 하나씩 돌아가면서 반환해 줄 수 있는 컨테이너 객체)\\n# map(매서드, 이터러블(리스트,튜플 등))\\n\\nfor i in map(Add10, numList):\\n    print(\"Item: {0}\".format(i))\\n# numList의 요소들을 Add10으로 보내서 각각 10씩 더해준다.', '# filter(매서드, 이터러블)\\n# filter는 조건에 부합하지 않는 요소들을 이터러블에서 제거해주는 함수. 함수 자체는 불린값을 반환함\\n\\ndef GetBiggerThan20(i):\\n    return i > 20\\n\\niterList = filter(GetBiggerThan20, numList)\\nfor i in iterList:\\n    print(\"item: {0}\".format(i))\\n\\nprint(iterList)\\n# filter를 통해서 만든 결과는 다시 리스트(이터러블)화 할 수 없다.\\nprint(list(iterList))\\n\\n# 그러나 애초에 filter를 list로 감싸서 만들면 리스트(이터러블)로 만들 수 있다.\\nnewList = list(filter(GetBiggerThan20, numList))\\nprint(newList)', '# lambda 런타임에서 생성해서 사용할 수 있는 익명의 함수. 사용즉시 버리는 일시적인 함수. 변수에 할당 가능.\\n# lambda 인자리스트 : 표현식\\n# 간단한 함수를 다른 함수의 매개변수로 전달해야 하는 경우 많이 사용\\n# 고성능을 얻기 위해 사용한다. 병렬로 돌려 효율적임. 쓰래드를 쓸 때.\\n\\nresList = list(filter(lambda i: i > 20, numList))\\n# numList에 있는 내용을 i로 전달해서 20보다 큰 것을 리스트로 만든다.\\nprint(resList)', '# 파이썬 함수(자바 관점에서는 매서드)\\ndef Add10(i):\\n    return i + 10\\n\\n# map은 함수와 이터러블을 매개변수로 받아 함수에 이터러블 내 멤버 각각을 차례대로 적용한 새로운 이터러블을 반환하는 기능을 수행 \\n# 이터러블(iterable: 파이썬에서 리스트, 튜플 등과 같이 내부 멤버를 하나씩 돌아가면서 반환해 줄 수 있는 컨테이너 객체)\\n# map(매서드, 이터러블(리스트,튜플 등))\\n\\nfor i in map(Add10, numList):\\n    print(\"Item: {0}\".format(i))\\n# numList의 요소들을 Add10으로 보내서 각각 10씩 더해준다.', '# lambda 런타임에서 생성해서 사용할 수 있는 익명의 함수. 사용즉시 버리는 일시적인 함수. 변수에 할당 가능.\\n# lambda 인자리스트 : 표현식\\n# 간단한 함수를 다른 함수의 매개변수로 전달해야 하는 경우 많이 사용\\n# 고성능을 얻기 위해 사용한다. 병렬로 돌려 효율적임. 쓰래드를 쓸 때.\\n\\nresList = list(filter(lambda i: i > 20, numList))\\n# numList에 있는 내용을 i로 전달해서 20보다 큰 것을 리스트로 만든다.\\nprint(resList)\\n\\nretList = list(map((lambda i : i + 10), numList))\\nprint(retList)', '# 정상적인 코드인데 결과가 안나올때 껐다 키면 됨(윈도우 버그)\\n# jupyter notebook third.ipynb --NotebookApp.iopub_data_rate_limit=2147483647', 'import time\\nl = range(500000)\\nt = time.mktime(time.localtime())\\n\\nfor i in l:\\n    print(i, )\\n    \\nt1 = time.mktime(time.localtime()) - t\\n\\nt = time.mktime(time.localtime())\\nprint((\", \").join(str(i) for i in l ))\\nt2 = time.mktime(time.localtime()) - t\\n\\nprint(\"Take {0} seconds\".format(t1))\\nprint(\"Take {0} seconds\".format(t2))', 'import time\\nl = range(500000)\\nt = time.mktime(time.localtime())\\n\\nfor i in l:\\n    print(i, )\\n    \\nt1 = time.mktime(time.localtime()) - t\\n\\nt = time.mktime(time.localtime())\\nprint((\", \").join(str(i) for i in l ))\\nt2 = time.mktime(time.localtime()) - t\\n\\nprint(\"Take {0} seconds\".format(t1))\\nprint(\"Take {0} seconds\".format(t2))', 'import time\\n\\nl = range(10)\\n\\nt = time.mktime(time.localtime())\\n\\nfor i in l:\\n    print(i, )\\n    \\nt1 = time.mktime(time.localtime()) - t\\nprint(\"Take {0} seconds\".format(t1))', 'import time\\n\\nl = range(100)\\n\\nt = time.mktime(time.localtime())\\nprint((\", \").join(str(i) for i in l ))\\nt1 = time.mktime(time.localtime()) - t\\nprint(\"Take {0} seconds\".format(t1))', '# y = x^2에 대해 0 ~ 3까지의 적분을 구현해보자!\\n\\n# 1. dx = 0.001 (고정 - 무한소로 가정)\\n# 2. x값의 이동을 기록하도록 한다.\\n# 3. y는 현재의 x값에 따라서 변한다.\\n# 4. dx * y로 사각형 넓이의 값을 구한다.\\n# 5. 구한 모든 사각형 넓이의 합을 구한다.\\n\\ndx = 0.001\\nstart = 0.0\\nend = 3.0\\n\\nloopLen = (end - start) / dx\\nprint(loopLen)\\n\\nx = 0\\ny = 0\\narea = 0\\n\\nfor i in range(int(loopLen)):\\n    # print(i)\\n    # x의 위치에 따른 y의 높이값을 계산\\n    y = x ** 2\\n    # dx는 고정값인데 실제로 x는 위치를 이동하면서 y값을 갱신해줘야함\\n    # 사각형을 만들기 위해서 밑변인 dx만큼 이동을 시킨다.\\n    x += dx\\n    # 사각형 넓이의 합을 구한다.\\n    area += dx * y\\n\\nprint(\"0 ~ 3까지 적분결과는 =\" + str(area))\\n\\n# y = x^2을 적분하면 1/3x^3 + c\\n# 0 ~ 3까지의 정적분은 9에 근접한 값이 나온다.\\n# dx가 작으면 작을수록 정밀도가 높아진다. 대신 계산량이 많아진다.', '# 함수를 받아서 사용가능\\npointerOfFunction = times\\nres = pointerOfFunction(10, 10)\\nprint(res)', '# 파이썬에서 함수를 작성하는 방법\\n# 보통 함수라는 표현은 C에서 많이 사용. 클래스 없이 매서드만 혼자 떨어져 있는 것.\\n# 1.def를 적는다.\\n# 2.함수 이름을 적는다.\\n# 3.받을 인자를 적는다.\\n# 자바는 데이터 타입을 지정해줘야 했지만 파이썬은 데이터 타입을 지정할 필요가 없다\\ndef times(a, b):\\n    return a * b\\n\\n# 함수도 객체이므로 특정한 주소에 저장되어 있다.(메모리 저장) 그 주소를 보여줌.\\nprint(times) \\n# 아래와 같이 함수를 호출하여 실행할 수 있다.\\nprint(times(10, 10))', '# 현재 파이썬에서 사용하고 있는 함수들을 보여준다.\\n# 팀프로젝트를 활용하다 함수가 활용이 안될 경우 나랑 겹치는 함수가 있는지 확인할 때 사용가능\\nprint(globals()) '], 'Out': {}, 'get_ipython': <bound method InteractiveShell.get_ipython of <ipykernel.zmqshell.ZMQInteractiveShell object at 0x7f12ce269c50>>, 'exit': <IPython.core.autocall.ZMQExitAutocall object at 0x7f12ce1fafd0>, 'quit': <IPython.core.autocall.ZMQExitAutocall object at 0x7f12ce1fafd0>, '_': '', '__': '', '___': '', '_i': '# 파이썬에서 함수를 작성하는 방법\\n# 보통 함수라는 표현은 C에서 많이 사용. 클래스 없이 매서드만 혼자 떨어져 있는 것.\\n# 1.def를 적는다.\\n# 2.함수 이름을 적는다.\\n# 3.받을 인자를 적는다.\\n# 자바는 데이터 타입을 지정해줘야 했지만 파이썬은 데이터 타입을 지정할 필요가 없다\\ndef times(a, b):\\n    return a * b\\n\\n# 함수도 객체이므로 특정한 주소에 저장되어 있다.(메모리 저장) 그 주소를 보여줌.\\nprint(times) \\n# 아래와 같이 함수를 호출하여 실행할 수 있다.\\nprint(times(10, 10))', '_ii': '# 함수를 받아서 사용가능\\npointerOfFunction = times\\nres = pointerOfFunction(10, 10)\\nprint(res)', '_iii': '# y = x^2에 대해 0 ~ 3까지의 적분을 구현해보자!\\n\\n# 1. dx = 0.001 (고정 - 무한소로 가정)\\n# 2. x값의 이동을 기록하도록 한다.\\n# 3. y는 현재의 x값에 따라서 변한다.\\n# 4. dx * y로 사각형 넓이의 값을 구한다.\\n# 5. 구한 모든 사각형 넓이의 합을 구한다.\\n\\ndx = 0.001\\nstart = 0.0\\nend = 3.0\\n\\nloopLen = (end - start) / dx\\nprint(loopLen)\\n\\nx = 0\\ny = 0\\narea = 0\\n\\nfor i in range(int(loopLen)):\\n    # print(i)\\n    # x의 위치에 따른 y의 높이값을 계산\\n    y = x ** 2\\n    # dx는 고정값인데 실제로 x는 위치를 이동하면서 y값을 갱신해줘야함\\n    # 사각형을 만들기 위해서 밑변인 dx만큼 이동을 시킨다.\\n    x += dx\\n    # 사각형 넓이의 합을 구한다.\\n    area += dx * y\\n\\nprint(\"0 ~ 3까지 적분결과는 =\" + str(area))\\n\\n# y = x^2을 적분하면 1/3x^3 + c\\n# 0 ~ 3까지의 정적분은 9에 근접한 값이 나온다.\\n# dx가 작으면 작을수록 정밀도가 높아진다. 대신 계산량이 많아진다.', '_i1': '# 1 ~ 5까지 각 숫자의 제곱을 리스트로 만듦\\nprint([res ** 2 for res in range(1, 6)])', '_i2': 'numList = [res ** 2 for res in range(1, 6)]\\nprint(numList)', 'numList': [10, 15, 20, 25, 30], '_i3': '# range(a, b, c) a부터 b까지 c씩 띄어서\\nnumList = [res for res in range( 10, 31, 5)]\\nprint(numList)', '_i4': '# 파이썬 함수(자바 관점에서는 매서드)\\ndef GetBiggerThan20(i):\\n    return i > 20\\n\\n# filter는 함수 객체와 리스트를 인자로 계산한 것\\n# filter(매서드, 리스트)\\niterList = filter(GetBiggerThan20, numList)\\nfor i in iterList:\\n    print(\"item: {0}\".format(i))\\n\\nprint(iterList)\\n# filter를 통해서 만든 결과는 다시 리스트화 할 수 없다.\\nprint(list(iterList))\\n\\n# 그러나 애초에 filter를 list로 감싸서 만들면 리스트로 만들 수 있다.\\nnewList = list(filter(GetBiggerThan20, numList))\\nprint(newList)', 'GetBiggerThan20': <function GetBiggerThan20 at 0x7f12cc175680>, 'iterList': <filter object at 0x7f12cc182dd0>, 'i': 2999, 'newList': [25, 30], '_i5': '# lambda 익명의 함수. 사용즉시 버리는 일시적인 함수.변수에 할당 가능.\\n# 간단한 함수를 다른 함수의 매개변수로 전달해야 하는 경우 많이 사용\\n# numList에 있는 내용을 i로 전달해서 20보다 큰 것을 리스트로 만든다.\\nresList = list(filter(lambda i: i > 20, numList))\\nprint(resList)', 'resList': [25, 30], '_i6': '# 파이썬 함수(자바 관점에서는 매서드)\\ndef Add10(i)\\n    return i + 10\\n\\n# map은 함수와 이터러블을 매개변수로 받아 함수에 이터러블 내 멤버 각각을 차례대로 적용한 새로운 이터러블을 반환하는 기능을 수행 \\n# 이터러블(iterable: 파이썬에서 리스트, 튜플 등과 같이 내부 멤버를 하나씩 돌아가면서 반환해 줄 수 있는 컨테이너 객체)\\n# map(매서드, 이터러블(리스트,튜플 등))\\n\\nfor i in map(Add10, numList):\\n    print(\"Item: {0}\".format(i))\\n# numList의 요소들을 Add10으로 보내서 각각 10씩 더해준다.', '_i7': '# filter(매서드, 이터러블)\\n# filter는 조건에 부합하지 않는 요소들을 이터러블에서 제거해주는 함수. 함수 자체는 불린값을 반환함\\n\\ndef GetBiggerThan20(i):\\n    return i > 20\\n\\niterList = filter(GetBiggerThan20, numList)\\nfor i in iterList:\\n    print(\"item: {0}\".format(i))\\n\\nprint(iterList)\\n# filter를 통해서 만든 결과는 다시 리스트(이터러블)화 할 수 없다.\\nprint(list(iterList))\\n\\n# 그러나 애초에 filter를 list로 감싸서 만들면 리스트(이터러블)로 만들 수 있다.\\nnewList = list(filter(GetBiggerThan20, numList))\\nprint(newList)', '_i8': '# lambda 런타임에서 생성해서 사용할 수 있는 익명의 함수. 사용즉시 버리는 일시적인 함수. 변수에 할당 가능.\\n# lambda 인자리스트 : 표현식\\n# 간단한 함수를 다른 함수의 매개변수로 전달해야 하는 경우 많이 사용\\n# 고성능을 얻기 위해 사용한다. 병렬로 돌려 효율적임. 쓰래드를 쓸 때.\\n\\nresList = list(filter(lambda i: i > 20, numList))\\n# numList에 있는 내용을 i로 전달해서 20보다 큰 것을 리스트로 만든다.\\nprint(resList)', '_i9': '# 파이썬 함수(자바 관점에서는 매서드)\\ndef Add10(i):\\n    return i + 10\\n\\n# map은 함수와 이터러블을 매개변수로 받아 함수에 이터러블 내 멤버 각각을 차례대로 적용한 새로운 이터러블을 반환하는 기능을 수행 \\n# 이터러블(iterable: 파이썬에서 리스트, 튜플 등과 같이 내부 멤버를 하나씩 돌아가면서 반환해 줄 수 있는 컨테이너 객체)\\n# map(매서드, 이터러블(리스트,튜플 등))\\n\\nfor i in map(Add10, numList):\\n    print(\"Item: {0}\".format(i))\\n# numList의 요소들을 Add10으로 보내서 각각 10씩 더해준다.', 'Add10': <function Add10 at 0x7f12cc175a70>, '_i10': '# lambda 런타임에서 생성해서 사용할 수 있는 익명의 함수. 사용즉시 버리는 일시적인 함수. 변수에 할당 가능.\\n# lambda 인자리스트 : 표현식\\n# 간단한 함수를 다른 함수의 매개변수로 전달해야 하는 경우 많이 사용\\n# 고성능을 얻기 위해 사용한다. 병렬로 돌려 효율적임. 쓰래드를 쓸 때.\\n\\nresList = list(filter(lambda i: i > 20, numList))\\n# numList에 있는 내용을 i로 전달해서 20보다 큰 것을 리스트로 만든다.\\nprint(resList)\\n\\nretList = list(map((lambda i : i + 10), numList))\\nprint(retList)', 'retList': [20, 25, 30, 35, 40], '_i11': '# 정상적인 코드인데 결과가 안나올때 껐다 키면 됨(윈도우 버그)\\n# jupyter notebook third.ipynb --NotebookApp.iopub_data_rate_limit=2147483647', '_i12': 'import time\\nl = range(500000)\\nt = time.mktime(time.localtime())\\n\\nfor i in l:\\n    print(i, )\\n    \\nt1 = time.mktime(time.localtime()) - t\\n\\nt = time.mktime(time.localtime())\\nprint((\", \").join(str(i) for i in l ))\\nt2 = time.mktime(time.localtime()) - t\\n\\nprint(\"Take {0} seconds\".format(t1))\\nprint(\"Take {0} seconds\".format(t2))', 'time': <module 'time' (built-in)>, 'l': range(0, 100), 't': 1594258862.0, 't1': 0.0, 't2': 0.0, '_i13': 'import time\\nl = range(500000)\\nt = time.mktime(time.localtime())\\n\\nfor i in l:\\n    print(i, )\\n    \\nt1 = time.mktime(time.localtime()) - t\\n\\nt = time.mktime(time.localtime())\\nprint((\", \").join(str(i) for i in l ))\\nt2 = time.mktime(time.localtime()) - t\\n\\nprint(\"Take {0} seconds\".format(t1))\\nprint(\"Take {0} seconds\".format(t2))', '_i14': 'import time\\n\\nl = range(10)\\n\\nt = time.mktime(time.localtime())\\n\\nfor i in l:\\n    print(i, )\\n    \\nt1 = time.mktime(time.localtime()) - t\\nprint(\"Take {0} seconds\".format(t1))', '_i15': 'import time\\n\\nl = range(100)\\n\\nt = time.mktime(time.localtime())\\nprint((\", \").join(str(i) for i in l ))\\nt1 = time.mktime(time.localtime()) - t\\nprint(\"Take {0} seconds\".format(t1))', '_i16': '# y = x^2에 대해 0 ~ 3까지의 적분을 구현해보자!\\n\\n# 1. dx = 0.001 (고정 - 무한소로 가정)\\n# 2. x값의 이동을 기록하도록 한다.\\n# 3. y는 현재의 x값에 따라서 변한다.\\n# 4. dx * y로 사각형 넓이의 값을 구한다.\\n# 5. 구한 모든 사각형 넓이의 합을 구한다.\\n\\ndx = 0.001\\nstart = 0.0\\nend = 3.0\\n\\nloopLen = (end - start) / dx\\nprint(loopLen)\\n\\nx = 0\\ny = 0\\narea = 0\\n\\nfor i in range(int(loopLen)):\\n    # print(i)\\n    # x의 위치에 따른 y의 높이값을 계산\\n    y = x ** 2\\n    # dx는 고정값인데 실제로 x는 위치를 이동하면서 y값을 갱신해줘야함\\n    # 사각형을 만들기 위해서 밑변인 dx만큼 이동을 시킨다.\\n    x += dx\\n    # 사각형 넓이의 합을 구한다.\\n    area += dx * y\\n\\nprint(\"0 ~ 3까지 적분결과는 =\" + str(area))\\n\\n# y = x^2을 적분하면 1/3x^3 + c\\n# 0 ~ 3까지의 정적분은 9에 근접한 값이 나온다.\\n# dx가 작으면 작을수록 정밀도가 높아진다. 대신 계산량이 많아진다.', 'dx': 0.001, 'start': 0.0, 'end': 3.0, 'loopLen': 3000.0, 'x': 2.9999999999997806, 'y': 8.994000999998685, 'area': 8.995500499998984, '_i17': '# 함수를 받아서 사용가능\\npointerOfFunction = times\\nres = pointerOfFunction(10, 10)\\nprint(res)', '_i18': '# 파이썬에서 함수를 작성하는 방법\\n# 보통 함수라는 표현은 C에서 많이 사용. 클래스 없이 매서드만 혼자 떨어져 있는 것.\\n# 1.def를 적는다.\\n# 2.함수 이름을 적는다.\\n# 3.받을 인자를 적는다.\\n# 자바는 데이터 타입을 지정해줘야 했지만 파이썬은 데이터 타입을 지정할 필요가 없다\\ndef times(a, b):\\n    return a * b\\n\\n# 함수도 객체이므로 특정한 주소에 저장되어 있다.(메모리 저장) 그 주소를 보여줌.\\nprint(times) \\n# 아래와 같이 함수를 호출하여 실행할 수 있다.\\nprint(times(10, 10))', 'times': <function times at 0x7f12cc0fdb00>, '_i19': '# 현재 파이썬에서 사용하고 있는 함수들을 보여준다.\\n# 팀프로젝트를 활용하다 함수가 활용이 안될 경우 나랑 겹치는 함수가 있는지 확인할 때 사용가능\\nprint(globals()) '}\n"
     ]
    }
   ],
   "source": [
    "# 현재 파이썬에서 사용하고 있는 함수들을 보여준다.\n",
    "# 팀프로젝트를 활용하다 함수가 활용이 안될 경우 나랑 겹치는 함수가 있는지 확인할 때 사용가능\n",
    "print(globals()) "
   ]
  },
  {
   "cell_type": "code",
   "execution_count": 20,
   "metadata": {},
   "outputs": [
    {
     "name": "stdout",
     "output_type": "stream",
     "text": [
      "100\n"
     ]
    }
   ],
   "source": [
    "# 함수를 받아서 사용가능\n",
    "pointerOfFunction = times\n",
    "res = pointerOfFunction(10, 10)\n",
    "print(res)"
   ]
  },
  {
   "cell_type": "code",
   "execution_count": 21,
   "metadata": {},
   "outputs": [
    {
     "name": "stdout",
     "output_type": "stream",
     "text": [
      "['a']\n",
      "['a', 'p', 'p', 'e']\n"
     ]
    }
   ],
   "source": [
    "# def가 들어있는 애들은 누군가가 실행시켜주지 않는 이상 알아서 동작하지 못한다.\n",
    "# 그러므로 def가 들어있을 때는 실질적으로 함수를 호출하는 구간이 나오기 전까지 볼 필요 없다.\n",
    "\n",
    "def intersect(preList, postList):\n",
    "    retList = []\n",
    "    # preList에서 값을 하나씩 쪼개서 보닌다.\n",
    "    for x in preList:\n",
    "        # 쪼갠 값중에 pstList에서 쪼갠 값과 일치하는게 있다면\n",
    "        if x in postList:\n",
    "            # retList에 해당 문자를 추가한다.\n",
    "            retList.append(x)\n",
    "    \n",
    "    return retList\n",
    "    \n",
    "list1 = \"apple\"\n",
    "list2 = \"banana\"\n",
    "list3 = \"grape\"\n",
    "print(intersect(list1, list2))\n",
    "print(intersect(list1, list3))"
   ]
  },
  {
   "cell_type": "code",
   "execution_count": 22,
   "metadata": {},
   "outputs": [
    {
     "name": "stdout",
     "output_type": "stream",
     "text": [
      "(7, 3)\n"
     ]
    }
   ],
   "source": [
    "def swap(x, y):\n",
    "    return y, x\n",
    "\n",
    "print(swap(3, 7))"
   ]
  },
  {
   "cell_type": "code",
   "execution_count": 23,
   "metadata": {},
   "outputs": [
    {
     "name": "stdout",
     "output_type": "stream",
     "text": [
      "77 33\n",
      "<class 'tuple'>\n"
     ]
    }
   ],
   "source": [
    "# 튜플은 원소를 바꿀 수 없음(불변성)\n",
    "# 리스트는 값을 바꿀 수 있음(가변성)\n",
    "a, b = swap(33, 77)\n",
    "print(a, b)\n",
    "print(type(swap(a, b)))"
   ]
  },
  {
   "cell_type": "code",
   "execution_count": 24,
   "metadata": {},
   "outputs": [
    {
     "name": "stdout",
     "output_type": "stream",
     "text": [
      "30\n"
     ]
    }
   ],
   "source": [
    "a = 10\n",
    "b = 20\n",
    "\n",
    "def mysum(a, b):\n",
    "    return a + b\n",
    "\n",
    "print(mysum(a, b))"
   ]
  },
  {
   "cell_type": "code",
   "execution_count": 27,
   "metadata": {},
   "outputs": [
    {
     "name": "stdout",
     "output_type": "stream",
     "text": [
      "['J', 'A', 'M']\n",
      "in function =  ['H', 'A', 'M']\n",
      "['J', 'A', 'M']\n",
      "['H', 'A', 'M']\n"
     ]
    }
   ],
   "source": [
    "def change(x):\n",
    "    # x[:]은 내용을 복사하여 새로운 객체를 만든다.\n",
    "    # 즉 이 시점에서 x는 더 이상 입력으로 전달받은 x가 아니다.\n",
    "    # 해당 스코프 안에서는 살아있지만 벗어나면 존재하지 않는다.\n",
    "    x = x[:]\n",
    "    x[0] = 'H'\n",
    "    print(\"in function = \",x)\n",
    "    \n",
    "wordList = ['J', 'A', 'M']\n",
    "print(wordList)\n",
    "\n",
    "change(wordList)\n",
    "print(wordList)\n",
    "\n",
    "\n",
    "def change2(x):\n",
    "    x[0] = 'H'\n",
    "    \n",
    "change2(wordList)\n",
    "print(wordList)"
   ]
  },
  {
   "cell_type": "code",
   "execution_count": 29,
   "metadata": {},
   "outputs": [
    {
     "name": "stdout",
     "output_type": "stream",
     "text": [
      "1\n",
      "10\n",
      "7\n"
     ]
    }
   ],
   "source": [
    "# 현재 전역변수 glob가 있다.\n",
    "glob = 1\n",
    "print(glob) # 처음 glob는 1\n",
    "\n",
    "def xChgScope(x):\n",
    "    # global은 전역변수 선언. \n",
    "    # 함수 내에서의 glob 변수를 전역변수로 사용하겠다고 선언.\n",
    "    global glob\n",
    "    # glob가 7로 바뀜\n",
    "    glob = 7\n",
    "    # 7 + 3이므로 10을 반환\n",
    "    return glob + x\n",
    "\n",
    "print(xChgScope(3))\n",
    "print(glob) # 함수 돈 후  glob는 7로 바뀜"
   ]
  },
  {
   "cell_type": "code",
   "execution_count": 30,
   "metadata": {},
   "outputs": [
    {
     "name": "stdout",
     "output_type": "stream",
     "text": [
      "http://test.com:8080\n"
     ]
    }
   ],
   "source": [
    "def connectURI(server, port):\n",
    "    str = \"http://\" + server + \":\" + port\n",
    "    return str\n",
    "\n",
    "print(connectURI(\"test.com\", \"8080\"))\n",
    "\n",
    "# window + R -> cmd -> ipconfig /all ->물리적 주소MAC \n",
    "# 로컬네트워크는 스위치가 관리\n",
    "# 각 컴퓨터 이름이 모여서 스위치\n",
    "# 스위치에서 라우터로 내보내서(요청) 서버에서 받아옴(응답)\n",
    "# 서버 주소가 IP주소 ex)test.com\n",
    "# 서버가 웹서비스, p2p, 기타 형태로 실행됨 - 포트 port 번호로 서비스 구별\n",
    "# 웹상 요청한것을 응답하는 서버가 바로 나중에 배울 Spring"
   ]
  },
  {
   "cell_type": "code",
   "execution_count": 31,
   "metadata": {},
   "outputs": [
    {
     "name": "stdout",
     "output_type": "stream",
     "text": [
      "<class 'tuple'>\n"
     ]
    }
   ],
   "source": [
    "# *args는 가변인자를 의미한다.\n",
    "# 가변인자란 개수가 정해져 있지 않은 인자를 의미한다.\n",
    "# 애초에 값이 가변적으로 들어오기 때문에 한 번 들어온 값에 대한 보장을 해주기 위해 tuple로 취급\n",
    "def test(*args):\n",
    "    print(type(args))\n",
    "    \n",
    "test(1, 2)"
   ]
  },
  {
   "cell_type": "code",
   "execution_count": 35,
   "metadata": {},
   "outputs": [
    {
     "name": "stdout",
     "output_type": "stream",
     "text": [
      "['H', 'A', 'M', 'E', 'G', 'P', 'O', 'T']\n",
      "['t', 'e', 's', 'd']\n"
     ]
    }
   ],
   "source": [
    "# 가변인자를 활용해보자!\n",
    "\n",
    "# args 첫 번째로 HAM\n",
    "# args 두 번째로 EGG\n",
    "# args 세 번째로 POTATO\n",
    "def union2(*args): # union 집합연산있으므로 union2로 만듦\n",
    "    res = []\n",
    "    # item에는 HAM, EGG, POTATO\n",
    "    for item in args:\n",
    "        # 위의 item을 한글자씩 쪼개서 x에 넣는다.\n",
    "        for x in item:\n",
    "            # res에 해당하는 x 성분이 없다면\n",
    "            # (if x in res는 res에 해당하는 성분이 있다면)\n",
    "            if not x in res:\n",
    "                # x를 res에 추가하세요\n",
    "                res.append(x)\n",
    "    return res\n",
    "\n",
    "# 각각의 문자열들에서 문자를 추출하여 합집합을 구한다.\n",
    "print(union2(\"HAM\", \"EGG\", \"POTATO\"))\n",
    "print(union2(\"test\", \"tdd\", \"ddd\"))"
   ]
  },
  {
   "cell_type": "code",
   "execution_count": 32,
   "metadata": {},
   "outputs": [
    {
     "name": "stdout",
     "output_type": "stream",
     "text": [
      "http://test.com:7777/?id=userid&passwd=1234&\n",
      "http://test.com:7777/?id=userid&passwd=1234&age=20&\n"
     ]
    }
   ],
   "source": [
    "name = \"test.com\"\n",
    "service = \"7777\"\n",
    "\n",
    "# **user의 **도 가변인자\n",
    "# 아까전의 *하나짜리는 args를 for문 돌리듯 사용할 수 있었다.\n",
    "# **는 정의되지 않은 인자를 dic형식으로 받을 수 있다. 위의 형태 같이 키 밸류 값을 받으려면 반드시 **를 써야 한다.\n",
    "def userURIBuilder(server, port, **user):\n",
    "    # http://test.com:7777/?\n",
    "    str = \"http://\" + server + \":\" + port+ \"/?\"\n",
    "        \n",
    "    # http://test.com:7777/?id=userid&passwd=1234&\n",
    "    # key값으로 넘어오는 것\n",
    "    # 첫번째 : id\n",
    "    # user[key]: userid\n",
    "    # 두번째: passwd\n",
    "    # user[key]: 1234\n",
    "    for key in user.keys():\n",
    "            str += key + \"=\" + user[key] + \"&\"\n",
    "            \n",
    "    return str\n",
    "\n",
    "print(userURIBuilder(name, service, id='userid', passwd='1234'))\n",
    "print(userURIBuilder(name, service, id='userid', passwd='1234', age ='20'))\n",
    "\n",
    "# IndentationError: unexpected indent 들여쓰기 오류 -indent:1.들여쓰다. 2.(물품상품)주문"
   ]
  },
  {
   "cell_type": "code",
   "execution_count": 33,
   "metadata": {},
   "outputs": [
    {
     "name": "stdout",
     "output_type": "stream",
     "text": [
      "Help on module math:\n",
      "\n",
      "NAME\n",
      "    math\n",
      "\n",
      "MODULE REFERENCE\n",
      "    https://docs.python.org/3.7/library/math\n",
      "    \n",
      "    The following documentation is automatically generated from the Python\n",
      "    source files.  It may be incomplete, incorrect or include features that\n",
      "    are considered implementation detail and may vary between Python\n",
      "    implementations.  When in doubt, consult the module reference at the\n",
      "    location listed above.\n",
      "\n",
      "DESCRIPTION\n",
      "    This module provides access to the mathematical functions\n",
      "    defined by the C standard.\n",
      "\n",
      "FUNCTIONS\n",
      "    acos(x, /)\n",
      "        Return the arc cosine (measured in radians) of x.\n",
      "    \n",
      "    acosh(x, /)\n",
      "        Return the inverse hyperbolic cosine of x.\n",
      "    \n",
      "    asin(x, /)\n",
      "        Return the arc sine (measured in radians) of x.\n",
      "    \n",
      "    asinh(x, /)\n",
      "        Return the inverse hyperbolic sine of x.\n",
      "    \n",
      "    atan(x, /)\n",
      "        Return the arc tangent (measured in radians) of x.\n",
      "    \n",
      "    atan2(y, x, /)\n",
      "        Return the arc tangent (measured in radians) of y/x.\n",
      "        \n",
      "        Unlike atan(y/x), the signs of both x and y are considered.\n",
      "    \n",
      "    atanh(x, /)\n",
      "        Return the inverse hyperbolic tangent of x.\n",
      "    \n",
      "    ceil(x, /)\n",
      "        Return the ceiling of x as an Integral.\n",
      "        \n",
      "        This is the smallest integer >= x.\n",
      "    \n",
      "    copysign(x, y, /)\n",
      "        Return a float with the magnitude (absolute value) of x but the sign of y.\n",
      "        \n",
      "        On platforms that support signed zeros, copysign(1.0, -0.0)\n",
      "        returns -1.0.\n",
      "    \n",
      "    cos(x, /)\n",
      "        Return the cosine of x (measured in radians).\n",
      "    \n",
      "    cosh(x, /)\n",
      "        Return the hyperbolic cosine of x.\n",
      "    \n",
      "    degrees(x, /)\n",
      "        Convert angle x from radians to degrees.\n",
      "    \n",
      "    erf(x, /)\n",
      "        Error function at x.\n",
      "    \n",
      "    erfc(x, /)\n",
      "        Complementary error function at x.\n",
      "    \n",
      "    exp(x, /)\n",
      "        Return e raised to the power of x.\n",
      "    \n",
      "    expm1(x, /)\n",
      "        Return exp(x)-1.\n",
      "        \n",
      "        This function avoids the loss of precision involved in the direct evaluation of exp(x)-1 for small x.\n",
      "    \n",
      "    fabs(x, /)\n",
      "        Return the absolute value of the float x.\n",
      "    \n",
      "    factorial(x, /)\n",
      "        Find x!.\n",
      "        \n",
      "        Raise a ValueError if x is negative or non-integral.\n",
      "    \n",
      "    floor(x, /)\n",
      "        Return the floor of x as an Integral.\n",
      "        \n",
      "        This is the largest integer <= x.\n",
      "    \n",
      "    fmod(x, y, /)\n",
      "        Return fmod(x, y), according to platform C.\n",
      "        \n",
      "        x % y may differ.\n",
      "    \n",
      "    frexp(x, /)\n",
      "        Return the mantissa and exponent of x, as pair (m, e).\n",
      "        \n",
      "        m is a float and e is an int, such that x = m * 2.**e.\n",
      "        If x is 0, m and e are both 0.  Else 0.5 <= abs(m) < 1.0.\n",
      "    \n",
      "    fsum(seq, /)\n",
      "        Return an accurate floating point sum of values in the iterable seq.\n",
      "        \n",
      "        Assumes IEEE-754 floating point arithmetic.\n",
      "    \n",
      "    gamma(x, /)\n",
      "        Gamma function at x.\n",
      "    \n",
      "    gcd(x, y, /)\n",
      "        greatest common divisor of x and y\n",
      "    \n",
      "    hypot(x, y, /)\n",
      "        Return the Euclidean distance, sqrt(x*x + y*y).\n",
      "    \n",
      "    isclose(a, b, *, rel_tol=1e-09, abs_tol=0.0)\n",
      "        Determine whether two floating point numbers are close in value.\n",
      "        \n",
      "          rel_tol\n",
      "            maximum difference for being considered \"close\", relative to the\n",
      "            magnitude of the input values\n",
      "          abs_tol\n",
      "            maximum difference for being considered \"close\", regardless of the\n",
      "            magnitude of the input values\n",
      "        \n",
      "        Return True if a is close in value to b, and False otherwise.\n",
      "        \n",
      "        For the values to be considered close, the difference between them\n",
      "        must be smaller than at least one of the tolerances.\n",
      "        \n",
      "        -inf, inf and NaN behave similarly to the IEEE 754 Standard.  That\n",
      "        is, NaN is not close to anything, even itself.  inf and -inf are\n",
      "        only close to themselves.\n",
      "    \n",
      "    isfinite(x, /)\n",
      "        Return True if x is neither an infinity nor a NaN, and False otherwise.\n",
      "    \n",
      "    isinf(x, /)\n",
      "        Return True if x is a positive or negative infinity, and False otherwise.\n",
      "    \n",
      "    isnan(x, /)\n",
      "        Return True if x is a NaN (not a number), and False otherwise.\n",
      "    \n",
      "    ldexp(x, i, /)\n",
      "        Return x * (2**i).\n",
      "        \n",
      "        This is essentially the inverse of frexp().\n",
      "    \n",
      "    lgamma(x, /)\n",
      "        Natural logarithm of absolute value of Gamma function at x.\n",
      "    \n",
      "    log(...)\n",
      "        log(x, [base=math.e])\n",
      "        Return the logarithm of x to the given base.\n",
      "        \n",
      "        If the base not specified, returns the natural logarithm (base e) of x.\n",
      "    \n",
      "    log10(x, /)\n",
      "        Return the base 10 logarithm of x.\n",
      "    \n",
      "    log1p(x, /)\n",
      "        Return the natural logarithm of 1+x (base e).\n",
      "        \n",
      "        The result is computed in a way which is accurate for x near zero.\n",
      "    \n",
      "    log2(x, /)\n",
      "        Return the base 2 logarithm of x.\n",
      "    \n",
      "    modf(x, /)\n",
      "        Return the fractional and integer parts of x.\n",
      "        \n",
      "        Both results carry the sign of x and are floats.\n",
      "    \n",
      "    pow(x, y, /)\n",
      "        Return x**y (x to the power of y).\n",
      "    \n",
      "    radians(x, /)\n",
      "        Convert angle x from degrees to radians.\n",
      "    \n",
      "    remainder(x, y, /)\n",
      "        Difference between x and the closest integer multiple of y.\n",
      "        \n",
      "        Return x - n*y where n*y is the closest integer multiple of y.\n",
      "        In the case where x is exactly halfway between two multiples of\n",
      "        y, the nearest even value of n is used. The result is always exact.\n",
      "    \n",
      "    sin(x, /)\n",
      "        Return the sine of x (measured in radians).\n",
      "    \n",
      "    sinh(x, /)\n",
      "        Return the hyperbolic sine of x.\n",
      "    \n",
      "    sqrt(x, /)\n",
      "        Return the square root of x.\n",
      "    \n",
      "    tan(x, /)\n",
      "        Return the tangent of x (measured in radians).\n",
      "    \n",
      "    tanh(x, /)\n",
      "        Return the hyperbolic tangent of x.\n",
      "    \n",
      "    trunc(x, /)\n",
      "        Truncates the Real x to the nearest Integral toward 0.\n",
      "        \n",
      "        Uses the __trunc__ magic method.\n",
      "\n",
      "DATA\n",
      "    e = 2.718281828459045\n",
      "    inf = inf\n",
      "    nan = nan\n",
      "    pi = 3.141592653589793\n",
      "    tau = 6.283185307179586\n",
      "\n",
      "FILE\n",
      "    /home/bitai/anaconda3/lib/python3.7/lib-dynload/math.cpython-37m-x86_64-linux-gnu.so\n",
      "\n",
      "\n"
     ]
    }
   ],
   "source": [
    "import math\n",
    "help(math)\n",
    "\n",
    "# gamma - 1.3! 표현 가능"
   ]
  },
  {
   "cell_type": "code",
   "execution_count": 34,
   "metadata": {},
   "outputs": [
    {
     "name": "stdout",
     "output_type": "stream",
     "text": [
      "Help on package json:\n",
      "\n",
      "NAME\n",
      "    json\n",
      "\n",
      "MODULE REFERENCE\n",
      "    https://docs.python.org/3.7/library/json\n",
      "    \n",
      "    The following documentation is automatically generated from the Python\n",
      "    source files.  It may be incomplete, incorrect or include features that\n",
      "    are considered implementation detail and may vary between Python\n",
      "    implementations.  When in doubt, consult the module reference at the\n",
      "    location listed above.\n",
      "\n",
      "DESCRIPTION\n",
      "    JSON (JavaScript Object Notation) <http://json.org> is a subset of\n",
      "    JavaScript syntax (ECMA-262 3rd edition) used as a lightweight data\n",
      "    interchange format.\n",
      "    \n",
      "    :mod:`json` exposes an API familiar to users of the standard library\n",
      "    :mod:`marshal` and :mod:`pickle` modules.  It is derived from a\n",
      "    version of the externally maintained simplejson library.\n",
      "    \n",
      "    Encoding basic Python object hierarchies::\n",
      "    \n",
      "        >>> import json\n",
      "        >>> json.dumps(['foo', {'bar': ('baz', None, 1.0, 2)}])\n",
      "        '[\"foo\", {\"bar\": [\"baz\", null, 1.0, 2]}]'\n",
      "        >>> print(json.dumps(\"\\\"foo\\bar\"))\n",
      "        \"\\\"foo\\bar\"\n",
      "        >>> print(json.dumps('\\u1234'))\n",
      "        \"\\u1234\"\n",
      "        >>> print(json.dumps('\\\\'))\n",
      "        \"\\\\\"\n",
      "        >>> print(json.dumps({\"c\": 0, \"b\": 0, \"a\": 0}, sort_keys=True))\n",
      "        {\"a\": 0, \"b\": 0, \"c\": 0}\n",
      "        >>> from io import StringIO\n",
      "        >>> io = StringIO()\n",
      "        >>> json.dump(['streaming API'], io)\n",
      "        >>> io.getvalue()\n",
      "        '[\"streaming API\"]'\n",
      "    \n",
      "    Compact encoding::\n",
      "    \n",
      "        >>> import json\n",
      "        >>> mydict = {'4': 5, '6': 7}\n",
      "        >>> json.dumps([1,2,3,mydict], separators=(',', ':'))\n",
      "        '[1,2,3,{\"4\":5,\"6\":7}]'\n",
      "    \n",
      "    Pretty printing::\n",
      "    \n",
      "        >>> import json\n",
      "        >>> print(json.dumps({'4': 5, '6': 7}, sort_keys=True, indent=4))\n",
      "        {\n",
      "            \"4\": 5,\n",
      "            \"6\": 7\n",
      "        }\n",
      "    \n",
      "    Decoding JSON::\n",
      "    \n",
      "        >>> import json\n",
      "        >>> obj = ['foo', {'bar': ['baz', None, 1.0, 2]}]\n",
      "        >>> json.loads('[\"foo\", {\"bar\":[\"baz\", null, 1.0, 2]}]') == obj\n",
      "        True\n",
      "        >>> json.loads('\"\\\\\"foo\\\\bar\"') == '\"foo\\x08ar'\n",
      "        True\n",
      "        >>> from io import StringIO\n",
      "        >>> io = StringIO('[\"streaming API\"]')\n",
      "        >>> json.load(io)[0] == 'streaming API'\n",
      "        True\n",
      "    \n",
      "    Specializing JSON object decoding::\n",
      "    \n",
      "        >>> import json\n",
      "        >>> def as_complex(dct):\n",
      "        ...     if '__complex__' in dct:\n",
      "        ...         return complex(dct['real'], dct['imag'])\n",
      "        ...     return dct\n",
      "        ...\n",
      "        >>> json.loads('{\"__complex__\": true, \"real\": 1, \"imag\": 2}',\n",
      "        ...     object_hook=as_complex)\n",
      "        (1+2j)\n",
      "        >>> from decimal import Decimal\n",
      "        >>> json.loads('1.1', parse_float=Decimal) == Decimal('1.1')\n",
      "        True\n",
      "    \n",
      "    Specializing JSON object encoding::\n",
      "    \n",
      "        >>> import json\n",
      "        >>> def encode_complex(obj):\n",
      "        ...     if isinstance(obj, complex):\n",
      "        ...         return [obj.real, obj.imag]\n",
      "        ...     raise TypeError(f'Object of type {obj.__class__.__name__} '\n",
      "        ...                     f'is not JSON serializable')\n",
      "        ...\n",
      "        >>> json.dumps(2 + 1j, default=encode_complex)\n",
      "        '[2.0, 1.0]'\n",
      "        >>> json.JSONEncoder(default=encode_complex).encode(2 + 1j)\n",
      "        '[2.0, 1.0]'\n",
      "        >>> ''.join(json.JSONEncoder(default=encode_complex).iterencode(2 + 1j))\n",
      "        '[2.0, 1.0]'\n",
      "    \n",
      "    \n",
      "    Using json.tool from the shell to validate and pretty-print::\n",
      "    \n",
      "        $ echo '{\"json\":\"obj\"}' | python -m json.tool\n",
      "        {\n",
      "            \"json\": \"obj\"\n",
      "        }\n",
      "        $ echo '{ 1.2:3.4}' | python -m json.tool\n",
      "        Expecting property name enclosed in double quotes: line 1 column 3 (char 2)\n",
      "\n",
      "PACKAGE CONTENTS\n",
      "    decoder\n",
      "    encoder\n",
      "    scanner\n",
      "    tool\n",
      "\n",
      "CLASSES\n",
      "    builtins.ValueError(builtins.Exception)\n",
      "        json.decoder.JSONDecodeError\n",
      "    builtins.object\n",
      "        json.decoder.JSONDecoder\n",
      "        json.encoder.JSONEncoder\n",
      "    \n",
      "    class JSONDecodeError(builtins.ValueError)\n",
      "     |  JSONDecodeError(msg, doc, pos)\n",
      "     |  \n",
      "     |  Subclass of ValueError with the following additional properties:\n",
      "     |  \n",
      "     |  msg: The unformatted error message\n",
      "     |  doc: The JSON document being parsed\n",
      "     |  pos: The start index of doc where parsing failed\n",
      "     |  lineno: The line corresponding to pos\n",
      "     |  colno: The column corresponding to pos\n",
      "     |  \n",
      "     |  Method resolution order:\n",
      "     |      JSONDecodeError\n",
      "     |      builtins.ValueError\n",
      "     |      builtins.Exception\n",
      "     |      builtins.BaseException\n",
      "     |      builtins.object\n",
      "     |  \n",
      "     |  Methods defined here:\n",
      "     |  \n",
      "     |  __init__(self, msg, doc, pos)\n",
      "     |      Initialize self.  See help(type(self)) for accurate signature.\n",
      "     |  \n",
      "     |  __reduce__(self)\n",
      "     |      Helper for pickle.\n",
      "     |  \n",
      "     |  ----------------------------------------------------------------------\n",
      "     |  Data descriptors defined here:\n",
      "     |  \n",
      "     |  __weakref__\n",
      "     |      list of weak references to the object (if defined)\n",
      "     |  \n",
      "     |  ----------------------------------------------------------------------\n",
      "     |  Static methods inherited from builtins.ValueError:\n",
      "     |  \n",
      "     |  __new__(*args, **kwargs) from builtins.type\n",
      "     |      Create and return a new object.  See help(type) for accurate signature.\n",
      "     |  \n",
      "     |  ----------------------------------------------------------------------\n",
      "     |  Methods inherited from builtins.BaseException:\n",
      "     |  \n",
      "     |  __delattr__(self, name, /)\n",
      "     |      Implement delattr(self, name).\n",
      "     |  \n",
      "     |  __getattribute__(self, name, /)\n",
      "     |      Return getattr(self, name).\n",
      "     |  \n",
      "     |  __repr__(self, /)\n",
      "     |      Return repr(self).\n",
      "     |  \n",
      "     |  __setattr__(self, name, value, /)\n",
      "     |      Implement setattr(self, name, value).\n",
      "     |  \n",
      "     |  __setstate__(...)\n",
      "     |  \n",
      "     |  __str__(self, /)\n",
      "     |      Return str(self).\n",
      "     |  \n",
      "     |  with_traceback(...)\n",
      "     |      Exception.with_traceback(tb) --\n",
      "     |      set self.__traceback__ to tb and return self.\n",
      "     |  \n",
      "     |  ----------------------------------------------------------------------\n",
      "     |  Data descriptors inherited from builtins.BaseException:\n",
      "     |  \n",
      "     |  __cause__\n",
      "     |      exception cause\n",
      "     |  \n",
      "     |  __context__\n",
      "     |      exception context\n",
      "     |  \n",
      "     |  __dict__\n",
      "     |  \n",
      "     |  __suppress_context__\n",
      "     |  \n",
      "     |  __traceback__\n",
      "     |  \n",
      "     |  args\n",
      "    \n",
      "    class JSONDecoder(builtins.object)\n",
      "     |  JSONDecoder(*, object_hook=None, parse_float=None, parse_int=None, parse_constant=None, strict=True, object_pairs_hook=None)\n",
      "     |  \n",
      "     |  Simple JSON <http://json.org> decoder\n",
      "     |  \n",
      "     |  Performs the following translations in decoding by default:\n",
      "     |  \n",
      "     |  +---------------+-------------------+\n",
      "     |  | JSON          | Python            |\n",
      "     |  +===============+===================+\n",
      "     |  | object        | dict              |\n",
      "     |  +---------------+-------------------+\n",
      "     |  | array         | list              |\n",
      "     |  +---------------+-------------------+\n",
      "     |  | string        | str               |\n",
      "     |  +---------------+-------------------+\n",
      "     |  | number (int)  | int               |\n",
      "     |  +---------------+-------------------+\n",
      "     |  | number (real) | float             |\n",
      "     |  +---------------+-------------------+\n",
      "     |  | true          | True              |\n",
      "     |  +---------------+-------------------+\n",
      "     |  | false         | False             |\n",
      "     |  +---------------+-------------------+\n",
      "     |  | null          | None              |\n",
      "     |  +---------------+-------------------+\n",
      "     |  \n",
      "     |  It also understands ``NaN``, ``Infinity``, and ``-Infinity`` as\n",
      "     |  their corresponding ``float`` values, which is outside the JSON spec.\n",
      "     |  \n",
      "     |  Methods defined here:\n",
      "     |  \n",
      "     |  __init__(self, *, object_hook=None, parse_float=None, parse_int=None, parse_constant=None, strict=True, object_pairs_hook=None)\n",
      "     |      ``object_hook``, if specified, will be called with the result\n",
      "     |      of every JSON object decoded and its return value will be used in\n",
      "     |      place of the given ``dict``.  This can be used to provide custom\n",
      "     |      deserializations (e.g. to support JSON-RPC class hinting).\n",
      "     |      \n",
      "     |      ``object_pairs_hook``, if specified will be called with the result of\n",
      "     |      every JSON object decoded with an ordered list of pairs.  The return\n",
      "     |      value of ``object_pairs_hook`` will be used instead of the ``dict``.\n",
      "     |      This feature can be used to implement custom decoders.\n",
      "     |      If ``object_hook`` is also defined, the ``object_pairs_hook`` takes\n",
      "     |      priority.\n",
      "     |      \n",
      "     |      ``parse_float``, if specified, will be called with the string\n",
      "     |      of every JSON float to be decoded. By default this is equivalent to\n",
      "     |      float(num_str). This can be used to use another datatype or parser\n",
      "     |      for JSON floats (e.g. decimal.Decimal).\n",
      "     |      \n",
      "     |      ``parse_int``, if specified, will be called with the string\n",
      "     |      of every JSON int to be decoded. By default this is equivalent to\n",
      "     |      int(num_str). This can be used to use another datatype or parser\n",
      "     |      for JSON integers (e.g. float).\n",
      "     |      \n",
      "     |      ``parse_constant``, if specified, will be called with one of the\n",
      "     |      following strings: -Infinity, Infinity, NaN.\n",
      "     |      This can be used to raise an exception if invalid JSON numbers\n",
      "     |      are encountered.\n",
      "     |      \n",
      "     |      If ``strict`` is false (true is the default), then control\n",
      "     |      characters will be allowed inside strings.  Control characters in\n",
      "     |      this context are those with character codes in the 0-31 range,\n",
      "     |      including ``'\\t'`` (tab), ``'\\n'``, ``'\\r'`` and ``'\\0'``.\n",
      "     |  \n",
      "     |  decode(self, s, _w=<built-in method match of re.Pattern object at 0x7f12d08787b0>)\n",
      "     |      Return the Python representation of ``s`` (a ``str`` instance\n",
      "     |      containing a JSON document).\n",
      "     |  \n",
      "     |  raw_decode(self, s, idx=0)\n",
      "     |      Decode a JSON document from ``s`` (a ``str`` beginning with\n",
      "     |      a JSON document) and return a 2-tuple of the Python\n",
      "     |      representation and the index in ``s`` where the document ended.\n",
      "     |      \n",
      "     |      This can be used to decode a JSON document from a string that may\n",
      "     |      have extraneous data at the end.\n",
      "     |  \n",
      "     |  ----------------------------------------------------------------------\n",
      "     |  Data descriptors defined here:\n",
      "     |  \n",
      "     |  __dict__\n",
      "     |      dictionary for instance variables (if defined)\n",
      "     |  \n",
      "     |  __weakref__\n",
      "     |      list of weak references to the object (if defined)\n",
      "    \n",
      "    class JSONEncoder(builtins.object)\n",
      "     |  JSONEncoder(*, skipkeys=False, ensure_ascii=True, check_circular=True, allow_nan=True, sort_keys=False, indent=None, separators=None, default=None)\n",
      "     |  \n",
      "     |  Extensible JSON <http://json.org> encoder for Python data structures.\n",
      "     |  \n",
      "     |  Supports the following objects and types by default:\n",
      "     |  \n",
      "     |  +-------------------+---------------+\n",
      "     |  | Python            | JSON          |\n",
      "     |  +===================+===============+\n",
      "     |  | dict              | object        |\n",
      "     |  +-------------------+---------------+\n",
      "     |  | list, tuple       | array         |\n",
      "     |  +-------------------+---------------+\n",
      "     |  | str               | string        |\n",
      "     |  +-------------------+---------------+\n",
      "     |  | int, float        | number        |\n",
      "     |  +-------------------+---------------+\n",
      "     |  | True              | true          |\n",
      "     |  +-------------------+---------------+\n",
      "     |  | False             | false         |\n",
      "     |  +-------------------+---------------+\n",
      "     |  | None              | null          |\n",
      "     |  +-------------------+---------------+\n",
      "     |  \n",
      "     |  To extend this to recognize other objects, subclass and implement a\n",
      "     |  ``.default()`` method with another method that returns a serializable\n",
      "     |  object for ``o`` if possible, otherwise it should call the superclass\n",
      "     |  implementation (to raise ``TypeError``).\n",
      "     |  \n",
      "     |  Methods defined here:\n",
      "     |  \n",
      "     |  __init__(self, *, skipkeys=False, ensure_ascii=True, check_circular=True, allow_nan=True, sort_keys=False, indent=None, separators=None, default=None)\n",
      "     |      Constructor for JSONEncoder, with sensible defaults.\n",
      "     |      \n",
      "     |      If skipkeys is false, then it is a TypeError to attempt\n",
      "     |      encoding of keys that are not str, int, float or None.  If\n",
      "     |      skipkeys is True, such items are simply skipped.\n",
      "     |      \n",
      "     |      If ensure_ascii is true, the output is guaranteed to be str\n",
      "     |      objects with all incoming non-ASCII characters escaped.  If\n",
      "     |      ensure_ascii is false, the output can contain non-ASCII characters.\n",
      "     |      \n",
      "     |      If check_circular is true, then lists, dicts, and custom encoded\n",
      "     |      objects will be checked for circular references during encoding to\n",
      "     |      prevent an infinite recursion (which would cause an OverflowError).\n",
      "     |      Otherwise, no such check takes place.\n",
      "     |      \n",
      "     |      If allow_nan is true, then NaN, Infinity, and -Infinity will be\n",
      "     |      encoded as such.  This behavior is not JSON specification compliant,\n",
      "     |      but is consistent with most JavaScript based encoders and decoders.\n",
      "     |      Otherwise, it will be a ValueError to encode such floats.\n",
      "     |      \n",
      "     |      If sort_keys is true, then the output of dictionaries will be\n",
      "     |      sorted by key; this is useful for regression tests to ensure\n",
      "     |      that JSON serializations can be compared on a day-to-day basis.\n",
      "     |      \n",
      "     |      If indent is a non-negative integer, then JSON array\n",
      "     |      elements and object members will be pretty-printed with that\n",
      "     |      indent level.  An indent level of 0 will only insert newlines.\n",
      "     |      None is the most compact representation.\n",
      "     |      \n",
      "     |      If specified, separators should be an (item_separator, key_separator)\n",
      "     |      tuple.  The default is (', ', ': ') if *indent* is ``None`` and\n",
      "     |      (',', ': ') otherwise.  To get the most compact JSON representation,\n",
      "     |      you should specify (',', ':') to eliminate whitespace.\n",
      "     |      \n",
      "     |      If specified, default is a function that gets called for objects\n",
      "     |      that can't otherwise be serialized.  It should return a JSON encodable\n",
      "     |      version of the object or raise a ``TypeError``.\n",
      "     |  \n",
      "     |  default(self, o)\n",
      "     |      Implement this method in a subclass such that it returns\n",
      "     |      a serializable object for ``o``, or calls the base implementation\n",
      "     |      (to raise a ``TypeError``).\n",
      "     |      \n",
      "     |      For example, to support arbitrary iterators, you could\n",
      "     |      implement default like this::\n",
      "     |      \n",
      "     |          def default(self, o):\n",
      "     |              try:\n",
      "     |                  iterable = iter(o)\n",
      "     |              except TypeError:\n",
      "     |                  pass\n",
      "     |              else:\n",
      "     |                  return list(iterable)\n",
      "     |              # Let the base class default method raise the TypeError\n",
      "     |              return JSONEncoder.default(self, o)\n",
      "     |  \n",
      "     |  encode(self, o)\n",
      "     |      Return a JSON string representation of a Python data structure.\n",
      "     |      \n",
      "     |      >>> from json.encoder import JSONEncoder\n",
      "     |      >>> JSONEncoder().encode({\"foo\": [\"bar\", \"baz\"]})\n",
      "     |      '{\"foo\": [\"bar\", \"baz\"]}'\n",
      "     |  \n",
      "     |  iterencode(self, o, _one_shot=False)\n",
      "     |      Encode the given object and yield each string\n",
      "     |      representation as available.\n",
      "     |      \n",
      "     |      For example::\n",
      "     |      \n",
      "     |          for chunk in JSONEncoder().iterencode(bigobject):\n",
      "     |              mysocket.write(chunk)\n",
      "     |  \n",
      "     |  ----------------------------------------------------------------------\n",
      "     |  Data descriptors defined here:\n",
      "     |  \n",
      "     |  __dict__\n",
      "     |      dictionary for instance variables (if defined)\n",
      "     |  \n",
      "     |  __weakref__\n",
      "     |      list of weak references to the object (if defined)\n",
      "     |  \n",
      "     |  ----------------------------------------------------------------------\n",
      "     |  Data and other attributes defined here:\n",
      "     |  \n",
      "     |  item_separator = ', '\n",
      "     |  \n",
      "     |  key_separator = ': '\n",
      "\n",
      "FUNCTIONS\n",
      "    dump(obj, fp, *, skipkeys=False, ensure_ascii=True, check_circular=True, allow_nan=True, cls=None, indent=None, separators=None, default=None, sort_keys=False, **kw)\n",
      "        Serialize ``obj`` as a JSON formatted stream to ``fp`` (a\n",
      "        ``.write()``-supporting file-like object).\n",
      "        \n",
      "        If ``skipkeys`` is true then ``dict`` keys that are not basic types\n",
      "        (``str``, ``int``, ``float``, ``bool``, ``None``) will be skipped\n",
      "        instead of raising a ``TypeError``.\n",
      "        \n",
      "        If ``ensure_ascii`` is false, then the strings written to ``fp`` can\n",
      "        contain non-ASCII characters if they appear in strings contained in\n",
      "        ``obj``. Otherwise, all such characters are escaped in JSON strings.\n",
      "        \n",
      "        If ``check_circular`` is false, then the circular reference check\n",
      "        for container types will be skipped and a circular reference will\n",
      "        result in an ``OverflowError`` (or worse).\n",
      "        \n",
      "        If ``allow_nan`` is false, then it will be a ``ValueError`` to\n",
      "        serialize out of range ``float`` values (``nan``, ``inf``, ``-inf``)\n",
      "        in strict compliance of the JSON specification, instead of using the\n",
      "        JavaScript equivalents (``NaN``, ``Infinity``, ``-Infinity``).\n",
      "        \n",
      "        If ``indent`` is a non-negative integer, then JSON array elements and\n",
      "        object members will be pretty-printed with that indent level. An indent\n",
      "        level of 0 will only insert newlines. ``None`` is the most compact\n",
      "        representation.\n",
      "        \n",
      "        If specified, ``separators`` should be an ``(item_separator, key_separator)``\n",
      "        tuple.  The default is ``(', ', ': ')`` if *indent* is ``None`` and\n",
      "        ``(',', ': ')`` otherwise.  To get the most compact JSON representation,\n",
      "        you should specify ``(',', ':')`` to eliminate whitespace.\n",
      "        \n",
      "        ``default(obj)`` is a function that should return a serializable version\n",
      "        of obj or raise TypeError. The default simply raises TypeError.\n",
      "        \n",
      "        If *sort_keys* is true (default: ``False``), then the output of\n",
      "        dictionaries will be sorted by key.\n",
      "        \n",
      "        To use a custom ``JSONEncoder`` subclass (e.g. one that overrides the\n",
      "        ``.default()`` method to serialize additional types), specify it with\n",
      "        the ``cls`` kwarg; otherwise ``JSONEncoder`` is used.\n",
      "    \n",
      "    dumps(obj, *, skipkeys=False, ensure_ascii=True, check_circular=True, allow_nan=True, cls=None, indent=None, separators=None, default=None, sort_keys=False, **kw)\n",
      "        Serialize ``obj`` to a JSON formatted ``str``.\n",
      "        \n",
      "        If ``skipkeys`` is true then ``dict`` keys that are not basic types\n",
      "        (``str``, ``int``, ``float``, ``bool``, ``None``) will be skipped\n",
      "        instead of raising a ``TypeError``.\n",
      "        \n",
      "        If ``ensure_ascii`` is false, then the return value can contain non-ASCII\n",
      "        characters if they appear in strings contained in ``obj``. Otherwise, all\n",
      "        such characters are escaped in JSON strings.\n",
      "        \n",
      "        If ``check_circular`` is false, then the circular reference check\n",
      "        for container types will be skipped and a circular reference will\n",
      "        result in an ``OverflowError`` (or worse).\n",
      "        \n",
      "        If ``allow_nan`` is false, then it will be a ``ValueError`` to\n",
      "        serialize out of range ``float`` values (``nan``, ``inf``, ``-inf``) in\n",
      "        strict compliance of the JSON specification, instead of using the\n",
      "        JavaScript equivalents (``NaN``, ``Infinity``, ``-Infinity``).\n",
      "        \n",
      "        If ``indent`` is a non-negative integer, then JSON array elements and\n",
      "        object members will be pretty-printed with that indent level. An indent\n",
      "        level of 0 will only insert newlines. ``None`` is the most compact\n",
      "        representation.\n",
      "        \n",
      "        If specified, ``separators`` should be an ``(item_separator, key_separator)``\n",
      "        tuple.  The default is ``(', ', ': ')`` if *indent* is ``None`` and\n",
      "        ``(',', ': ')`` otherwise.  To get the most compact JSON representation,\n",
      "        you should specify ``(',', ':')`` to eliminate whitespace.\n",
      "        \n",
      "        ``default(obj)`` is a function that should return a serializable version\n",
      "        of obj or raise TypeError. The default simply raises TypeError.\n",
      "        \n",
      "        If *sort_keys* is true (default: ``False``), then the output of\n",
      "        dictionaries will be sorted by key.\n",
      "        \n",
      "        To use a custom ``JSONEncoder`` subclass (e.g. one that overrides the\n",
      "        ``.default()`` method to serialize additional types), specify it with\n",
      "        the ``cls`` kwarg; otherwise ``JSONEncoder`` is used.\n",
      "    \n",
      "    load(fp, *, cls=None, object_hook=None, parse_float=None, parse_int=None, parse_constant=None, object_pairs_hook=None, **kw)\n",
      "        Deserialize ``fp`` (a ``.read()``-supporting file-like object containing\n",
      "        a JSON document) to a Python object.\n",
      "        \n",
      "        ``object_hook`` is an optional function that will be called with the\n",
      "        result of any object literal decode (a ``dict``). The return value of\n",
      "        ``object_hook`` will be used instead of the ``dict``. This feature\n",
      "        can be used to implement custom decoders (e.g. JSON-RPC class hinting).\n",
      "        \n",
      "        ``object_pairs_hook`` is an optional function that will be called with the\n",
      "        result of any object literal decoded with an ordered list of pairs.  The\n",
      "        return value of ``object_pairs_hook`` will be used instead of the ``dict``.\n",
      "        This feature can be used to implement custom decoders.  If ``object_hook``\n",
      "        is also defined, the ``object_pairs_hook`` takes priority.\n",
      "        \n",
      "        To use a custom ``JSONDecoder`` subclass, specify it with the ``cls``\n",
      "        kwarg; otherwise ``JSONDecoder`` is used.\n",
      "    \n",
      "    loads(s, *, encoding=None, cls=None, object_hook=None, parse_float=None, parse_int=None, parse_constant=None, object_pairs_hook=None, **kw)\n",
      "        Deserialize ``s`` (a ``str``, ``bytes`` or ``bytearray`` instance\n",
      "        containing a JSON document) to a Python object.\n",
      "        \n",
      "        ``object_hook`` is an optional function that will be called with the\n",
      "        result of any object literal decode (a ``dict``). The return value of\n",
      "        ``object_hook`` will be used instead of the ``dict``. This feature\n",
      "        can be used to implement custom decoders (e.g. JSON-RPC class hinting).\n",
      "        \n",
      "        ``object_pairs_hook`` is an optional function that will be called with the\n",
      "        result of any object literal decoded with an ordered list of pairs.  The\n",
      "        return value of ``object_pairs_hook`` will be used instead of the ``dict``.\n",
      "        This feature can be used to implement custom decoders.  If ``object_hook``\n",
      "        is also defined, the ``object_pairs_hook`` takes priority.\n",
      "        \n",
      "        ``parse_float``, if specified, will be called with the string\n",
      "        of every JSON float to be decoded. By default this is equivalent to\n",
      "        float(num_str). This can be used to use another datatype or parser\n",
      "        for JSON floats (e.g. decimal.Decimal).\n",
      "        \n",
      "        ``parse_int``, if specified, will be called with the string\n",
      "        of every JSON int to be decoded. By default this is equivalent to\n",
      "        int(num_str). This can be used to use another datatype or parser\n",
      "        for JSON integers (e.g. float).\n",
      "        \n",
      "        ``parse_constant``, if specified, will be called with one of the\n",
      "        following strings: -Infinity, Infinity, NaN.\n",
      "        This can be used to raise an exception if invalid JSON numbers\n",
      "        are encountered.\n",
      "        \n",
      "        To use a custom ``JSONDecoder`` subclass, specify it with the ``cls``\n",
      "        kwarg; otherwise ``JSONDecoder`` is used.\n",
      "        \n",
      "        The ``encoding`` argument is ignored and deprecated.\n",
      "\n",
      "DATA\n",
      "    __all__ = ['dump', 'dumps', 'load', 'loads', 'JSONDecoder', 'JSONDecod...\n",
      "\n",
      "VERSION\n",
      "    2.0.9\n",
      "\n",
      "AUTHOR\n",
      "    Bob Ippolito <bob@redivi.com>\n",
      "\n",
      "FILE\n",
      "    /home/bitai/anaconda3/lib/python3.7/json/__init__.py\n",
      "\n",
      "\n"
     ]
    }
   ],
   "source": [
    "import json\n",
    "help(json)"
   ]
  },
  {
   "cell_type": "code",
   "execution_count": 36,
   "metadata": {},
   "outputs": [
    {
     "name": "stdout",
     "output_type": "stream",
     "text": [
      "['Add10', 'GetBiggerThan20', 'In', 'Out', 'PyTestClass', '_', '__', '___', '__builtin__', '__builtins__', '__doc__', '__loader__', '__name__', '__package__', '__spec__', '_dh', '_i', '_i1', '_i10', '_i11', '_i12', '_i13', '_i14', '_i15', '_i16', '_i17', '_i18', '_i19', '_i2', '_i20', '_i21', '_i22', '_i23', '_i24', '_i25', '_i26', '_i27', '_i28', '_i29', '_i3', '_i30', '_i31', '_i32', '_i33', '_i34', '_i35', '_i36', '_i4', '_i5', '_i6', '_i7', '_i8', '_i9', '_ih', '_ii', '_iii', '_oh', 'a', 'area', 'b', 'change', 'change2', 'connectURI', 'dx', 'end', 'exit', 'get_ipython', 'glob', 'i', 'intersect', 'iterList', 'json', 'l', 'list1', 'list2', 'list3', 'loopLen', 'math', 'mysum', 'name', 'newList', 'numList', 'pointerOfFunction', 'quit', 'res', 'resList', 'retList', 'service', 'start', 'swap', 't', 't1', 't2', 'test', 'time', 'times', 'userURIBuilder', 'wordList', 'x', 'xChgScope', 'y']\n",
      "<class 'type'>\n"
     ]
    }
   ],
   "source": [
    "# 파이썬에서 클래스를 만드는 방법\n",
    "# class를 적고 클래스 이름을 적는다.\n",
    "# 그리고 스코핑을 해준다.\n",
    "class PyTestClass:\n",
    "    \"\"\"It;s fop Python Test Class\"\"\"\n",
    "    # pass를 넣어놓으면 별도의 다른 기능이 없어도 자체적인 클래스가 만들어지게 된다.\n",
    "    # 아무런 기능이 없는 클래스가 만들어졌다.\n",
    "    pass\n",
    "\n",
    "# dir()은 현재 사용할 수 있는 모듈의 리스트를 보여준다.\n",
    "print(dir())\n",
    "print(type(PyTestClass))"
   ]
  },
  {
   "cell_type": "code",
   "execution_count": 45,
   "metadata": {},
   "outputs": [
    {
     "name": "stdout",
     "output_type": "stream",
     "text": [
      "My name is Default Name\n"
     ]
    }
   ],
   "source": [
    "# class는 추상화된 개념(고양이) -> 인스턴스(실제 색 이름등 구체적 값을 가지면서 프로그램 상에서 나타낼 수 있는 것)\n",
    "# 인스턴스가 되어야 메모리를 할당 받아서 뭔가를 할 수 있음\n",
    "class Person:\n",
    "    Name = \"Default Name\"\n",
    "    # 파이썬에서 클래스 매서드 작성할 때 반드시 첫 번째 인자로 self를 지정하도록 한다. Java나 C++의 this와 동일.\n",
    "    def Print(self): # 메소드 정의\n",
    "        print(\"My name is {0}\".format(self.Name))\n",
    "        \n",
    "p1 = Person() # 인스턴스 생성  cf.자바의 Person p1 = new Pesron()\n",
    "p1.Print() # 매소드 호출 \".\"사용"
   ]
  },
  {
   "cell_type": "code",
   "execution_count": 47,
   "metadata": {},
   "outputs": [
    {
     "name": "stdout",
     "output_type": "stream",
     "text": [
      "My name is My name is Python3\n",
      "My name is My name is Python3\n"
     ]
    }
   ],
   "source": [
    "p1.Name = \"My name is Python3\"\n",
    "p1.Print()\n",
    "Person.Print(p1)"
   ]
  },
  {
   "cell_type": "code",
   "execution_count": 49,
   "metadata": {},
   "outputs": [
    {
     "name": "stdout",
     "output_type": "stream",
     "text": [
      "p1's name:  My name is Person\n",
      "p2's name:  Default Name\n"
     ]
    }
   ],
   "source": [
    "p1 = Person()\n",
    "p1.Name = \"My name is Person\"\n",
    "p2 = Person()\n",
    "\n",
    "print(\"p1's name: \", p1.Name)\n",
    "print(\"p2's name: \", p2.Name)"
   ]
  },
  {
   "cell_type": "code",
   "execution_count": 50,
   "metadata": {
    "scrolled": true
   },
   "outputs": [
    {
     "name": "stdout",
     "output_type": "stream",
     "text": [
      "p1's title:  Python3 Test\n",
      "p2's title:  Python3 Test\n",
      "Person's title:  Python3 Test\n"
     ]
    }
   ],
   "source": [
    "Person.title = \"Python3 Test\"\n",
    "print(\"p1's title: \", p1.title)\n",
    "print(\"p2's title: \", p2.title)\n",
    "print(\"Person's title: \", Person.title)"
   ]
  },
  {
   "cell_type": "code",
   "execution_count": 52,
   "metadata": {},
   "outputs": [
    {
     "ename": "SyntaxError",
     "evalue": "invalid syntax (<ipython-input-52-a28a2c9718bc>, line 6)",
     "output_type": "error",
     "traceback": [
      "\u001b[1;36m  File \u001b[1;32m\"<ipython-input-52-a28a2c9718bc>\"\u001b[1;36m, line \u001b[1;32m6\u001b[0m\n\u001b[1;33m    def Set(self.msg):\u001b[0m\n\u001b[1;37m                ^\u001b[0m\n\u001b[1;31mSyntaxError\u001b[0m\u001b[1;31m:\u001b[0m invalid syntax\n"
     ]
    }
   ],
   "source": [
    "str1 = \"Not Class Member\"\n",
    "\n",
    "class NonSelfTest:\n",
    "    str1 = \"\"\n",
    "    \n",
    "    def Set(self.msg):\n",
    "        self.str1 = msg\n",
    "        \n",
    "    def Print(self):\n",
    "        print(str1)\n",
    "        \n",
    "test = NonSelfTest()\n",
    "test.Set(\"Test Message\")\n",
    "test.Print()"
   ]
  },
  {
   "cell_type": "code",
   "execution_count": 53,
   "metadata": {},
   "outputs": [
    {
     "name": "stdout",
     "output_type": "stream",
     "text": [
      "Change Data\n",
      "Change Data\n"
     ]
    }
   ],
   "source": [
    "# 파이썬은 객체에 대해 데이터를 일괄적으로 제공 가능.\n",
    "class ClassTest:\n",
    "    data = \"Default\"\n",
    "    \n",
    "i1 = ClassTest()\n",
    "i2 = ClassTest()\n",
    "\n",
    "# __class__ 통해서 i1의 데이터타입을 가진 모든 객체의 data를 변경한다.\n",
    "i1.__class__.data = \"Change Data\"\n",
    "print(i1.data)\n",
    "print(i2.data)"
   ]
  },
  {
   "cell_type": "code",
   "execution_count": 56,
   "metadata": {},
   "outputs": [
    {
     "name": "stdout",
     "output_type": "stream",
     "text": [
      "Change Data\n",
      "Only Change it!\n"
     ]
    }
   ],
   "source": [
    "i2.data = \"Only Change it!\"\n",
    "print(i1.data)\n",
    "print(i2.data)"
   ]
  },
  {
   "cell_type": "code",
   "execution_count": 58,
   "metadata": {},
   "outputs": [
    {
     "name": "stdout",
     "output_type": "stream",
     "text": [
      "Real\n",
      "Real\n",
      "Only Change it!\n"
     ]
    }
   ],
   "source": [
    "# __class__.data와 객체의 data가 같지 않음을 주의!\n",
    "i1.__class__.data = \"Real\"\n",
    "\n",
    "print(i2.__class__.data)\n",
    "print(i1.data)\n",
    "print(i2.data)"
   ]
  },
  {
   "cell_type": "code",
   "execution_count": 63,
   "metadata": {},
   "outputs": [
    {
     "name": "stdout",
     "output_type": "stream",
     "text": [
      "chekck =  True\n",
      "chekck =  True\n",
      "chekck =  True\n",
      "chekck =  True\n",
      "chekck =  False\n"
     ]
    }
   ],
   "source": [
    "class Vehicle:\n",
    "    pass\n",
    "class Fish:\n",
    "    pass\n",
    "# Airplane이 Vehicle을 상속받았음\n",
    "# 비행기 입장에서는 탈것(Vehicle)이 부모\n",
    "# Vehicle 입장에서 Airplane은 자식\n",
    "# 파이썬의 상속 방법\n",
    "# 1. 클래스를 작성한다.\n",
    "# 2. 소괄호를 열고 내부에 상속할 클래스를 적는다.\n",
    "# 상속을 받으면 부모로부터 받아온 데이터를 다 쓸 수 있다.\n",
    "class Airplane(Vehicle):\n",
    "    pass\n",
    "\n",
    "# -------------\n",
    "# /  Vehicle  / <-- Vehicle 자체의 데이터\n",
    "# -------------\n",
    "# / Airplane / <-- Airplane 자체의 데이터\n",
    "# -------------\n",
    "\n",
    "# 튜플로 Vehicle과 Airplane 객체를 받는다.\n",
    "v, a = Vehicle(), Airplane()\n",
    "\n",
    "v, a = Vehicle(), Airplane()\n",
    "print(\"chekck = \", isinstance(v, Vehicle))\n",
    "print(\"chekck = \", isinstance(a, Vehicle))\n",
    "print(\"chekck = \", isinstance(v, object))\n",
    "print(\"chekck = \", isinstance(int, object))\n",
    "print(\"chekck = \", isinstance(v, Fish))"
   ]
  },
  {
   "cell_type": "code",
   "execution_count": 64,
   "metadata": {},
   "outputs": [
    {
     "name": "stdout",
     "output_type": "stream",
     "text": [
      "Vehicles Constructor! Value = 70\n"
     ]
    }
   ],
   "source": [
    "class Vehicles:\n",
    "    # initialization(초기화): 생성자를 의미함\n",
    "    def __init__(self, value):\n",
    "        self.Value = value\n",
    "        print(\"Vehicles Constructor! Value =\", value)\n",
    "    \n",
    "    # delete(삭제): 소멸자를 의미함\n",
    "    def __del__(self):\n",
    "            print(\"Vehicles Destructor!\")\n",
    "\n",
    "# 여기서 소멸자가 호출되지 않는 이유는 \n",
    "# Heap영역에 정보가 살아있기 때문이다. \n",
    "# Heap에 있는 정보는 껐다 키기 전까지는 살아있음.\n",
    "v = Vehicles(70)"
   ]
  },
  {
   "cell_type": "code",
   "execution_count": 67,
   "metadata": {},
   "outputs": [
    {
     "name": "stdout",
     "output_type": "stream",
     "text": [
      "Vehicles Constructor! Value = 70\n"
     ]
    }
   ],
   "source": [
    "# test 함수내에 v 객체\n",
    "# test라는 함수 안에서만 사용할 수 있는 변수\n",
    "# test 내부에서 지역변수가 되어버림.\n",
    "def test():\n",
    "    v = Vehicles(70)\n",
    "\n",
    "    #그래서 test()함수가 끝나는 순간 소멸자가 동작하게 된다.\n",
    "test()"
   ]
  },
  {
   "cell_type": "code",
   "execution_count": 72,
   "metadata": {},
   "outputs": [
    {
     "name": "stdout",
     "output_type": "stream",
     "text": [
      "{'speed': 70, 'color': 'red'}\n",
      "{'speed': 150, 'name': 'porsche', 'vendor': 'spyder 918', 'color': 'blue'}\n"
     ]
    }
   ],
   "source": [
    "class Vehicle:\n",
    "    # 생성자에 self는 베이스\n",
    "    def __init__(self, speed, color):\n",
    "        self.speed = speed\n",
    "        self.color = color\n",
    "        \n",
    "    def printInfo(self):\n",
    "        print(\"Info(name:{0}, color:{1})\".format(self.speed, self.color))\n",
    "        \n",
    "class Car(Vehicle):\n",
    "    def __init__(self, speed, color, name, vendor):\n",
    "        self.speed = speed\n",
    "        self.name = name\n",
    "        self.vendor = vendor\n",
    "        self.color = color\n",
    "\n",
    "# Vehicle 생성자를 호출하겠습니다.\n",
    "v1 = Vehicle(70, \"red\")\n",
    "# Car 생성자를 호출하겠습니다.\n",
    "c1 = Car(150, \"blue\", \"porsche\", \"spyder 918\")\n",
    "\n",
    "# v1은 70과 \"red\"\n",
    "# __dict__를 통해서 실제 객체가 가지고 있는 정보를 출력한다.\n",
    "print(v1.__dict__)\n",
    "print(c1.__dict__)"
   ]
  },
  {
   "cell_type": "code",
   "execution_count": null,
   "metadata": {},
   "outputs": [],
   "source": []
  }
 ],
 "metadata": {
  "kernelspec": {
   "display_name": "Python 3",
   "language": "python",
   "name": "python3"
  },
  "language_info": {
   "codemirror_mode": {
    "name": "ipython",
    "version": 3
   },
   "file_extension": ".py",
   "mimetype": "text/x-python",
   "name": "python",
   "nbconvert_exporter": "python",
   "pygments_lexer": "ipython3",
   "version": "3.7.6"
  }
 },
 "nbformat": 4,
 "nbformat_minor": 4
}
