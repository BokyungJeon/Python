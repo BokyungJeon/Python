{
 "cells": [
  {
   "cell_type": "code",
   "execution_count": 1,
   "metadata": {},
   "outputs": [
    {
     "name": "stdout",
     "output_type": "stream",
     "text": [
      "[1, 4, 9, 16, 25]\n"
     ]
    }
   ],
   "source": [
    "# 1 ~ 5까지 각 숫자의 제곱을 리스트로 만듬\n",
    "print([res ** 2 for res in range(1, 6)])"
   ]
  },
  {
   "cell_type": "code",
   "execution_count": 2,
   "metadata": {},
   "outputs": [
    {
     "name": "stdout",
     "output_type": "stream",
     "text": [
      "[1, 4, 9, 16, 25]\n"
     ]
    }
   ],
   "source": [
    "numList = [res ** 2 for res in range(1, 6)]\n",
    "print(numList)"
   ]
  },
  {
   "cell_type": "code",
   "execution_count": 4,
   "metadata": {},
   "outputs": [
    {
     "name": "stdout",
     "output_type": "stream",
     "text": [
      "[10, 15, 20, 25, 30]\n"
     ]
    }
   ],
   "source": [
    "numList = [res for res in range(10, 31, 5)]\n",
    "print(numList)"
   ]
  },
  {
   "cell_type": "code",
   "execution_count": 7,
   "metadata": {
    "scrolled": true
   },
   "outputs": [
    {
     "name": "stdout",
     "output_type": "stream",
     "text": [
      "Item: 25\n",
      "Item: 30\n",
      "<filter object at 0x000001805A0D52C8>\n",
      "[]\n"
     ]
    }
   ],
   "source": [
    "# 파이썬 함수(자바 관점에서는 매서드)\n",
    "def GetBiggerThan20(i):\n",
    "    return i > 20\n",
    "\n",
    "# filter는 함수 객체와 리스트를 인자로 계산한 것\n",
    "# filter(매서드, 리스트)\n",
    "iterList = filter(GetBiggerThan20, numList)\n",
    "for i in iterList:\n",
    "    print(\"Item: {0}\".format(i))\n",
    "    \n",
    "print(iterList)\n",
    "print(list(iterList))  # ???\n",
    "# filter를 통해서 만든 정보는 위와 같이 리스트화 할 수 없다."
   ]
  },
  {
   "cell_type": "code",
   "execution_count": 8,
   "metadata": {},
   "outputs": [
    {
     "name": "stdout",
     "output_type": "stream",
     "text": [
      "[25, 30]\n"
     ]
    }
   ],
   "source": [
    "# 아래와 같이 filter를 list로 감싸면 리스트로 만들 수 있다.\n",
    "newList = list(filter(GetBiggerThan20, numList))\n",
    "print(newList)"
   ]
  },
  {
   "cell_type": "code",
   "execution_count": 9,
   "metadata": {},
   "outputs": [
    {
     "name": "stdout",
     "output_type": "stream",
     "text": [
      "[25, 30]\n"
     ]
    }
   ],
   "source": [
    "# numList에 있는 내용을 i로 전달해서\n",
    "# 20보다 큰것을 리스트로 만든다.\n",
    "resList = list(filter(lambda i: i > 20, numList))\n",
    "print(resList)"
   ]
  },
  {
   "cell_type": "code",
   "execution_count": 10,
   "metadata": {},
   "outputs": [
    {
     "name": "stdout",
     "output_type": "stream",
     "text": [
      "Item: 20\n",
      "Item: 25\n",
      "Item: 30\n",
      "Item: 35\n",
      "Item: 40\n"
     ]
    }
   ],
   "source": [
    "def Add10(i):\n",
    "    return i + 10\n",
    "\n",
    "# numList의 요소들을 Add10으로 보내서\n",
    "# 각각 10씩 더해준다.\n",
    "for i in map(Add10, numList):\n",
    "    print(\"Item: {0}\".format(i))"
   ]
  },
  {
   "cell_type": "code",
   "execution_count": 12,
   "metadata": {},
   "outputs": [
    {
     "name": "stdout",
     "output_type": "stream",
     "text": [
      "[20, 25, 30, 35, 40]\n"
     ]
    }
   ],
   "source": [
    "# 결국엔 람다도 고성능을 얻기 위해서 사용한다.\n",
    "retList = list(map((lambda i: i + 10), numList))\n",
    "print(retList)"
   ]
  },
  {
   "cell_type": "code",
   "execution_count": null,
   "metadata": {},
   "outputs": [],
   "source": []
  }
 ],
 "metadata": {
  "kernelspec": {
   "display_name": "Python 3",
   "language": "python",
   "name": "python3"
  },
  "language_info": {
   "codemirror_mode": {
    "name": "ipython",
    "version": 3
   },
   "file_extension": ".py",
   "mimetype": "text/x-python",
   "name": "python",
   "nbconvert_exporter": "python",
   "pygments_lexer": "ipython3",
   "version": "3.7.6"
  }
 },
 "nbformat": 4,
 "nbformat_minor": 4
}
