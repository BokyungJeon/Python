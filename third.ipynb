{
 "cells": [
  {
   "cell_type": "code",
   "execution_count": 1,
   "metadata": {},
   "outputs": [
    {
     "name": "stdout",
     "output_type": "stream",
     "text": [
      "[1, 4, 9, 16, 25]\n"
     ]
    }
   ],
   "source": [
    "# 1 ~ 5까지 각 숫자의 제곱을 리스트로 만듬\n",
    "print([res ** 2 for res in range(1, 6)])"
   ]
  },
  {
   "cell_type": "code",
   "execution_count": 2,
   "metadata": {},
   "outputs": [
    {
     "name": "stdout",
     "output_type": "stream",
     "text": [
      "[1, 4, 9, 16, 25]\n"
     ]
    }
   ],
   "source": [
    "numList = [res ** 2 for res in range(1, 6)]\n",
    "print(numList)"
   ]
  },
  {
   "cell_type": "code",
   "execution_count": 3,
   "metadata": {},
   "outputs": [
    {
     "name": "stdout",
     "output_type": "stream",
     "text": [
      "[10, 15, 20, 25, 30]\n"
     ]
    }
   ],
   "source": [
    "numList = [res for res in range(10, 31, 5)]\n",
    "print(numList)"
   ]
  },
  {
   "cell_type": "code",
   "execution_count": 7,
   "metadata": {
    "scrolled": true
   },
   "outputs": [
    {
     "name": "stdout",
     "output_type": "stream",
     "text": [
      "Item: 25\n",
      "Item: 30\n",
      "<filter object at 0x000001805A0D52C8>\n",
      "[]\n"
     ]
    }
   ],
   "source": [
    "# 파이썬 함수(자바 관점에서는 매서드)\n",
    "def GetBiggerThan20(i):\n",
    "    return i > 20\n",
    "\n",
    "# filter는 함수 객체와 리스트를 인자로 계산한 것\n",
    "# filter(매서드, 리스트)\n",
    "iterList = filter(GetBiggerThan20, numList)\n",
    "for i in iterList:\n",
    "    print(\"Item: {0}\".format(i))\n",
    "    \n",
    "print(iterList)\n",
    "print(list(iterList))  # ???\n",
    "# filter를 통해서 만든 정보는 위와 같이 리스트화 할 수 없다."
   ]
  },
  {
   "cell_type": "code",
   "execution_count": 8,
   "metadata": {},
   "outputs": [
    {
     "name": "stdout",
     "output_type": "stream",
     "text": [
      "[25, 30]\n"
     ]
    }
   ],
   "source": [
    "# 아래와 같이 filter를 list로 감싸면 리스트로 만들 수 있다.\n",
    "newList = list(filter(GetBiggerThan20, numList))\n",
    "print(newList)"
   ]
  },
  {
   "cell_type": "code",
   "execution_count": 9,
   "metadata": {},
   "outputs": [
    {
     "name": "stdout",
     "output_type": "stream",
     "text": [
      "[25, 30]\n"
     ]
    }
   ],
   "source": [
    "# numList에 있는 내용을 i로 전달해서\n",
    "# 20보다 큰것을 리스트로 만든다.\n",
    "resList = list(filter(lambda i: i > 20, numList))\n",
    "print(resList)"
   ]
  },
  {
   "cell_type": "code",
   "execution_count": 4,
   "metadata": {},
   "outputs": [
    {
     "name": "stdout",
     "output_type": "stream",
     "text": [
      "Item: 20\n",
      "Item: 25\n",
      "Item: 30\n",
      "Item: 35\n",
      "Item: 40\n"
     ]
    }
   ],
   "source": [
    "def Add10(i):\n",
    "    return i + 10\n",
    "\n",
    "# numList의 요소들을 Add10으로 보내서\n",
    "# 각각 10씩 더해준다.\n",
    "for i in map(Add10, numList):\n",
    "    print(\"Item: {0}\".format(i))"
   ]
  },
  {
   "cell_type": "code",
   "execution_count": 5,
   "metadata": {},
   "outputs": [
    {
     "name": "stdout",
     "output_type": "stream",
     "text": [
      "[20, 25, 30, 35, 40]\n"
     ]
    }
   ],
   "source": [
    "# 결국엔 람다도 고성능을 얻기 위해서 사용한다.\n",
    "retList = list(map((lambda i: i + 10), numList))\n",
    "print(retList)"
   ]
  },
  {
   "cell_type": "code",
   "execution_count": 9,
   "metadata": {},
   "outputs": [
    {
     "name": "stdout",
     "output_type": "stream",
     "text": [
      "0\n",
      "1\n",
      "2\n",
      "3\n",
      "4\n",
      "5\n",
      "6\n",
      "7\n",
      "8\n",
      "9\n",
      "Take 0.0 seconds\n"
     ]
    }
   ],
   "source": [
    "import time\n",
    "\n",
    "l = range(10)\n",
    "\n",
    "t = time.mktime(time.localtime())\n",
    "\n",
    "for i in l:\n",
    "    print(i,)\n",
    "\n",
    "t1 = time.mktime(time.localtime()) - t\n",
    "print(\"Take {0} seconds\".format(t1))"
   ]
  },
  {
   "cell_type": "code",
   "execution_count": 10,
   "metadata": {},
   "outputs": [
    {
     "name": "stdout",
     "output_type": "stream",
     "text": [
      "0, 1, 2, 3, 4, 5, 6, 7, 8, 9, 10, 11, 12, 13, 14, 15, 16, 17, 18, 19, 20, 21, 22, 23, 24, 25, 26, 27, 28, 29, 30, 31, 32, 33, 34, 35, 36, 37, 38, 39, 40, 41, 42, 43, 44, 45, 46, 47, 48, 49, 50, 51, 52, 53, 54, 55, 56, 57, 58, 59, 60, 61, 62, 63, 64, 65, 66, 67, 68, 69, 70, 71, 72, 73, 74, 75, 76, 77, 78, 79, 80, 81, 82, 83, 84, 85, 86, 87, 88, 89, 90, 91, 92, 93, 94, 95, 96, 97, 98, 99\n",
      "Take 0.0 seconds\n"
     ]
    }
   ],
   "source": [
    "# jupyter notebook third.ipynb --NotebookApp.iopub_data_rate_limit=2147483647\n",
    "import time\n",
    "\n",
    "l = range(100)\n",
    "\n",
    "t = time.mktime(time.localtime())\n",
    "print(\", \".join(str(i) for i in l))\n",
    "t1 = time.mktime(time.localtime()) - t\n",
    "print(\"Take {0} seconds\".format(t1))"
   ]
  },
  {
   "cell_type": "code",
   "execution_count": null,
   "metadata": {},
   "outputs": [],
   "source": [
    "# Memory Hierarchy(메모리 계층 구조)\n",
    "# 1. 레지스터\n",
    "# 2. 캐시 메모리(SRAM)\n",
    "# 3. 메모리(DRAM)\n",
    "# 4. I/O(디스크, 모니터, 마우스, 네트워크 등등)\n",
    "\n",
    "# CPU - 2.0 GHz ~ 3.0 GHz -> 5 GHz\n",
    "# GHz == 10^9 Hz\n",
    "# Hz의 의미 -> 1초에 몇번 진동하나 ?\n",
    "# 위의 계산대로라면 일반적인 CPU는\n",
    "# 1초에 20 0000 0000 개의 명령을 실행할 수 있다는 의미\n",
    "# 위 내용은 속도 관점에서 접근한 내용이다.\n",
    "# 그러므로 내용이 빈번하게 자주 바뀌는 녀석들은\n",
    "# 레지스터로 처리해야 하지만\n",
    "# 대규모 I/O를 발생시키면서 바뀌면 여러모로 답이 없는 상황\n",
    "\n",
    "# 크기 관점에서 접근을 해보면\n",
    "# 1. I/O\n",
    "# 2. 메모리\n",
    "# 3. 캐시 메모리\n",
    "# 4. 레지스터\n",
    "\n",
    "# 용량 관점에서는 I/O가 크니까\n",
    "# 데이터를 한 번에 모아서 한 번만 보내면 어떨까 ?\n",
    "# 블록 단위 연산(주의점: 블록킹 연산과는 다른것임)\n",
    "# 블록 단위 연산은 데이터를 한 번에 모아서 전송하는 연산\n",
    "# 블록킹 연산은 특정 작업이 끝날 때까지 대기하는 연산"
   ]
  },
  {
   "cell_type": "code",
   "execution_count": 19,
   "metadata": {},
   "outputs": [
    {
     "name": "stdout",
     "output_type": "stream",
     "text": [
      "30000000.0\n",
      "0 ~ 3까지 적분 결과는 = 8.999999547431766\n"
     ]
    }
   ],
   "source": [
    "# y = x^2에 대해 0 ~ 3까지의 적분을 구현해보자!\n",
    "# 1. dx = 0.001(고정 - 무한소로 가정)\n",
    "# 2. x값의 이동을 기록하도록 한다.\n",
    "# 3. y는 현재의 x값에 따라서 변한다.\n",
    "# 4. dx * y로 사각형 넓이 값을 구한다.\n",
    "# 5. 구한 모든 사각형들의 넓이를 합한다.\n",
    "# y = x^2을 적분하면 1/3x^3 + C\n",
    "# 0 ~ 3까지의 정적분은 9에 근접한 값이 나온다.\n",
    "# dx가 작으면 작을수록 정밀도가 높아진다.\n",
    "# dx가 작으면 작을수록 계산량이 많아진다.\n",
    "dx = 0.0000001\n",
    "start = 0.0\n",
    "end = 3.0\n",
    "\n",
    "loopLen = (end - start) / dx\n",
    "print(loopLen)\n",
    "\n",
    "x = 0\n",
    "y = 0\n",
    "area = 0\n",
    "\n",
    "for i in range(int(loopLen)):\n",
    "    # print(i)\n",
    "    # x의 위치에 따른 y의 높이값을 계산하는 부분\n",
    "    y = x ** 2\n",
    "    # dx는 고정값인데\n",
    "    # 실제로 x는 위치를 이동하면서 y값을 갱신해줘야함\n",
    "    # 사각형을 만들기 위해서 밑변인 dx만큼 이동을 시킨다.\n",
    "    x += dx\n",
    "    # 사각형 넓이의 합을 구한다.\n",
    "    area += dx * y\n",
    "    \n",
    "print(\"0 ~ 3까지 적분 결과는 = \" + str(area))"
   ]
  },
  {
   "cell_type": "code",
   "execution_count": 3,
   "metadata": {},
   "outputs": [
    {
     "name": "stdout",
     "output_type": "stream",
     "text": [
      "<function times at 0x00000226DC8B2B88>\n",
      "100\n"
     ]
    }
   ],
   "source": [
    "# 파이썬에서 함수를 작성하는 방법\n",
    "# 보통 함수라는 표현은 C에서 많이 사용한다.\n",
    "# 그리고 클래스 없이\n",
    "# 매서드만 혼자 떨어져있는 녀석이라고 보면 되겠다.\n",
    "\n",
    "# 1. def를 적는다.\n",
    "# 2. 함수 이름을 적는다.\n",
    "# 3. 받을 인자를 적는다.\n",
    "# 주의점 - 자바는 데이터 타입을 지정해줘야했지만\n",
    "#          파이썬은 데이터 타입을 지정할 필요가 없다.\n",
    "def times(a, b):\n",
    "    return a * b\n",
    "\n",
    "# 함수도 결국은 객체이므로 특정한 주소에 저장되어 있다.\n",
    "print(times)\n",
    "# 아래와 같이 함수를 호출하여 실행할 수 있다.\n",
    "print(times(10, 10))"
   ]
  },
  {
   "cell_type": "code",
   "execution_count": 1,
   "metadata": {},
   "outputs": [
    {
     "name": "stdout",
     "output_type": "stream",
     "text": [
      "{'__name__': '__main__', '__doc__': 'Automatically created module for IPython interactive environment', '__package__': None, '__loader__': None, '__spec__': None, '__builtin__': <module 'builtins' (built-in)>, '__builtins__': <module 'builtins' (built-in)>, '_ih': ['', '# 파이썬에서 사용하는 함수 리스트들을 보여준다.\\nprint(globals())'], '_oh': {}, '_dh': ['C:\\\\proj\\\\PythonWorkshop'], 'In': ['', '# 파이썬에서 사용하는 함수 리스트들을 보여준다.\\nprint(globals())'], 'Out': {}, 'get_ipython': <bound method InteractiveShell.get_ipython of <ipykernel.zmqshell.ZMQInteractiveShell object at 0x00000226DC730348>>, 'exit': <IPython.core.autocall.ZMQExitAutocall object at 0x00000226DC7CB488>, 'quit': <IPython.core.autocall.ZMQExitAutocall object at 0x00000226DC7CB488>, '_': '', '__': '', '___': '', '_i': '', '_ii': '', '_iii': '', '_i1': '# 파이썬에서 사용하는 함수 리스트들을 보여준다.\\nprint(globals())'}\n"
     ]
    }
   ],
   "source": [
    "# 파이썬에서 사용하는 함수 리스트들을 보여준다.\n",
    "print(globals())"
   ]
  },
  {
   "cell_type": "code",
   "execution_count": 4,
   "metadata": {},
   "outputs": [
    {
     "name": "stdout",
     "output_type": "stream",
     "text": [
      "100\n"
     ]
    }
   ],
   "source": [
    "pointerOfFunction = times\n",
    "res = pointerOfFunction(10, 10)\n",
    "print(res)"
   ]
  },
  {
   "cell_type": "code",
   "execution_count": 5,
   "metadata": {},
   "outputs": [
    {
     "name": "stdout",
     "output_type": "stream",
     "text": [
      "{'__name__': '__main__', '__doc__': 'Automatically created module for IPython interactive environment', '__package__': None, '__loader__': None, '__spec__': None, '__builtin__': <module 'builtins' (built-in)>, '__builtins__': <module 'builtins' (built-in)>, '_ih': ['', '# 파이썬에서 사용하는 함수 리스트들을 보여준다.\\nprint(globals())', 'pointerOfFunction = times\\nres = pointerOfFunction(10, 10)\\nprint(res)', '# 파이썬에서 함수를 작성하는 방법\\n# 보통 함수라는 표현은 C에서 많이 사용한다.\\n# 그리고 클래스 없이\\n# 매서드만 혼자 떨어져있는 녀석이라고 보면 되겠다.\\n\\n# 1. def를 적는다.\\n# 2. 함수 이름을 적는다.\\n# 3. 받을 인자를 적는다.\\n# 주의점 - 자바는 데이터 타입을 지정해줘야했지만\\n#          파이썬은 데이터 타입을 지정할 필요가 없다.\\ndef times(a, b):\\n    return a * b\\n\\n# 함수도 결국은 객체이므로 특정한 주소에 저장되어 있다.\\nprint(times)\\n# 아래와 같이 함수를 호출하여 실행할 수 있다.\\nprint(times(10, 10))', 'pointerOfFunction = times\\nres = pointerOfFunction(10, 10)\\nprint(res)', 'print(globals())'], '_oh': {}, '_dh': ['C:\\\\proj\\\\PythonWorkshop'], 'In': ['', '# 파이썬에서 사용하는 함수 리스트들을 보여준다.\\nprint(globals())', 'pointerOfFunction = times\\nres = pointerOfFunction(10, 10)\\nprint(res)', '# 파이썬에서 함수를 작성하는 방법\\n# 보통 함수라는 표현은 C에서 많이 사용한다.\\n# 그리고 클래스 없이\\n# 매서드만 혼자 떨어져있는 녀석이라고 보면 되겠다.\\n\\n# 1. def를 적는다.\\n# 2. 함수 이름을 적는다.\\n# 3. 받을 인자를 적는다.\\n# 주의점 - 자바는 데이터 타입을 지정해줘야했지만\\n#          파이썬은 데이터 타입을 지정할 필요가 없다.\\ndef times(a, b):\\n    return a * b\\n\\n# 함수도 결국은 객체이므로 특정한 주소에 저장되어 있다.\\nprint(times)\\n# 아래와 같이 함수를 호출하여 실행할 수 있다.\\nprint(times(10, 10))', 'pointerOfFunction = times\\nres = pointerOfFunction(10, 10)\\nprint(res)', 'print(globals())'], 'Out': {}, 'get_ipython': <bound method InteractiveShell.get_ipython of <ipykernel.zmqshell.ZMQInteractiveShell object at 0x00000226DC730348>>, 'exit': <IPython.core.autocall.ZMQExitAutocall object at 0x00000226DC7CB488>, 'quit': <IPython.core.autocall.ZMQExitAutocall object at 0x00000226DC7CB488>, '_': '', '__': '', '___': '', '_i': 'pointerOfFunction = times\\nres = pointerOfFunction(10, 10)\\nprint(res)', '_ii': '# 파이썬에서 함수를 작성하는 방법\\n# 보통 함수라는 표현은 C에서 많이 사용한다.\\n# 그리고 클래스 없이\\n# 매서드만 혼자 떨어져있는 녀석이라고 보면 되겠다.\\n\\n# 1. def를 적는다.\\n# 2. 함수 이름을 적는다.\\n# 3. 받을 인자를 적는다.\\n# 주의점 - 자바는 데이터 타입을 지정해줘야했지만\\n#          파이썬은 데이터 타입을 지정할 필요가 없다.\\ndef times(a, b):\\n    return a * b\\n\\n# 함수도 결국은 객체이므로 특정한 주소에 저장되어 있다.\\nprint(times)\\n# 아래와 같이 함수를 호출하여 실행할 수 있다.\\nprint(times(10, 10))', '_iii': 'pointerOfFunction = times\\nres = pointerOfFunction(10, 10)\\nprint(res)', '_i1': '# 파이썬에서 사용하는 함수 리스트들을 보여준다.\\nprint(globals())', '_i2': 'pointerOfFunction = times\\nres = pointerOfFunction(10, 10)\\nprint(res)', '_i3': '# 파이썬에서 함수를 작성하는 방법\\n# 보통 함수라는 표현은 C에서 많이 사용한다.\\n# 그리고 클래스 없이\\n# 매서드만 혼자 떨어져있는 녀석이라고 보면 되겠다.\\n\\n# 1. def를 적는다.\\n# 2. 함수 이름을 적는다.\\n# 3. 받을 인자를 적는다.\\n# 주의점 - 자바는 데이터 타입을 지정해줘야했지만\\n#          파이썬은 데이터 타입을 지정할 필요가 없다.\\ndef times(a, b):\\n    return a * b\\n\\n# 함수도 결국은 객체이므로 특정한 주소에 저장되어 있다.\\nprint(times)\\n# 아래와 같이 함수를 호출하여 실행할 수 있다.\\nprint(times(10, 10))', 'times': <function times at 0x00000226DC8B2B88>, '_i4': 'pointerOfFunction = times\\nres = pointerOfFunction(10, 10)\\nprint(res)', 'pointerOfFunction': <function times at 0x00000226DC8B2B88>, 'res': 100, '_i5': 'print(globals())'}\n"
     ]
    }
   ],
   "source": [
    "print(globals())"
   ]
  },
  {
   "cell_type": "code",
   "execution_count": 7,
   "metadata": {},
   "outputs": [
    {
     "name": "stdout",
     "output_type": "stream",
     "text": [
      "['a']\n",
      "['a', 'p', 'p', 'e']\n"
     ]
    }
   ],
   "source": [
    "# def가 들어있는 애들은 누군가가 실행시켜주지 않는 이상\n",
    "# 알아서 동작하지 못한다.\n",
    "# 그러므로 def가 들어있을 때는\n",
    "# 실질적으로 함수를 호출하는 구간이 나오기전까지 볼 필요 없다.\n",
    "def intersect(preList, postList):\n",
    "    retList = []\n",
    "    # preList에서 값을 하나씩 쪼개서 보낸다.\n",
    "    for x in preList:\n",
    "        # 쪼갠 값중에 postList에서 쪼갠 값과 일치하는게 있다면\n",
    "        if x in postList:\n",
    "            # retList에 해당 문자를 추가한다.\n",
    "            retList.append(x)\n",
    "            \n",
    "    return retList\n",
    "\n",
    "list1 = \"apple\"\n",
    "list2 = \"banana\"\n",
    "list3 = \"grape\"\n",
    "print(intersect(list1, list2))\n",
    "print(intersect(list1, list3))"
   ]
  },
  {
   "cell_type": "code",
   "execution_count": null,
   "metadata": {},
   "outputs": [],
   "source": []
  }
 ],
 "metadata": {
  "kernelspec": {
   "display_name": "Python 3",
   "language": "python",
   "name": "python3"
  },
  "language_info": {
   "codemirror_mode": {
    "name": "ipython",
    "version": 3
   },
   "file_extension": ".py",
   "mimetype": "text/x-python",
   "name": "python",
   "nbconvert_exporter": "python",
   "pygments_lexer": "ipython3",
   "version": "3.7.6"
  }
 },
 "nbformat": 4,
 "nbformat_minor": 4
}
