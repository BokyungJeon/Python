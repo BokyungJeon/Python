{
 "cells": [
  {
   "cell_type": "code",
   "execution_count": null,
   "metadata": {},
   "outputs": [],
   "source": [
    "# How to Install Nvidia Drivers on Ubuntu 18.04\n",
    "\n",
    "# 1. ubuntu-drivers devices\n",
    "# 2. Download Nvidia Graphics Card Driver\n",
    "###    build-essential 같은 경우는 리처드 스톨만이 만든 소프트웨어 개발 툴들임\n",
    "###    gcc - C 컴파일러, g++ - C++, gcj - 자바, gdb - 디버거,\n",
    "###    binutils - 어셈블러, 링커, cmake, make는 빌드 자동화 도구\n",
    "# 3. sudo apt-get install build-essential\n",
    "###    (gcc, gdb, g++, gcj, binutils, cmake, make 같은\n",
    "###     개발 필수 소프트웨어 자동 설치)\n",
    "###    부팅할 때 디바이스 드라이버를 모듈 형식으로 삽입한다.\n",
    "###    이때 블랙리스트 처리할 장치를 설정하는 작업\n",
    "###    ACPI - 전원 관리 모듈(디바이스 드라이버)\n",
    "###    nouveau는 리눅스에 해킹을 통해서 만든 디바이스 드라이버(모니터용)\n",
    "###    제조사가 만든 장치의 전압과 전류 차이로 컴퓨터가 오동작하는 것을 방지!\n",
    "# 4. sudo bash -c \"echo blacklist nouveau > /etc/modprobe.d/blacklist-nvidia-nouveau.conf\"\n",
    "#    sudo bash -c \"echo options nouveau modeset=0 >> /etc/modprobe.d/blacklist-nvidia-nouveau.conf\"\n",
    "# 5. cat /etc/modprobe.d/blacklist-nvidia-nouveau.conf\n",
    "###    운영체제의 ram File System을 업데이트해서\n",
    "###    사용하는 펌웨어 및 드라이버 이미지를 갱신해준다.\n",
    "# 6. sudo update-initramfs -u\n",
    "# 7. sudo reboot\n",
    "###    그래픽 드라이버를 설치하므로 그래픽 드라이버 사용을 중지하기 위한 과정\n",
    "###    순수하게 터미널 작업만 하게 된다.\n",
    "# 8. ctrl + alt + F2 or F3 .... F8\n",
    "# 9. 로그인해야 한다 - id: bitai, pw - 456123\n",
    "#    시간초 제한이 있으므로 최대한 빠르게 입력해야 처리됨\n",
    "###     현재 구동중인 그래픽 드라이버를 정지\n",
    "# 10. sudo /etc/init.d/lightdm stop\n",
    "###     리눅스 런 레벨을 3 으로 강제한다(네트워킹, 그래픽 x, 터미널)\n",
    "# 11. sudo telinit 3\n",
    "### 실행 권한을 줘야 한다.\n",
    "# 12. cd ~/Downloads 혹은 cd ~/sw\n",
    "# 13. chmod +x NVIDIA-Linux-x86_64-440.100.run\n",
    "### 첫 번째 실행을 해본다.\n",
    "# 14. sudo ./NVIDIA-Linux-x86_64-440.100.run\n",
    "### 에러 메시지를 파악하는 과정(컴퓨터마다 다름)\n",
    "### Intel의 32비트 시스템에 대한 하위 호환을 지원해줌\n",
    "# 15. sudo dpkg --add-architecture i386\n",
    "### 위의 32비트 하위 호환을 적용한 소프트웨어를 업데이트할 수 있게 된다.\n",
    "# 16. sudo apt-get update\n",
    "### 32비트 호환 C Library를 설치한다.\n",
    "# 17. sudo apt-get install libc6:i386\n",
    "### Intel Xeon 버전이라 추가로 설치해야하는 SW가 존재한다.\n",
    "# 18. sudo apt-get install libglvnd-dev\n",
    "# 19. sudo apt-get install libncurses5-dev\n",
    "# 20. sudo ./NVIDIA-Linux-x86_64-440.100.run"
   ]
  }
 ],
 "metadata": {
  "kernelspec": {
   "display_name": "Python 3",
   "language": "python",
   "name": "python3"
  },
  "language_info": {
   "codemirror_mode": {
    "name": "ipython",
    "version": 3
   },
   "file_extension": ".py",
   "mimetype": "text/x-python",
   "name": "python",
   "nbconvert_exporter": "python",
   "pygments_lexer": "ipython3",
   "version": "3.7.6"
  }
 },
 "nbformat": 4,
 "nbformat_minor": 4
}
