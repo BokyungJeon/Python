{
 "cells": [
  {
   "cell_type": "code",
   "execution_count": null,
   "metadata": {},
   "outputs": [],
   "source": [
    "# How to Install Nvidia Drivers on Ubuntu 18.04\n",
    "\n",
    "# 1. ubuntu-drivers devices\n",
    "# 2. Download Nvidia Graphics Card Driver\n",
    "# 3. sudo apt-get install build-essential\n",
    "# 4. sudo bash -c \"echo blacklist nouveau > /etc/modprobe.d/blacklist-nvidia-nouveau.conf\"\n",
    "#    sudo bash -c \"echo options nouveau modeset=0 >> /etc/modprobe.d/blacklist-nvidia-nouveau.conf\"\n",
    "# 5. cat /etc/modprobe.d/blacklist-nvidia-nouveau.conf\n",
    "# 6. sudo update-initramfs -u\n",
    "# 7. sudo reboot\n",
    "# 8. ctrl + alt + F2\n",
    "# 9. sudo /etc/init.d/lightdm stop\n",
    "# 10. NVIDIA-Linux-x86_64-410.73.run"
   ]
  }
 ],
 "metadata": {
  "kernelspec": {
   "display_name": "Python 3",
   "language": "python",
   "name": "python3"
  },
  "language_info": {
   "codemirror_mode": {
    "name": "ipython",
    "version": 3
   },
   "file_extension": ".py",
   "mimetype": "text/x-python",
   "name": "python",
   "nbconvert_exporter": "python",
   "pygments_lexer": "ipython3",
   "version": "3.7.6"
  }
 },
 "nbformat": 4,
 "nbformat_minor": 4
}
