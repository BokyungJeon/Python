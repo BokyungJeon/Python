{
 "cells": [
  {
   "cell_type": "code",
   "execution_count": 1,
   "metadata": {},
   "outputs": [],
   "source": [
    "# Ubuntu Image 다운로드 받기\n",
    "\n",
    "# 1. Ubuntu 검색\n",
    "# 2. 사이트에 들어가서 Download를 누른다.\n",
    "# 3. Download를 눌러서 Ubuntu Desktop을 누른다.\n",
    "# 4. 우측 상단에 Alternative Download를 누른다.\n",
    "# 5. ubuntu 18.04 LTS를 클릭해서 *.iso를 다운받도록 한다."
   ]
  },
  {
   "cell_type": "code",
   "execution_count": 2,
   "metadata": {},
   "outputs": [],
   "source": [
    "# USB에 Ubuntu 시동 디스크 만들기\n",
    "\n",
    "# 1. Rufus나 Universal이나 둘 중 하나를 다운로드 받는다.\n",
    "# https://rufus.ie/\n",
    "# https://www.techspot.com/downloads/6153-universal-usb-installer.html\n",
    "\n",
    "# 2. 다운받은 녀석을 실행하고 라이센스 동의한다.\n",
    "# 3. 그러면 이미지 파일을 선택하고 USB 디스크를 선택하는 부분이 나온다.\n",
    "# 4. Step 1: Ubuntu 선택\n",
    "# 5. Step 2: 다운 받은 Ubuntu 이미지를 찾아서 선택한다.\n",
    "# 6. Step 3: USB 디스크를 선택해주고 부트 디스크를 만들면 완료!\n",
    "#    (주의할 점은 포맷이 진행되므로 주요 파일은 백업을 받아야 한다)"
   ]
  },
  {
   "cell_type": "code",
   "execution_count": null,
   "metadata": {},
   "outputs": [],
   "source": []
  }
 ],
 "metadata": {
  "kernelspec": {
   "display_name": "Python 3",
   "language": "python",
   "name": "python3"
  },
  "language_info": {
   "codemirror_mode": {
    "name": "ipython",
    "version": 3
   },
   "file_extension": ".py",
   "mimetype": "text/x-python",
   "name": "python",
   "nbconvert_exporter": "python",
   "pygments_lexer": "ipython3",
   "version": "3.7.6"
  }
 },
 "nbformat": 4,
 "nbformat_minor": 4
}
