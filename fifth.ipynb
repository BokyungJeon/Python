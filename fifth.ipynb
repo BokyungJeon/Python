{
 "cells": [
  {
   "cell_type": "code",
   "execution_count": null,
   "metadata": {},
   "outputs": [],
   "source": [
    "# 1. Ubuntu 검색\n",
    "# 2. 사이트에 들어가서 Download를 누른다.\n",
    "# 3. Download를 눌러서 Ubuntu Desktop을 누른다.\n",
    "# 4. 우측 상단에 Alternative Download를 누른다.\n",
    "# 5. ubuntu 18.04 LTS를 클릭해서 *.iso를 다운받도록 한다."
   ]
  }
 ],
 "metadata": {
  "kernelspec": {
   "display_name": "Python 3",
   "language": "python",
   "name": "python3"
  },
  "language_info": {
   "codemirror_mode": {
    "name": "ipython",
    "version": 3
   },
   "file_extension": ".py",
   "mimetype": "text/x-python",
   "name": "python",
   "nbconvert_exporter": "python",
   "pygments_lexer": "ipython3",
   "version": "3.7.6"
  }
 },
 "nbformat": 4,
 "nbformat_minor": 4
}
