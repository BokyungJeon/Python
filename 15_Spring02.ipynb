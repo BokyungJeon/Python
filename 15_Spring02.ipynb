{
 "cells": [
  {
   "cell_type": "code",
   "execution_count": 1,
   "metadata": {},
   "outputs": [],
   "source": [
    "# Spring 환경 구성을 위해 jetbrains의 intellij를 설치하도록 한다.\n",
    "# 구글에서 jetbrain toolbox를 검색한다.\n",
    "# https://start.spring.io/로 이동한다.\n",
    "# 1. Project: Gradle\n",
    "# 2. Language: Java\n",
    "# 3. Name: Lecture\n",
    "# 4. Java: 11\n",
    "# 5. Dependencies: Spring Boot DevTools, Lombok, \n",
    "#    Spring Web, Spring Configuration Processor,\n",
    "#    Thymeleaf, Spring Data JPA, JDBC API,\n",
    "#    MySQL Driver, Spring Data JDB를\n",
    "# 6. 다운로드 받는다.\n",
    "# 7. unzip lecture.zip으로 압축을 해제한다.\n",
    "# 8. IntelliJ를 켜서 lecture를 import한다.\n",
    "# 9. Gradle이 JDK를 찾지 못한다면\n",
    "#    sudo apt-get update\n",
    "# 10. 사용할 수 있는 OpenJDK를 찾기 위해 아래 명령을 입력한다.\n",
    "#     sudo apt-cache search openjdk\n",
    "# 11. sudo apt-get install openjdk-11-jdk"
   ]
  },
  {
   "cell_type": "code",
   "execution_count": 2,
   "metadata": {},
   "outputs": [],
   "source": [
    "from keras.models import Sequential\n",
    "from keras.layers import Dense, Activation"
   ]
  },
  {
   "cell_type": "code",
   "execution_count": 3,
   "metadata": {},
   "outputs": [],
   "source": [
    "import numpy as np"
   ]
  },
  {
   "cell_type": "code",
   "execution_count": 4,
   "metadata": {},
   "outputs": [],
   "source": [
    "from keras.callbacks import EarlyStopping"
   ]
  },
  {
   "cell_type": "code",
   "execution_count": 5,
   "metadata": {},
   "outputs": [],
   "source": [
    "from sklearn.datasets import make_classification\n",
    "from sklearn.model_selection import train_test_split"
   ]
  },
  {
   "cell_type": "code",
   "execution_count": 6,
   "metadata": {},
   "outputs": [],
   "source": [
    "X, y = make_classification(n_samples = 500, n_features = 16, n_classes = 2)\n",
    "\n",
    "X_train, X_test, y_train, y_test = train_test_split(X, y, test_size = 0.3, random_state = 0)"
   ]
  },
  {
   "cell_type": "code",
   "execution_count": 7,
   "metadata": {},
   "outputs": [
    {
     "name": "stdout",
     "output_type": "stream",
     "text": [
      "5/5 [==============================] - 0s 787us/step - loss: 0.2919\n",
      "Test Loss = 0.2918879985809326\n"
     ]
    }
   ],
   "source": [
    "model = Sequential()\n",
    "\n",
    "model.add(Dense(16, activation = 'relu', input_dim = 16))\n",
    "model.add(Dense(8, activation = 'relu'))\n",
    "model.add(Dense(4, activation = 'tanh'))\n",
    "model.add(Dense(1, activation = 'sigmoid'))\n",
    "\n",
    "model.compile(optimizer = 'sgd', loss = 'binary_crossentropy')\n",
    "\n",
    "es_callback = EarlyStopping(monitor = 'val_loss', mode = 'min')\n",
    "\n",
    "trainRes = model.fit(X_train, y_train, validation_data = (X_test, y_test), epochs = 400, batch_size = 5, callbacks = [es_callback], verbose = 0)\n",
    "\n",
    "print(\"Test Loss =\", model.evaluate(X_test, y_test))"
   ]
  },
  {
   "cell_type": "code",
   "execution_count": 8,
   "metadata": {},
   "outputs": [
    {
     "name": "stdout",
     "output_type": "stream",
     "text": [
      "[0.7194541096687317, 0.68194580078125, 0.6562264561653137, 0.6310404539108276, 0.6029236316680908, 0.5685396790504456, 0.530420184135437, 0.49047166109085083, 0.4513942301273346, 0.41729018092155457, 0.3898431062698364, 0.36749476194381714, 0.34901300072669983, 0.33294451236724854, 0.3194844126701355, 0.30818992853164673, 0.2981052100658417, 0.2884630560874939, 0.2796523869037628, 0.2711961567401886, 0.263761043548584, 0.25737783312797546, 0.2517052888870239, 0.24669373035430908, 0.24124978482723236]\n"
     ]
    }
   ],
   "source": [
    "print(trainRes.history['loss'])"
   ]
  },
  {
   "cell_type": "code",
   "execution_count": 9,
   "metadata": {},
   "outputs": [
    {
     "name": "stdout",
     "output_type": "stream",
     "text": [
      "[0.727139949798584, 0.6914569735527039, 0.6621348261833191, 0.6347646117210388, 0.6017403602600098, 0.5656629204750061, 0.5279355645179749, 0.49012547731399536, 0.4540628492832184, 0.42329272627830505, 0.39745843410491943, 0.37637147307395935, 0.3591112494468689, 0.344329297542572, 0.3324127495288849, 0.3218790292739868, 0.3138144314289093, 0.3061310946941376, 0.3007657825946808, 0.2972390949726105, 0.29569974541664124, 0.2941496968269348, 0.2931007742881775, 0.2916472256183624, 0.291888028383255]\n"
     ]
    }
   ],
   "source": [
    "print(trainRes.history['val_loss'])"
   ]
  },
  {
   "cell_type": "code",
   "execution_count": 12,
   "metadata": {},
   "outputs": [],
   "source": [
    "from flask import Flask, jsonify\n",
    "\n",
    "import requests\n",
    "import json"
   ]
  },
  {
   "cell_type": "code",
   "execution_count": null,
   "metadata": {},
   "outputs": [],
   "source": [
    "from flask_restful import Resource, Api, reqparse\n",
    "\n",
    "app = Flask(__name__)\n",
    "api = Api(app)\n",
    "\n",
    "# localhost:8080/dataServer로 요청을 하면\n",
    "# 아래 함수가 동작을 한다는 의미!\n",
    "@app.route('/dataServer')\n",
    "def PythonServerResponse():\n",
    "    print(\"It's operate\")\n",
    "    summary = {'name': 'Hello', 'major': 'C++'}\n",
    "    pyRes = dict(trainRes.history)\n",
    "    return jsonify(pyRes)\n",
    "\n",
    "app.run()"
   ]
  },
  {
   "cell_type": "code",
   "execution_count": null,
   "metadata": {},
   "outputs": [],
   "source": []
  }
 ],
 "metadata": {
  "kernelspec": {
   "display_name": "Python 3",
   "language": "python",
   "name": "python3"
  },
  "language_info": {
   "codemirror_mode": {
    "name": "ipython",
    "version": 3
   },
   "file_extension": ".py",
   "mimetype": "text/x-python",
   "name": "python",
   "nbconvert_exporter": "python",
   "pygments_lexer": "ipython3",
   "version": "3.7.6"
  }
 },
 "nbformat": 4,
 "nbformat_minor": 4
}
