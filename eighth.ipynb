{
 "cells": [
  {
   "cell_type": "code",
   "execution_count": 1,
   "metadata": {},
   "outputs": [],
   "source": [
    "# 현재 Ubuntu 버전에서 다운로드 받아 사용할 수 있는\n",
    "# MySQL 서버 버전을 검색하는 명령어다.\n",
    "# sudo apt-cache search mysql-server\n",
    "\n",
    "# 찾은 정보중에 MySQL Server 5.7을 다운받도록 한다.\n",
    "# sudo apt-get install mysql-server-5.7\n",
    "\n",
    "# 설치 마지막쯤 나오는 경로를 기록해두도록 한다.\n",
    "# 나중에 다시 찾으려고 하면 골 아픔 ;;;\n",
    "# update-alternatives:\n",
    "# using /etc/mysql/mysql.cnf to provide \n",
    "# /etc/mysql/my.cnf (my.cnf) in auto mode\n",
    "# Renaming removed key_buffer\n",
    "# and myisam-recover options (if present)\n",
    "# Created symlink\n",
    "# /etc/systemd/system/multi-user.target.wants/mysql.service → /lib/systemd/system/mysql.service.\n",
    "\n",
    "# 현재 MySQL 서버가 잘 동작중인 확인하는 방법\n",
    "# service mysql status\n",
    "\n",
    "# 현재 구동되고 있는 MySQL 서버 프로세스를 확인하는 방법\n",
    "# ps -ef | grep mysql\n",
    "\n",
    "# 쓸모없는 정보가 같이 나오는데 걸러내는 방법\n",
    "# ps -ef | grep mysql | grep -v grep\n",
    "\n",
    "# netstat 명령어를 사용하기 위해 필요한 SW 툴\n",
    "# sudo apt-get install net-tools\n",
    "\n",
    "# 현재 구동중인 네트워크 서비스들을 확인해볼 수 있다.\n",
    "# sudo netstat -ntlp | grep mysql\n",
    "\n",
    "# 127.0.0.1:3306\n",
    "# 일반적으로 127.0.0.1이라는 주소는 localhost를 의미한다.\n",
    "# localhost란 현재 내 컴퓨터를 의미한다.\n",
    "# 그러므로 127.0.0.1:3306은\n",
    "# 현재 내 컴퓨터에서 서비스 되는 번호가 3306이라는 의미\n",
    "\n",
    "# 만약 외부에서 해당 내용을 보게 만들것이라면\n",
    "# ifconfig 명령어를 입력해서 현재 내 IP 주소를 확인할 필요가 있다.\n",
    "\n",
    "# MySQL에 루트 계정으로 접속하는 방법\n",
    "# sudo mysql -u root -p\n",
    "# 학원 비밀번호 입력하면 OK\n",
    "\n",
    "# 리눅스 세계에서는 root가 최강자\n",
    "# root는 윈도우의 관리자 권한보다 더 상위라고 보면 된다.\n",
    "# 그래서 루트 권한을 잘못 사용하면 컴퓨터 아작이 난다.\n",
    "# 그러므로 일반적인 권한을 가지고 있는 일반 사용자를 만들 필요가 있다.\n",
    "\n",
    "# MySQL에 접속한 상태에서 show databases를 하면\n",
    "# 현재 DB에 있는 모든 DB(스키마)를 구경할 수 있다.\n",
    "# show databases;\n",
    "\n",
    "# DB에 Query를 작성하다보면 화면이 지저분해질 수 있다.\n",
    "# 깔끔하게 사용하고자 한다면 화면을 지울 필요가 있다.\n",
    "# system clear\n",
    "\n",
    "# 일반적인 권한을 가진 사용자 계정을 만드는 과정\n",
    "# create user 'bitai'@localhost identified by '456123';\n",
    "\n",
    "# DB 사용하기 위한 권한을 부여해줘야 한다.\n",
    "# grant all privileges on *.* to 'bitai'@localhost identified by '456123';\n",
    "# flush privileges;\n",
    "\n",
    "# 앞서서 show databases를 통해서 스키마들을 확인했다.\n",
    "# 아래 명령은 어떤 스키마를 사용하려고 하는지를 결정하는 명령이다.\n",
    "# use pydb;\n",
    "\n",
    "# 현재 스키마에 어떤 DB 테이블들이 구성되어 있는지 보여주는 명령이다.\n",
    "# show tables;\n",
    "\n",
    "# 아래 명령을 통해서 MySQL을 종료할 수 있다.\n",
    "# quit\n",
    "\n",
    "# 아래 명령을 통해서\n",
    "# 방금 생성한 bitai 계정으로 MySQL에 접속이 가능하다.\n",
    "# mysql -u bitai -p"
   ]
  },
  {
   "cell_type": "code",
   "execution_count": null,
   "metadata": {},
   "outputs": [],
   "source": []
  },
  {
   "cell_type": "code",
   "execution_count": null,
   "metadata": {},
   "outputs": [],
   "source": []
  },
  {
   "cell_type": "code",
   "execution_count": null,
   "metadata": {},
   "outputs": [],
   "source": []
  },
  {
   "cell_type": "code",
   "execution_count": null,
   "metadata": {},
   "outputs": [],
   "source": []
  },
  {
   "cell_type": "code",
   "execution_count": null,
   "metadata": {},
   "outputs": [],
   "source": []
  },
  {
   "cell_type": "code",
   "execution_count": null,
   "metadata": {},
   "outputs": [],
   "source": []
  },
  {
   "cell_type": "code",
   "execution_count": null,
   "metadata": {},
   "outputs": [],
   "source": []
  },
  {
   "cell_type": "code",
   "execution_count": null,
   "metadata": {},
   "outputs": [],
   "source": []
  },
  {
   "cell_type": "code",
   "execution_count": null,
   "metadata": {},
   "outputs": [],
   "source": []
  },
  {
   "cell_type": "code",
   "execution_count": null,
   "metadata": {},
   "outputs": [],
   "source": []
  },
  {
   "cell_type": "code",
   "execution_count": null,
   "metadata": {},
   "outputs": [],
   "source": []
  },
  {
   "cell_type": "code",
   "execution_count": null,
   "metadata": {},
   "outputs": [],
   "source": []
  },
  {
   "cell_type": "code",
   "execution_count": null,
   "metadata": {},
   "outputs": [],
   "source": []
  },
  {
   "cell_type": "code",
   "execution_count": null,
   "metadata": {},
   "outputs": [],
   "source": []
  },
  {
   "cell_type": "code",
   "execution_count": null,
   "metadata": {},
   "outputs": [],
   "source": []
  },
  {
   "cell_type": "code",
   "execution_count": null,
   "metadata": {},
   "outputs": [],
   "source": []
  },
  {
   "cell_type": "code",
   "execution_count": null,
   "metadata": {},
   "outputs": [],
   "source": []
  },
  {
   "cell_type": "code",
   "execution_count": null,
   "metadata": {},
   "outputs": [],
   "source": []
  },
  {
   "cell_type": "code",
   "execution_count": null,
   "metadata": {},
   "outputs": [],
   "source": []
  },
  {
   "cell_type": "code",
   "execution_count": null,
   "metadata": {},
   "outputs": [],
   "source": []
  },
  {
   "cell_type": "code",
   "execution_count": null,
   "metadata": {},
   "outputs": [],
   "source": []
  }
 ],
 "metadata": {
  "kernelspec": {
   "display_name": "Python 3",
   "language": "python",
   "name": "python3"
  },
  "language_info": {
   "codemirror_mode": {
    "name": "ipython",
    "version": 3
   },
   "file_extension": ".py",
   "mimetype": "text/x-python",
   "name": "python",
   "nbconvert_exporter": "python",
   "pygments_lexer": "ipython3",
   "version": "3.7.6"
  }
 },
 "nbformat": 4,
 "nbformat_minor": 4
}
